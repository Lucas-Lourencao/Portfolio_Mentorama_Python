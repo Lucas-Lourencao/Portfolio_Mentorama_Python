{
 "cells": [
  {
   "cell_type": "markdown",
   "id": "6a3819ad",
   "metadata": {},
   "source": [
    "# 1.\tClasse Bola: Crie uma classe que modele uma bola:\n",
    "\n",
    "#### a.\tAtributos: Cor, circunferência, material\n",
    "#### b.\tMétodos: trocaCor e mostraCor\n"
   ]
  },
  {
   "cell_type": "code",
   "execution_count": 1,
   "id": "d0f192fc",
   "metadata": {},
   "outputs": [
    {
     "name": "stdout",
     "output_type": "stream",
     "text": [
      "\u001b[1;34;48m1. Classe Bola: Crie uma classe que modele uma bola\u001b[m\n",
      "a) Atributos: cor, circunferência e material.\n",
      "b) Métodos: trocaCor e mostraCor.\n"
     ]
    }
   ],
   "source": [
    "print('''\\033[1;34;48m1. Classe Bola: Crie uma classe que modele uma bola\\033[m\n",
    "a) Atributos: cor, circunferência e material.\n",
    "b) Métodos: trocaCor e mostraCor.''')"
   ]
  },
  {
   "cell_type": "code",
   "execution_count": 2,
   "id": "adc1765c",
   "metadata": {},
   "outputs": [],
   "source": [
    "# Classe, por convenção começa com letra maiúscula:\n",
    "from math import pi\n",
    "\n",
    "\n",
    "class Bola:\n",
    "    def __init__(self, cor, circunferencia, material):\n",
    "\n",
    "        # atributos\n",
    "        self.cor = cor\n",
    "        self.circunferencia = circunferencia\n",
    "        self.material = circunferencia\n",
    "\n",
    "    # métodos\n",
    "    def trocaCor(self):\n",
    "        novaCor = int(input('\\033[1;31;42mInforme um número de 1 a 5: \\033[m'))\n",
    "        while True:\n",
    "            if novaCor == 1:\n",
    "                self.cor = 'Amarelo'\n",
    "                break\n",
    "            elif novaCor == 2:\n",
    "                self.cor = 'Azul'\n",
    "                break\n",
    "            elif novaCor == 3:\n",
    "                self.cor = 'Verde'\n",
    "                break\n",
    "            elif novaCor == 4:\n",
    "                self.cor = 'Vermelho'\n",
    "                break\n",
    "            elif novaCor == 5:\n",
    "                self.cor = 'Laranja'\n",
    "                break\n",
    "            else:\n",
    "                print('\\033[1;31;44mVocê enviou um comando errado, tente novamente!\\033[m')\n",
    "                novaCor = int(input('\\033[1;31;42mInforme um número de 1 a 5: \\033[m'))\n",
    "                if novaCor == 1:\n",
    "                    self.cor = 'Amarelo'\n",
    "                    break\n",
    "                elif novaCor == 2:\n",
    "                    self.cor = 'Azul'\n",
    "                    break\n",
    "                elif novaCor == 3:\n",
    "                    self.cor = 'Verde'\n",
    "                    break\n",
    "                elif novaCor == 4:\n",
    "                    self.cor = 'Vermelho'\n",
    "                    break\n",
    "                elif novaCor == 5:\n",
    "                    self.cor = 'Laranja'\n",
    "                    break\n",
    "\n",
    "    def mostraCor(self):\n",
    "        print('\\033[1;36;48mLegal, sua bola agora é da cor {}!\\033[2;33;48m'.format(self.cor))\n",
    "\n",
    "    def novaCircunferencia(self):\n",
    "        print('\\033[1;31;42mSerá que a bola está murcha?\\033[m')\n",
    "        novoRaio = float(input('\\033[1;31;42minforme o raio da bola em cm: \\033[m'))\n",
    "        calculaCircunferencia = 2 * pi * novoRaio\n",
    "        if calculaCircunferencia < (self.circunferencia - 10):\n",
    "            print('''\\033[1;34;48mA bola está murcha! Sua circunferência é de {:.2f} cm², o ideal é que ela esteja \n",
    "entre 90 e 110 cm² de circunferência\\033[m'''.format(calculaCircunferencia))\n",
    "        elif calculaCircunferencia >= (self.circunferencia - 10) and calculaCircunferencia <= (self.circunferencia + 10):\n",
    "            print('\\033[1;34;48mShow! A bola está com a circunferência de {:.2f} cm². Formato ideal!\\033[m'.format(calculaCircunferencia))\n",
    "        else:\n",
    "            valorExcedido = calculaCircunferencia - (self.circunferencia + 10.1)\n",
    "            print('''\\033[1;34;48mOps! Talvez você tenha exagerado no enchimento, a bola está com {:.2f} de circunferência, ou seja,\n",
    "{:.2f} cm² acima da circunferência ideal.\\033[m'''.format(calculaCircunferencia, valorExcedido))\n"
   ]
  },
  {
   "cell_type": "code",
   "execution_count": 3,
   "id": "b2af8dd7",
   "metadata": {},
   "outputs": [
    {
     "name": "stdout",
     "output_type": "stream",
     "text": [
      "Informe um número de 1 a 5: 5\n",
      "\u001b[1;36;48mLegal, sua bola agora é da cor Laranja!\u001b[2;33;48m\n",
      "\u001b[1;31;42mSerá que a bola está murcha?\u001b[m\n",
      "informe o raio da bola em cm: 30\n",
      "\u001b[1;34;48mOps! Talvez você tenha exagerado no enchimento, a bola está com 188.50 de circunferência, ou seja,\n",
      "78.40 cm² acima da circunferência ideal.\u001b[m\n"
     ]
    }
   ],
   "source": [
    "bola_1 = Bola('cinza', 100, 'couro sintético')\n",
    "\n",
    "bola_1.trocaCor()\n",
    "bola_1.mostraCor()\n",
    "\n",
    "#extra\n",
    "bola_1.novaCircunferencia()"
   ]
  },
  {
   "cell_type": "markdown",
   "id": "81ed4336",
   "metadata": {},
   "source": [
    "# 2.\tClasse Quadrado: Crie uma classe que modele um quadrado:\n",
    "#### a.\tAtributos: Tamanho do lado\n",
    "#### b.\tMétodos: Mudar valor do Lado, Retornar valor do Lado e calcular Área;\n"
   ]
  },
  {
   "cell_type": "code",
   "execution_count": 4,
   "id": "9173596c",
   "metadata": {},
   "outputs": [
    {
     "name": "stdout",
     "output_type": "stream",
     "text": [
      "\u001b[2;34;48m2. Classe Quadrado: Crie uma classe que modele um qudrado\u001b[m\n",
      "a) Atributos: tamanho do lado.\n",
      "b) Métodos: mudar valor do lado, retornar valor do lado e calcular a area.\n"
     ]
    }
   ],
   "source": [
    "print('''\\033[2;34;48m2. Classe Quadrado: Crie uma classe que modele um qudrado\\033[m\n",
    "a) Atributos: tamanho do lado.\n",
    "b) Métodos: mudar valor do lado, retornar valor do lado e calcular a area.''')"
   ]
  },
  {
   "cell_type": "code",
   "execution_count": 5,
   "id": "3e2c3e99",
   "metadata": {},
   "outputs": [],
   "source": [
    "from math import pow\n",
    "\n",
    "\n",
    "# Classe, por convenção começa com letra maiúscula:\n",
    "class Quadrado:\n",
    "    def __init__(self, tamanhoLado):\n",
    "\n",
    "        # atributos\n",
    "        self.tamanhoLado = tamanhoLado\n",
    "\n",
    "    # métodos\n",
    "    def novoLado(self):\n",
    "            self.tamanhoLado = float(input('\\033[1;31;44mInforme o valor do lado do quadrado: \\033[m'))\n",
    "            print('\\033[1;34;48mO lado do quadrado foi alterado com sucesso!\\033[m')\n",
    "\n",
    "    def mostraNovoLado(self):\n",
    "        print('\\033[1;34;48mO novo lado do quadrado é: {:.2f} m.\\033[m'.format(self.tamanhoLado))\n",
    "\n",
    "    def novaArea(self):\n",
    "        calculoNovaArea = pow(self.tamanhoLado, 2)\n",
    "        print('\\033[1;34;48mUm quadrado de {:.2f}m de lado tem área igual a {:.2f}m².\\033[m'.format(self.tamanhoLado, calculoNovaArea))"
   ]
  },
  {
   "cell_type": "code",
   "execution_count": 6,
   "id": "87d501dd",
   "metadata": {},
   "outputs": [
    {
     "name": "stdout",
     "output_type": "stream",
     "text": [
      "Informe o valor do lado do quadrado: 10\n",
      "\u001b[1;34;48mO lado do quadrado foi alterado com sucesso!\u001b[m\n",
      "\u001b[1;34;48mO novo lado do quadrado é: 10.00 m.\u001b[m\n",
      "\u001b[1;34;48mUm quadrado de 10.00m de lado tem área igual a 100.00m².\u001b[m\n"
     ]
    }
   ],
   "source": [
    "quadrado_1 = Quadrado(2)\n",
    "\n",
    "quadrado_1.novoLado()\n",
    "quadrado_1.mostraNovoLado()\n",
    "quadrado_1.novaArea()"
   ]
  },
  {
   "cell_type": "markdown",
   "id": "9f4f8b11",
   "metadata": {},
   "source": [
    "# 3.\tClasse Retangulo: Crie uma classe que modele um retangulo:\n",
    "#### a.\tAtributos: LadoA, LadoB (ou Comprimento e Largura, ou Base e Altura, a escolher)\n",
    "#### b.\tMétodos: Mudar valor dos lados, Retornar valor dos lados, calcular Área e calcular Perímetro;\n",
    "#### c.\tCrie um programa que utilize esta classe. Ele deve pedir ao usuário que informe as medidades de um local. Depois, deve criar um objeto com as medidas e calcular a quantidade de pisos e de rodapés necessárias para o local.\n"
   ]
  },
  {
   "cell_type": "code",
   "execution_count": 7,
   "id": "59edfd92",
   "metadata": {},
   "outputs": [
    {
     "name": "stdout",
     "output_type": "stream",
     "text": [
      "\u001b[2;34;48m3. Classe Retângulo: Crie uma classe que modele um Retângulo\u001b[m\n",
      "a) Atributos: tamanho dos lados (Base e Altura)\n",
      "b) Métodos: mudar valor dos lados, retornar valor dos lados e calcular a area e calcular perímetro.\n",
      "c) Crie um programa que utilize esta classe. Ele deve perguntar ao usuário as medidas de um local. Depois deve criar \n",
      "um objeto com as medidas e calcular a quantidade de pisos e rodapé par ao local informado.\n"
     ]
    }
   ],
   "source": [
    "print('''\\033[2;34;48m3. Classe Retângulo: Crie uma classe que modele um Retângulo\\033[m\n",
    "a) Atributos: tamanho dos lados (Base e Altura)\n",
    "b) Métodos: mudar valor dos lados, retornar valor dos lados e calcular a area e calcular perímetro.\n",
    "c) Crie um programa que utilize esta classe. Ele deve perguntar ao usuário as medidas de um local. Depois deve criar \n",
    "um objeto com as medidas e calcular a quantidade de pisos e rodapé par ao local informado.''')"
   ]
  },
  {
   "cell_type": "code",
   "execution_count": 8,
   "id": "4003bdd6",
   "metadata": {},
   "outputs": [
    {
     "name": "stdout",
     "output_type": "stream",
     "text": [
      "Informe o valor da base do retângulo: 10\n",
      "\u001b[1;34;48mA base do retângulo foi alterado com sucesso!\u001b[m\n",
      "Informe o valor da altura do retângulo: 15\n",
      "\u001b[1;34;48mA altura do retângulo foi alterado com sucesso!\u001b[m\n",
      "\u001b[1;34;48mOs novos lados do retângulo são: base de 10.00m e altura de 15.00m.\u001b[m\n",
      "\u001b[1;34;48m\n",
      "Com base nos dados informados pelo cliente, temos que serão necessários:\u001b[m\n",
      "1) 50.00m de rodapé e;\n",
      "2) 150.00m² de piso para área informada\n"
     ]
    }
   ],
   "source": [
    "# Classe, por convenção começa com letra maiúscula:\n",
    "class Retangulo:\n",
    "    def __init__(self, base, altura):\n",
    "\n",
    "        # atributos\n",
    "        self.base = base\n",
    "        self.altura = altura\n",
    "\n",
    "    # métodos\n",
    "    def alteraLados(self):\n",
    "        self.base = float(input('\\033[1;31;44mInforme o valor da base do retângulo: \\033[m'))\n",
    "        print('\\033[1;34;48mA base do retângulo foi alterado com sucesso!\\033[m')\n",
    "        self.altura = float(input('\\033[1;31;44mInforme o valor da altura do retângulo: \\033[m'))\n",
    "        print('\\033[1;34;48mA altura do retângulo foi alterado com sucesso!\\033[m')\n",
    "\n",
    "    def mostraNovoLado(self):\n",
    "        print('\\033[1;34;48mOs novos lados do retângulo são: base de {:.2f}m e altura de {:.2f}m.\\033[m'.format(self.base, self.altura))\n",
    "\n",
    "    def novaArea(self):\n",
    "        calculoNovaArea = self.base * self.altura\n",
    "        calculaPerimetro = 2 * (self.base + self.altura)\n",
    "        print('''\\033[1;34;48m\n",
    "Com base nos dados informados pelo cliente, temos que serão necessários:\\033[m\n",
    "1) {:.2f}m de rodapé e;\n",
    "2) {:.2f}m² de piso para área informada'''.format(calculaPerimetro, calculoNovaArea))\n",
    "\n",
    "retangulo_1 = Retangulo(4, 6)\n",
    "\n",
    "retangulo_1.alteraLados()\n",
    "retangulo_1.mostraNovoLado()\n",
    "retangulo_1.novaArea()"
   ]
  },
  {
   "cell_type": "markdown",
   "id": "f34f12fc",
   "metadata": {},
   "source": [
    "# 4.\tClasse Pessoa: Crie uma classe que modele uma pessoa:\n",
    "#### a.\tAtributos: nome, idade, peso e altura\n",
    "#### b.\tMétodos: Envelhercer, engordar, emagrecer, crescer. Obs: Por padrão, a cada ano que nossa pessoa envelhece, sendo a idade dela menor que 21 anos, ela deve crescer 0,5 cm.\n"
   ]
  },
  {
   "cell_type": "code",
   "execution_count": 9,
   "id": "d60ff306",
   "metadata": {},
   "outputs": [
    {
     "name": "stdout",
     "output_type": "stream",
     "text": [
      "\u001b[2;34;48m4. Classe Pessoa: Crie uma classe que modele uma pessoa:\u001b[m\n",
      "a) Atributos: nome, idade, peso e altura\n",
      "b) Métodos: Envelhercer, engordar, emagrecer, crescer. \n",
      "Obs: Por padrão, a cada ano que nossa pessoa envelhece, \n",
      "sendo a idade dela menor que 21 anos, ela deve crescer 0,5 cm.\n",
      "\n"
     ]
    }
   ],
   "source": [
    "print('''\\033[2;34;48m4. Classe Pessoa: Crie uma classe que modele uma pessoa:\\033[m\n",
    "a) Atributos: nome, idade, peso e altura\n",
    "b) Métodos: Envelhercer, engordar, emagrecer, crescer. \n",
    "Obs: Por padrão, a cada ano que nossa pessoa envelhece, \n",
    "sendo a idade dela menor que 21 anos, ela deve crescer 0,5 cm.\n",
    "''')"
   ]
  },
  {
   "cell_type": "code",
   "execution_count": 10,
   "id": "83ffe12b",
   "metadata": {},
   "outputs": [],
   "source": [
    "from math import pow\n",
    "# Classe, por convenção começa com letra maiúscula:\n",
    "class Pessoa:\n",
    "    def __init__(self, nome, idade, peso, altura):\n",
    "\n",
    "        # atributos\n",
    "        self.idadeAntiga = idade\n",
    "        self.nome = nome\n",
    "        self.idade = idade\n",
    "        self.peso = peso\n",
    "        self.altura = altura\n",
    "\n",
    "    # métodos\n",
    "    def envelhecer(self):\n",
    "        self.idade += 1\n",
    "        print('''\\033[1;34;48m{},Parabéns! Você fez {} anos.\\033[m\n",
    "'''.format(self.nome, self.idade))\n",
    "\n",
    "    def engordar(self):\n",
    "        self.peso += 2\n",
    "        imc = self.peso / pow(self.altura, 2)\n",
    "        if imc < 18.5:\n",
    "            print('''\\033[1;31;48mVocê precisa se alimentar melhor! Seu IMC está em {:.2f} você está abaixo de 18.5.\\033[m\n",
    "'''.format(imc))\n",
    "        elif imc >= 18.5 and imc <= 25.5:\n",
    "            print('''\\033[1;32;48mParabéns, seu IMC está em {:.2f} você está no peso ideal!\\033[m\n",
    "'''.format(imc))\n",
    "        elif imc > 25.5 and imc <= 30:\n",
    "            print('''\\033[1;30;40mAtenção!\\033[m\\033[2;33;48m Seu IMC está em {:.2f} indicando sobrepeso. \n",
    "É hora de segurar a alimentação e intensificar a atividade física!\\033[m\n",
    "'''.format(imc))\n",
    "        else:\n",
    "            print('''\\033[1;30;41mCuidado!\\033[m\\033[2;33;48m Seu IMC está em {:.2f} e indica obesidade. \n",
    "Hora de procurar ajuda nutricional e esportiva!\\033[m\n",
    "'''.format(imc))\n",
    "\n",
    "\n",
    "    def emagrecer(self):\n",
    "            self.peso -= 1\n",
    "            imc = self.peso / pow(self.altura, 2)\n",
    "            if imc < 18.5:\n",
    "                print('''\\033[1;31;48mVocê precisa se alimentar melhor! Seu IMC está em {:.2f} você está abaixo de 18.5.\\033[m\n",
    "'''.format(imc))\n",
    "            elif imc >= 18.5 and imc <= 25.5:\n",
    "                print('''\\033[1;32;48mParabéns, seu IMC está em {:.2f} você está no peso ideal!\\033[m\n",
    "'''.format(imc))\n",
    "            elif imc > 25.5 and imc <= 30:\n",
    "                print('''\\033[1;30;41mAtenção!\\033[m\\033[2;33;48m Seu IMC está em {:.2f} indicando sobrepeso. \n",
    "É hora de segurar a alimentação e intensificar a atividade física!\\033[m\n",
    "'''.format(imc))\n",
    "            else:\n",
    "                print('''\\033[1;30;41mCuidado!\\033[m\\033[2;33;48m Seu IMC está em {:.2f} e indica obesidade. \n",
    "Hora de procurar ajuda nutricional e esportiva!\\033[m\n",
    "'''.format(imc))\n",
    "\n",
    "    def crescer(self):\n",
    "            if (self.idade - self.idadeAntiga) > 0 and (self.idade < 21):\n",
    "                self.altura += 0.05\n",
    "                print('''\\033[1;34;48mVocê cresceu meio cm e agora está com {:.2f}m de altura.\\033[m\n",
    "'''.format(self.altura))\n",
    "            else:\n",
    "                print('''\\033[1;34;48mVocê tem mais de 21 anos e, portanto, já chegou no limite de crecimento.\\033[m\n",
    "''')"
   ]
  },
  {
   "cell_type": "code",
   "execution_count": 11,
   "id": "c430c1ac",
   "metadata": {},
   "outputs": [
    {
     "name": "stdout",
     "output_type": "stream",
     "text": [
      "\u001b[1;34;48mLucas,Parabéns! Você fez 19 anos.\u001b[m\n",
      "\n",
      "\u001b[1;32;48mParabéns, seu IMC está em 25.42 você está no peso ideal!\u001b[m\n",
      "\n",
      "\u001b[1;32;48mParabéns, seu IMC está em 25.13 você está no peso ideal!\u001b[m\n",
      "\n",
      "\u001b[1;34;48mVocê cresceu meio cm e agora está com 1.90m de altura.\u001b[m\n",
      "\n"
     ]
    }
   ],
   "source": [
    "pessoa_1 = Pessoa('Lucas', 18, 85, 1.85)\n",
    "\n",
    "pessoa_1.envelhecer()\n",
    "pessoa_1.engordar()\n",
    "pessoa_1.emagrecer()\n",
    "pessoa_1.crescer()"
   ]
  },
  {
   "cell_type": "code",
   "execution_count": 12,
   "id": "6ec384be",
   "metadata": {},
   "outputs": [
    {
     "name": "stdout",
     "output_type": "stream",
     "text": [
      "\u001b[1;34;48mMarina,Parabéns! Você fez 3 anos.\u001b[m\n",
      "\n",
      "\u001b[1;32;48mParabéns, seu IMC está em 21.87 você está no peso ideal!\u001b[m\n",
      "\n",
      "\u001b[1;32;48mParabéns, seu IMC está em 20.31 você está no peso ideal!\u001b[m\n",
      "\n",
      "\u001b[1;34;48mVocê cresceu meio cm e agora está com 0.85m de altura.\u001b[m\n",
      "\n"
     ]
    }
   ],
   "source": [
    "pessoa_2 = Pessoa('Marina', 2, 12, 0.8)\n",
    "\n",
    "pessoa_2.envelhecer()\n",
    "pessoa_2.engordar()\n",
    "pessoa_2.emagrecer()\n",
    "pessoa_2.crescer()"
   ]
  },
  {
   "cell_type": "markdown",
   "id": "e178633f",
   "metadata": {},
   "source": [
    "# 5.\tCrie um programa que tenha uma classe Carro. Este programa deve ter no mínimo 3 propriedades para a classe carro e no mínimo 3 métodos para ela, sendo um destes métodos para imprimir todos os dados de um carro.\n",
    "#### a.\tCrie 3 objetos para carros diferentes que recebem como entrada os parâmetros das propriedades que você definiu\n",
    "#### b.\tConsulte cada um desses parâmetros para cada um dos objetos criados no exercício anterior\n",
    "#### c.\tChame cada um dos métodos criados para verificar o correto funcionamento\n"
   ]
  },
  {
   "cell_type": "code",
   "execution_count": 13,
   "id": "a73feedf",
   "metadata": {},
   "outputs": [
    {
     "name": "stdout",
     "output_type": "stream",
     "text": [
      "\u001b[2;34;48m5. Crie um programa que tenha uma classe Carro. Este programa deve ter no mínimo 3 propriedades \n",
      "para a classe carro e no mínimo 3 métodos para ela, sendo um destes métodos para imprimir todos os dados de um carro.\u001b[m\n",
      "a) Crie 3 objetos para carros diferentes que recebem como entrada os parâmetros das propriedades que você definiu\n",
      "b) Consulte cada um desses parâmetros para cada um dos objetos criados no exercício anterior\n",
      "c) Chame cada um dos métodos criados para verificar o correto funcionamento\n"
     ]
    }
   ],
   "source": [
    "print('''\\033[2;34;48m5. Crie um programa que tenha uma classe Carro. Este programa deve ter no mínimo 3 propriedades \n",
    "para a classe carro e no mínimo 3 métodos para ela, sendo um destes métodos para imprimir todos os dados de um carro.\\033[m\n",
    "a) Crie 3 objetos para carros diferentes que recebem como entrada os parâmetros das propriedades que você definiu\n",
    "b) Consulte cada um desses parâmetros para cada um dos objetos criados no exercício anterior\n",
    "c) Chame cada um dos métodos criados para verificar o correto funcionamento''')\n"
   ]
  },
  {
   "cell_type": "code",
   "execution_count": 14,
   "id": "bd13af26",
   "metadata": {},
   "outputs": [
    {
     "name": "stdout",
     "output_type": "stream",
     "text": [
      "\u001b[1;34;48mEste é um carro da marca Ka, ano 2015 e é um modelo Hatch\u001b[m\n",
      "\u001b[1;32;48mVocê pegou um modelo mais novo! \n",
      "Trocou um Hatch 2015 por um Hatch 2016!\n",
      "Você trocou seu Hatch por um Sedan.\n",
      "            \n",
      "\u001b[1;34;48mEste é um carro da marca Voyage, ano 2017 e é um modelo Sedan\u001b[m\n",
      "\u001b[1;32;48mVocê pegou um modelo mais novo! \n",
      "Trocou um Sedan 2017 por um Sedan 2018!\n",
      "Você trocou seu Sedan por um Hatch.\u001b[m\n",
      "            \n",
      "\u001b[1;34;48mEste é um carro da marca Ka, ano 2018 e é um modelo Sedan\u001b[m\n",
      "\u001b[1;32;48mVocê pegou um modelo mais novo! \n",
      "Trocou um Sedan 2018 por um Sedan 2019!\n",
      "Você trocou seu Sedan por um Hatch.\u001b[m\n",
      "            \n"
     ]
    }
   ],
   "source": [
    "# Classe, por convenção começa com letra maiúscula:\n",
    "class Carro:\n",
    "    def __init__(self, marca, ano, modelo):\n",
    "\n",
    "        # atributos\n",
    "        self.marca = marca\n",
    "        self.ano = ano\n",
    "        self.modelo = modelo\n",
    "\n",
    "    # métodos\n",
    "    def mostraDados(self):\n",
    "        print('''\\033[1;34;48mEste é um carro da marca {}, ano {} e é um modelo {}\\033[m'''.format(self.marca, self.ano, self.modelo))\n",
    "\n",
    "    def trocaAno(self):\n",
    "        self.ano += 1\n",
    "        print('''\\033[1;32;48mVocê pegou um modelo mais novo! \n",
    "Trocou um {} {} por um {} {}!'''.format(self.modelo, (self.ano -1), self.modelo, self.ano))\n",
    "\n",
    "    def trocaModelo(self):\n",
    "        if self.modelo.lower() == 'hatch':\n",
    "            self.modelo = 'Sedan'\n",
    "            print('''Você trocou seu Hatch por um Sedan.\n",
    "            ''')\n",
    "        elif self.modelo.lower() == 'sedan':\n",
    "            self.modelo = 'Hatch'\n",
    "            print('''Você trocou seu Sedan por um Hatch.\\033[m\n",
    "            ''')\n",
    "        else:\n",
    "            print('\\033[1;31;44mModelo não encontrado!\\033[m')\n",
    "\n",
    "carro_1 = Carro('Ka', 2015, 'Hatch')\n",
    "\n",
    "carro_1.mostraDados()\n",
    "carro_1.trocaAno()\n",
    "carro_1.trocaModelo()\n",
    "\n",
    "carro_2 = Carro('Voyage', 2017, 'Sedan')\n",
    "\n",
    "carro_2.mostraDados()\n",
    "carro_2.trocaAno()\n",
    "carro_2.trocaModelo()\n",
    "\n",
    "carro_3 = Carro('Ka', 2018, 'Sedan')\n",
    "\n",
    "carro_3.mostraDados()\n",
    "carro_3.trocaAno()\n",
    "carro_3.trocaModelo()"
   ]
  },
  {
   "cell_type": "markdown",
   "id": "fe6d4fad",
   "metadata": {},
   "source": [
    "# 6.\tClasse Conta Corrente: Crie uma classe para implementar uma conta corrente. A classe deve possuir os seguintes atributos: número da conta, nome do correntista e saldo. Os métodos são os seguintes: alterarNome, depósito e saque; No construtor, saldo é opcional, com valor default zero e os demais atributos são obrigatórios."
   ]
  },
  {
   "cell_type": "code",
   "execution_count": 15,
   "id": "56656f2c",
   "metadata": {},
   "outputs": [
    {
     "name": "stdout",
     "output_type": "stream",
     "text": [
      "\u001b[2;34;48m6. Classe Conta Corrente: Crie uma classe para implementar uma conta corrente. \n",
      "A classe deve possuir os seguintes\u001b[m \n",
      "Atributos: número da conta, nome do correntista e saldo. \n",
      "Métodos: alterarNome, depósito e saque; No construtor, saldo é opcional, com valor default zero \n",
      "e os demais atributos são obrigatórios.\n"
     ]
    }
   ],
   "source": [
    "print('''\\033[2;34;48m6. Classe Conta Corrente: Crie uma classe para implementar uma conta corrente. \n",
    "A classe deve possuir os seguintes\\033[m \n",
    "Atributos: número da conta, nome do correntista e saldo. \n",
    "Métodos: alterarNome, depósito e saque; No construtor, saldo é opcional, com valor default zero \n",
    "e os demais atributos são obrigatórios.''')"
   ]
  },
  {
   "cell_type": "code",
   "execution_count": 16,
   "id": "139f9a35",
   "metadata": {},
   "outputs": [
    {
     "name": "stdout",
     "output_type": "stream",
     "text": [
      "Alterar nome: Lucas Lourenção\n",
      "\u001b[1;34;48mOk Lucas Lourenção, seu nome foi alterado com sucesso!\u001b[m\n",
      "Informe o valor do depósito: 100\n",
      "\u001b[1;32;48m\n",
      "Você fez um deposito de R$ 100.00 e o saldo da sua conta corrente é de R$ 100.00!\u001b[m\n",
      "Informe o valor do saque: 101\n",
      "\u001b[1;31;44mSALDO INSUFICIENTE!. Você pode sacar até R$ 100.0.\u001b[m\n",
      "Informe o valor do saque: 100\n",
      "\u001b[1;32;48mVocê fez um saque de R$ 100.00 e o saldo da sua conta corrente é de R$ 0.00!\u001b[m\n"
     ]
    }
   ],
   "source": [
    "# Classe, por convenção começa com letra maiúscula:\n",
    "class Contacorrente:\n",
    "    def __init__(self, numConta, nomeCorrentista, novoSaldo):\n",
    "\n",
    "        # atributos\n",
    "        self.numConta = numConta\n",
    "        self.nomeCorrentista = nomeCorrentista\n",
    "        self.novoSaldo = novoSaldo\n",
    "\n",
    "    # métodos\n",
    "    def trocaNome(self):\n",
    "        self.nomeCorrentista = input('Alterar nome: ')\n",
    "        print('''\\033[1;34;48mOk {}, seu nome foi alterado com sucesso!\\033[m'''.format(self.nomeCorrentista))\n",
    "\n",
    "    def novoDeposito(self):\n",
    "        deposito = float(input('Informe o valor do depósito: '))\n",
    "        self.novoSaldo += deposito\n",
    "        print('''\\033[1;32;48m\n",
    "Você fez um deposito de R$ {:.2f} e o saldo da sua conta corrente é de R$ {:.2f}!\\033[m'''.format(deposito,  self.novoSaldo))\n",
    "\n",
    "    def novoSaque(self):\n",
    "        saque = float(input('Informe o valor do saque: '))\n",
    "        self.novoSaldo -= saque\n",
    "        while self.novoSaldo < 0:\n",
    "            self.novoSaldo += saque\n",
    "            print('\\033[1;31;44mSALDO INSUFICIENTE!. Você pode sacar até R$ {}.\\033[m'.format(self.novoSaldo))\n",
    "            saque = float(input('Informe o valor do saque: '))\n",
    "            self.novoSaldo -= saque\n",
    "        print('''\\033[1;32;48mVocê fez um saque de R$ {:.2f} e o saldo da sua conta corrente é de R$ {:.2f}!\\033[m'''.format(saque,  self.novoSaldo))\n",
    "\n",
    "cc_1 = Contacorrente(123456, 'Lucas', 0)\n",
    "\n",
    "cc_1.trocaNome()\n",
    "cc_1.novoDeposito()\n",
    "cc_1.novoSaque()"
   ]
  },
  {
   "cell_type": "markdown",
   "id": "e245e433",
   "metadata": {},
   "source": [
    "# 7.\tClasse TV: Faça um programa que simule um televisor criando-o como um objeto. O usuário deve ser capaz de informar o número do canal e aumentar ou diminuir o volume. Certifique-se de que o número do canal e o nível do volume permanecem dentro de faixas válidas."
   ]
  },
  {
   "cell_type": "code",
   "execution_count": 17,
   "id": "4986d6ca",
   "metadata": {},
   "outputs": [
    {
     "name": "stdout",
     "output_type": "stream",
     "text": [
      "\u001b[2;34;48m7. Classe TV: Faça um programa que simule um televisor criando-o como um objeto.\u001b[m \n",
      "O usuário deve ser capaz de informar o número do canal e aumentar ou diminuir o volume. \n",
      "Certifique-se de que o número do canal e o nível do volume permanecem dentro de faixas válidas.\n"
     ]
    }
   ],
   "source": [
    "print('''\\033[2;34;48m7. Classe TV: Faça um programa que simule um televisor criando-o como um objeto.\\033[m \n",
    "O usuário deve ser capaz de informar o número do canal e aumentar ou diminuir o volume. \n",
    "Certifique-se de que o número do canal e o nível do volume permanecem dentro de faixas válidas.''')"
   ]
  },
  {
   "cell_type": "code",
   "execution_count": 18,
   "id": "383d606f",
   "metadata": {},
   "outputs": [
    {
     "name": "stdout",
     "output_type": "stream",
     "text": [
      "\u001b[1;34;48mVocê está no Canal 2 e o Volume da TV é 0.\u001b[m\n",
      "Informe o número do canal que deseja: 101\n",
      "\u001b[1;31;44mCanal indisponível!\u001b[m\n",
      "Informe o número do canal: 100\n",
      "\u001b[1;32;48mVocê está no canal 100.\u001b[m\n",
      "\u001b[1;31;48mVolume Mín atingido: 0\u001b[m\n",
      "\u001b[1;32;48mVolume  1.\u001b[m\n",
      "\u001b[1;32;48mVolume  2.\u001b[m\n",
      "\u001b[1;34;48mVocê está no Canal 5 e o Volume da TV é 40.\u001b[m\n",
      "Informe o número do canal que deseja: 32\n",
      "\u001b[1;32;48mVocê está no canal 32.\u001b[m\n",
      "\u001b[1;31;48mVolume Máx atingido: 40\u001b[m\n",
      "\u001b[1;32;48mVolume  39.\u001b[m\n",
      "\u001b[1;32;48mVolume  38.\u001b[m\n"
     ]
    }
   ],
   "source": [
    "# Classe, por convenção começa com letra maiúscula:\n",
    "class Televisao:\n",
    "    def __init__(self, canal, volume):\n",
    " \n",
    "        #atributos\n",
    "        self.canal = canal\n",
    "        self.volume = volume\n",
    "\n",
    "    #metodos\n",
    "    def mostraAtributos(self):\n",
    "        print('\\033[1;34;48mVocê está no Canal {} e o Volume da TV é {}.\\033[m'.format(self.canal, self.volume))\n",
    "\n",
    "    def trocaCanal(self):\n",
    "        self.canal = int(input('\\033[2;34;48mInforme o número do canal que deseja: ')) \n",
    "        while self.canal > 100:\n",
    "            print('\\033[1;31;44mCanal indisponível!\\033[m')\n",
    "            self.canal = int(input('Informe o número do canal: ')) \n",
    "        print('\\033[1;32;48mVocê está no canal {}.\\033[m'.format(self.canal))\n",
    "\n",
    "    def sobeVolume(self):\n",
    "        self.volume += 1\n",
    "        if self.volume > 40:\n",
    "            print('\\033[1;31;48mVolume Máx atingido: 40\\033[m')\n",
    "            self.volume -= 1\n",
    "        else:\n",
    "            print('\\033[1;32;48mVolume  {}.\\033[m'.format(self.volume))\n",
    "  \n",
    "    def reduzVolume(self):\n",
    "        self.volume -= 1\n",
    "        if self.volume < 0:\n",
    "            print('\\033[1;31;48mVolume Mín atingido: 0\\033[m')\n",
    "            self.volume += 1\n",
    "        else:\n",
    "            print('\\033[1;32;48mVolume  {}.\\033[m'.format(self.volume))\n",
    "                \n",
    "tv_1 = Televisao(2, 0)\n",
    "\n",
    "tv_1.mostraAtributos()\n",
    "tv_1.trocaCanal()\n",
    "tv_1.reduzVolume()\n",
    "tv_1.sobeVolume()\n",
    "tv_1.sobeVolume()\n",
    "\n",
    "tv_2 = Televisao(5, 40)\n",
    "\n",
    "tv_2.mostraAtributos()\n",
    "tv_2.trocaCanal()\n",
    "tv_2.sobeVolume()\n",
    "tv_2.reduzVolume()\n",
    "tv_2.reduzVolume()"
   ]
  },
  {
   "cell_type": "markdown",
   "id": "5a955bfc",
   "metadata": {},
   "source": [
    "# 8.\tClasse Bomba de Combustível: Faça um programa completo utilizando classes e métodos que:\n",
    "#### a.\tPossua uma classe chamada bombaCombustível, com no mínimo esses atributos:\n",
    "i.\ttipoCombustivel.\n",
    "\n",
    "ii.\tvalorLitro\n",
    "\n",
    "iii.\tquantidadeCombustivel\n",
    "\n",
    "#### b.\tPossua no mínimo esses métodos:\n",
    "i.\tabastecerPorValor( ) – método onde é informado o valor a ser abastecido e mostra a quantidade de litros que foi colocada no veículo\n",
    "\n",
    "ii.\tabastecerPorLitro( ) – método onde é informado a quantidade em litros de combustível e mostra o valor a ser pago pelo cliente.\n",
    "\n",
    "iii.\talterarValor( ) – altera o valor do litro do combustível.\n",
    "\n",
    "iv.\talterarCombustivel( ) – altera o tipo do combustível.\n",
    "\n",
    "v.\talterarQuantidadeCombustivel( ) – altera a quantidade de combustível restante na bomba.\n",
    "\n",
    "\n",
    "OBS: Sempre que acontecer um abastecimento é necessário atualizar a quantidade de combustível total na bomba.\n",
    "\n",
    "\n"
   ]
  },
  {
   "cell_type": "code",
   "execution_count": 19,
   "id": "76151953",
   "metadata": {},
   "outputs": [
    {
     "name": "stdout",
     "output_type": "stream",
     "text": [
      "\u001b[2;34;48m8. Classe Bomba de Combustível: Faça um programa completo utilizando classes e métodos que:\u001b[m\n",
      "\u001b[2;34;48ma.   Possua uma classe chamada bombaCombustível, com no mínimo esses atributos:\u001b[m\n",
      "i.   tipoCombustivel.\n",
      "ii.  valorLitro\n",
      "iii. quantidadeCombustivel\n",
      "\u001b[2;34;48mb.   Possua no mínimo esses métodos:\u001b[m\n",
      "i.   bastecerPorValor( ) – método onde é informado o valor a ser abastecido e mostra a quantidade de litros que foi \n",
      "     colocada no veículo\n",
      "ii.  abastecerPorLitro( ) – método onde é informado a quantidade em litros de combustível e mostra o valor a ser pago \n",
      "     pelo cliente.\n",
      "iii. alterarValor( ) – altera o valor do litro do combustível.\n",
      "iv.  alterarCombustivel( ) – altera o tipo do combustível.\n",
      "v.   alterarQuantidadeCombustivel( ) – altera a quantidade de combustível restante na bomba.\n",
      "\n",
      "OBS: Sempre que acontecer um abastecimento é necessário atualizar a quantidade de combustível total na bomba.\n",
      "\n"
     ]
    }
   ],
   "source": [
    "print('''\\033[2;34;48m8. Classe Bomba de Combustível: Faça um programa completo utilizando classes e métodos que:\\033[m\n",
    "\\033[2;34;48ma.   Possua uma classe chamada bombaCombustível, com no mínimo esses atributos:\\033[m\n",
    "i.   tipoCombustivel.\n",
    "ii.  valorLitro\n",
    "iii. quantidadeCombustivel\n",
    "\\033[2;34;48mb.   Possua no mínimo esses métodos:\\033[m\n",
    "i.   bastecerPorValor( ) – método onde é informado o valor a ser abastecido e mostra a quantidade de litros que foi \n",
    "     colocada no veículo\n",
    "ii.  abastecerPorLitro( ) – método onde é informado a quantidade em litros de combustível e mostra o valor a ser pago \n",
    "     pelo cliente.\n",
    "iii. alterarValor( ) – altera o valor do litro do combustível.\n",
    "iv.  alterarCombustivel( ) – altera o tipo do combustível.\n",
    "v.   alterarQuantidadeCombustivel( ) – altera a quantidade de combustível restante na bomba.\n",
    "\n",
    "OBS: Sempre que acontecer um abastecimento é necessário atualizar a quantidade de combustível total na bomba.\n",
    "''')"
   ]
  },
  {
   "cell_type": "code",
   "execution_count": 20,
   "id": "b0d7fc3e",
   "metadata": {},
   "outputs": [
    {
     "name": "stdout",
     "output_type": "stream",
     "text": [
      "Valor a abastecer: 300\n",
      "\u001b[1;32;48mVocê abasteceu com 50.00 L de Gasolina.\u001b[m\n",
      "\u001b[1;34;48mA Bomba de Combustivel agora esta  com 9950.00 L\u001b[m\n",
      "Volume a abastecer: 40\n",
      "\u001b[1;32;48mSeu abastecimento custou R$ 240.00.\u001b[m\n",
      "\u001b[1;34;48mA Bomba de Combustivel agora esta  com 9910.00 L\u001b[m\n",
      "Informe o valor atualizado do litro de combustível: 5.89\n",
      "\u001b[1;34;48mO valor do litro de combustível foi atualizado para R$5.89/L\u001b[1;34;48m\n",
      "\n",
      "[ 1 ] - Gasolina\n",
      "[ 2 ] - Diesel\n",
      "[ 3 ] - Etanol\n",
      "Informe o dígito do combustível que deseja:\n",
      "6\n",
      "\u001b[1;31;48mCOMANDO INVÁLIDO!\u001b[m\n",
      "\n",
      "[ 1 ] - Gasolina\n",
      "[ 2 ] - Diesel\n",
      "[ 3 ] - Etanol\n",
      "Informe o dígito do combustível que deseja:\n",
      "2\n",
      "\u001b[1;32;48mVocê selecionou para abastecer com Diesel!\u001b[m\n"
     ]
    }
   ],
   "source": [
    "# Classe, por convenção começa com letra maiúscula:\n",
    "class BombaCombustivel:\n",
    "    def __init__(self, tipoCombustivel, valorLitro, VolCombustBomba, valorAbastece):\n",
    "    \n",
    "        #atributos\n",
    "        self.tipoCombustivel = tipoCombustivel\n",
    "        self.valorLitro = valorLitro\n",
    "        self.VolCombustBomba = VolCombustBomba\n",
    "        self.valorAbastece = valorAbastece\n",
    "\n",
    "    #metodos\n",
    "    def abastecerPorValor(self):\n",
    "        self.valorAbastece = float(input('Valor a abastecer: ')) \n",
    "        volume = self.valorAbastece / self.valorLitro\n",
    "        self.VolCombustBomba = self.VolCombustBomba - volume\n",
    "        print('\\033[1;32;48mVocê abasteceu com {:.2f} L de {}.\\033[m'.format(volume, self.tipoCombustivel))\n",
    "\n",
    "    def abastecerPorLitro(self):\n",
    "        volume = float(input('Volume a abastecer: '))\n",
    "        self.VolCombustBomba = self.VolCombustBomba - volume\n",
    "        self.valorAbastece = volume * self.valorLitro\n",
    "        print('\\033[1;32;48mSeu abastecimento custou R$ {:.2f}.\\033[m'.format(self.valorAbastece))\n",
    "\n",
    "    def alteraValorLitro(self):\n",
    "        self.valorLitro = float(input('Informe o valor atualizado do litro de combustível: ')) \n",
    "        print('\\033[1;34;48mO valor do litro de combustível foi atualizado para R${:.2f}/L\\033[1;34;48m'.format(self.valorLitro))\n",
    "    \n",
    "    def alterarCombustivel(self):\n",
    "        while self.tipoCombustivel != 1 or self.tipoCombustivel != 2 or self.tipoCombustivel != 3:            \n",
    "            self.tipoCombustivel = int(input('''\\033[1;34;48m\n",
    "[ 1 ] - Gasolina\n",
    "[ 2 ] - Diesel\n",
    "[ 3 ] - Etanol\n",
    "Informe o dígito do combustível que deseja:\n",
    "\\033[m'''))\n",
    "            if self.tipoCombustivel == 1:\n",
    "                print('''\\033[1;32;48mVocê selecionou para abastecer com Gasolina!\\033[m''')\n",
    "                break\n",
    "            elif self.tipoCombustivel == 2:\n",
    "                print('''\\033[1;32;48mVocê selecionou para abastecer com Diesel!\\033[m''')\n",
    "                break\n",
    "            elif self.tipoCombustivel == 3: \n",
    "                print('''\\033[1;32;48mVocê selecionou para abastecer com Etanol!\\033[m''')\n",
    "                break\n",
    "            else:\n",
    "                 print('\\033[1;31;48mCOMANDO INVÁLIDO!\\033[m')\n",
    "            \n",
    "        \n",
    "    \n",
    "    def alterarQuantidadeCombustivel(self):\n",
    "        print('\\033[1;34;48mA Bomba de Combustivel agora esta  com {:.2f} L\\033[m'.format(self.VolCombustBomba))\n",
    "        \n",
    "\n",
    "bomba_1 = BombaCombustivel('Gasolina', 6, 10000, 0)\n",
    "\n",
    "bomba_1.abastecerPorValor()\n",
    "bomba_1.alterarQuantidadeCombustivel()\n",
    "bomba_1.abastecerPorLitro()\n",
    "bomba_1.alterarQuantidadeCombustivel()\n",
    "bomba_1.alteraValorLitro()\n",
    "bomba_1.alterarCombustivel()\n",
    "\n",
    "\n",
    "\n",
    "\n"
   ]
  },
  {
   "cell_type": "markdown",
   "id": "960fdd01",
   "metadata": {},
   "source": [
    "# "
   ]
  }
 ],
 "metadata": {
  "kernelspec": {
   "display_name": "Python 3",
   "language": "python",
   "name": "python3"
  },
  "language_info": {
   "codemirror_mode": {
    "name": "ipython",
    "version": 3
   },
   "file_extension": ".py",
   "mimetype": "text/x-python",
   "name": "python",
   "nbconvert_exporter": "python",
   "pygments_lexer": "ipython3",
   "version": "3.8.8"
  }
 },
 "nbformat": 4,
 "nbformat_minor": 5
}
