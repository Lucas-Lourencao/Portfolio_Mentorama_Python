{
 "cells": [
  {
   "cell_type": "markdown",
   "id": "c050e2f5",
   "metadata": {},
   "source": [
    "# 1.\tCrie um programa que leia nome, sexo e idade de várias pessoas, guardando os dados de cada pessoa em um dicionário e todos os dicionários em uma lista. No final, mostre:\n",
    "\n",
    "#### a)\tQuantas pessoas foram cadastradas\n",
    "#### b)\tA média de idade\n",
    "#### c)\tUma lista com as mulheres\n",
    "#### d)\tUma lista de pessoas com idade acima da média\n"
   ]
  },
  {
   "cell_type": "code",
   "execution_count": 1,
   "id": "cb855218",
   "metadata": {},
   "outputs": [
    {
     "name": "stdout",
     "output_type": "stream",
     "text": [
      "\u001b[2;33;48m 1.\tCrie um programa que leia nome, sexo e idade de várias pessoas,\n",
      "guardando os dados de cada pessoa em um dicionário e todos os dicionários em uma lista.\n",
      "No final, mostre:\n",
      "\u001b[m\n",
      "Deseja realizar um novo cadastro?\n",
      "Digite S para fazer um novo cadastro ou N caso não tenha interesse: Tiago Eufrásio Maciel\n",
      "Este não é um comando válido!\n",
      "Deseja realizar um novo cadastro?\n",
      "Digite S para fazer um novo cadastro ou N caso não tenha interesse: s\n",
      "Nome Completo: Tiago Eufrásio Maciel\n",
      "Digite M para informar o sexo como masculino ou F para feminino: m\n",
      "Informe sua idade: 36\n",
      "Deseja realizar um novo cadastro?\n",
      "Digite S para fazer um novo cadastro ou N caso não tenha interesse: s\n",
      "Nome Completo: Talita Menezes Maciel\n",
      "Digite M para informar o sexo como masculino ou F para feminino: f\n",
      "Informe sua idade: 35\n",
      "Deseja realizar um novo cadastro?\n",
      "Digite S para fazer um novo cadastro ou N caso não tenha interesse: s\n",
      "Nome Completo: Franciely Menezes Lourenção\n",
      "Digite M para informar o sexo como masculino ou F para feminino: f\n",
      "Informe sua idade: 34\n",
      "Deseja realizar um novo cadastro?\n",
      "Digite S para fazer um novo cadastro ou N caso não tenha interesse: s\n",
      "Nome Completo: Lucas Lourenção\n",
      "Digite M para informar o sexo como masculino ou F para feminino: m\n",
      "Informe sua idade: 34\n",
      "Deseja realizar um novo cadastro?\n",
      "Digite S para fazer um novo cadastro ou N caso não tenha interesse: s\n",
      "Nome Completo: Pedro Henrique Eufrásio Menezes Maciel\n",
      "Digite M para informar o sexo como masculino ou F para feminino: m\n",
      "Informe sua idade: 6\n",
      "Deseja realizar um novo cadastro?\n",
      "Digite S para fazer um novo cadastro ou N caso não tenha interesse: s\n",
      "Nome Completo: Marina Menezes Lourenção\n",
      "Digite M para informar o sexo como masculino ou F para feminino: f\n",
      "Informe sua idade: 2\n",
      "Deseja realizar um novo cadastro?\n",
      "Digite S para fazer um novo cadastro ou N caso não tenha interesse: s\n",
      "Nome Completo: Anabel Menezes Maciel\n",
      "Digite M para informar o sexo como masculino ou F para feminino: f\n",
      "Informe sua idade: 2\n",
      "Deseja realizar um novo cadastro?\n",
      "Digite S para fazer um novo cadastro ou N caso não tenha interesse: s\n",
      "Nome Completo: Vicente Menezes Lourenção\n",
      "Digite M para informar o sexo como masculino ou F para feminino: m\n",
      "Informe sua idade: 1\n",
      "Deseja realizar um novo cadastro?\n",
      "Digite S para fazer um novo cadastro ou N caso não tenha interesse: n\n",
      "\n",
      "\u001b[2;33;48ma) Quantas pessoas foram cadastradas:\u001b[m\n",
      "Foram realizados 8 cadastros.\n",
      "\n",
      "\u001b[2;33;48mb) A média de idade das pessoas:\u001b[m\n",
      "[36, 35, 34, 34, 6, 2, 2, 1]\n",
      "A média de idade das pessoas cadastradas no formulário é de 18.625 anos\n",
      "\n",
      "\u001b[2;33;48mc)\tUma lista com as mulheres\u001b[m\n",
      "A lista de mulheres cadastradas é:\n",
      "['Talita Menezes Maciel', 'Franciely Menezes Lourenção', 'Marina Menezes Lourenção', 'Anabel Menezes Maciel']\n",
      "\n",
      "\u001b[2;33;48md)\tUma lista de pessoas com idade acima da média:\u001b[m\n",
      "A lista de pessoas com idade superior a média de idades é:\n",
      "['Tiago Eufrásio Maciel', 'Talita Menezes Maciel', 'Franciely Menezes Lourenção', 'Lucas Lourenção']\n",
      "\n",
      "\n",
      "A lista com todos os cadastros criados é:\n",
      "[{'nome': 'Tiago Eufrásio Maciel', 'sexo': 'M', 'idade': 36}, {'nome': 'Talita Menezes Maciel', 'sexo': 'F', 'idade': 35}, {'nome': 'Franciely Menezes Lourenção', 'sexo': 'F', 'idade': 34}, {'nome': 'Lucas Lourenção', 'sexo': 'M', 'idade': 34}, {'nome': 'Pedro Henrique Eufrásio Menezes Maciel', 'sexo': 'M', 'idade': 6}, {'nome': 'Marina Menezes Lourenção', 'sexo': 'F', 'idade': 2}, {'nome': 'Anabel Menezes Maciel', 'sexo': 'F', 'idade': 2}, {'nome': 'Vicente Menezes Lourenção', 'sexo': 'M', 'idade': 1}]\n"
     ]
    }
   ],
   "source": [
    "print('''\\033[2;33;48m 1.\tCrie um programa que leia nome, sexo e idade de várias pessoas,\n",
    "guardando os dados de cada pessoa em um dicionário e todos os dicionários em uma lista.\n",
    "No final, mostre:\n",
    "\\033[m''')\n",
    "\n",
    "totalCadastros = 0\n",
    "mediaIdade = 0\n",
    "Formularios = []\n",
    "listaIdades = []\n",
    "listaMulheres = []\n",
    "AcimaMediaIdade = []\n",
    "while True:\n",
    "   opcao = input('''Deseja realizar um novo cadastro?\n",
    "Digite S para fazer um novo cadastro ou N caso não tenha interesse: ''').lower()\n",
    "   if opcao == 's':\n",
    "      novoFormulario = {\n",
    "      \"nome\": str(input('Nome Completo: ')),\n",
    "      \"sexo\": str(input('Digite M para informar o sexo como masculino ou F para feminino: ').upper()),\n",
    "      \"idade\": int(input('Informe sua idade: '))\n",
    "      }\n",
    "      totalCadastros += 1\n",
    "      mediaIdade = sum(listaIdades) / totalCadastros\n",
    "      Formularios.append(novoFormulario)\n",
    "      listaIdades.append(novoFormulario[\"idade\"])\n",
    "      if novoFormulario[\"sexo\"] == 'F':\n",
    "         listaMulheres.append(novoFormulario[\"nome\"])\n",
    "      if novoFormulario[\"idade\"] > mediaIdade:\n",
    "         AcimaMediaIdade.append(novoFormulario[\"nome\"])\n",
    "   elif opcao == 'n':\n",
    "      break\n",
    "   else:\n",
    "      print('Este não é um comando válido!')\n",
    "\n",
    "print('''\n",
    "\\033[2;33;48ma) Quantas pessoas foram cadastradas:\\033[m''')\n",
    "print('Foram realizados {} cadastros.'.format(totalCadastros))\n",
    "\n",
    "print('''\n",
    "\\033[2;33;48mb) A média de idade das pessoas:\\033[m''')\n",
    "print(listaIdades)\n",
    "print('A média de idade das pessoas cadastradas no formulário é de {} anos'.format(mediaIdade))\n",
    "\n",
    "\n",
    "print('''\n",
    "\\033[2;33;48mc)\tUma lista com as mulheres\\033[m''')\n",
    "print('''A lista de mulheres cadastradas é:\n",
    "{}'''.format(listaMulheres))\n",
    "\n",
    "print('''\n",
    "\\033[2;33;48md)\tUma lista de pessoas com idade acima da média:\\033[m''')\n",
    "print('''A lista de pessoas com idade superior a média de idades é:\n",
    "{}'''.format(AcimaMediaIdade))\n",
    "\n",
    "print('''\n",
    "\n",
    "A lista com todos os cadastros criados é:\n",
    "{}'''.format(Formularios))\n"
   ]
  },
  {
   "cell_type": "markdown",
   "id": "0a2d563c",
   "metadata": {},
   "source": [
    "# 2.\tEscreva um programa Python para criar uma tupla com números de 1 a 4 e imprima um item"
   ]
  },
  {
   "cell_type": "code",
   "execution_count": 2,
   "id": "430b60af",
   "metadata": {},
   "outputs": [
    {
     "name": "stdout",
     "output_type": "stream",
     "text": [
      "\u001b[2;33;48m2.\tEscreva um programa Python para criar uma tupla com números de 1 a 4\n",
      "e imprima um item.\u001b[m\n",
      "O elemento que ocupa a posição 3 da tupla é o número: 4\n"
     ]
    }
   ],
   "source": [
    "print('''\\033[2;33;48m2.\tEscreva um programa Python para criar uma tupla com números de 1 a 4\n",
    "e imprima um item.\\033[m''')\n",
    "\n",
    "tupla = 1, 2, 3, 4\n",
    "print('O elemento que ocupa a posição 3 da tupla é o número: {}'.format(tupla[3]))"
   ]
  },
  {
   "cell_type": "markdown",
   "id": "065e2520",
   "metadata": {},
   "source": [
    "# 3.\tEscreva um programa Python para desempacotar uma tupla em várias variáveis: considere uma tupla = (‘aluno’,’universidade’, ‘nota’, ‘resultado’) e as variáveis w, x, y, z\n",
    "\n",
    "### Consulte o tipo de dados de cada uma das variáveis e impriva os valores de cada uma delas.\n"
   ]
  },
  {
   "cell_type": "code",
   "execution_count": 3,
   "id": "4c2c691e",
   "metadata": {},
   "outputs": [
    {
     "name": "stdout",
     "output_type": "stream",
     "text": [
      "\u001b[2;33;48m3.\tEscreva um programa Python para desempacotar uma tupla\n",
      "em várias variáveis:\u001b[m\n",
      "\u001b[2;34;48mconsidere uma tupla = (‘aluno’,’universidade’, ‘nota’, ‘resultado’)\n",
      "e as variáveis w, x, y, z. Consulte o tipo de dados de cada uma das\n",
      "variáveis e imprima os valores de cada uma delas.\u001b[m\n",
      "\n",
      "('aluno', 'universidade', 'nota', 'resultado')\n",
      "<class 'tuple'>\n",
      "\n",
      "Desempacotamento:\n",
      "aluno\n",
      "universidade\n",
      "nota\n",
      "resultado\n",
      "\n",
      "Tipos de Dados:\n",
      "<class 'str'>\n",
      "<class 'str'>\n",
      "<class 'str'>\n",
      "<class 'str'>\n"
     ]
    }
   ],
   "source": [
    "print('''\\033[2;33;48m3.\tEscreva um programa Python para desempacotar uma tupla\n",
    "em várias variáveis:\\033[m\n",
    "\\033[2;34;48mconsidere uma tupla = (‘aluno’,’universidade’, ‘nota’, ‘resultado’)\n",
    "e as variáveis w, x, y, z. Consulte o tipo de dados de cada uma das\n",
    "variáveis e imprima os valores de cada uma delas.\\033[m\n",
    "''')\n",
    "\n",
    "tupla = 'aluno','universidade', 'nota', 'resultado'\n",
    "w, x, y, z = tupla\n",
    "print(tupla)\n",
    "print(type(tupla))\n",
    "print('''\n",
    "Desempacotamento:''')\n",
    "print(w)\n",
    "print(x)\n",
    "print(y)\n",
    "print(z)\n",
    "print('''\n",
    "Tipos de Dados:''')\n",
    "print(type(w))\n",
    "print(type(x))\n",
    "print(type(y))\n",
    "print(type(z))"
   ]
  },
  {
   "cell_type": "markdown",
   "id": "71c7250d",
   "metadata": {},
   "source": [
    "# 4.\tCrie 3 conjuntos conforme estrutura a seguir:\n",
    "\n",
    "#### setx = set([\"apple\", \"mango\"])\n",
    "#### sety = set([\"mango\", \"orange\"]) \n",
    "#### setz = set([\"mango\"])\n",
    "\n",
    "\n",
    "### Faça as seguintes operações sobre conjuntos:\n",
    "#### a)\tFaça a união dos três conjuntos e imprima o resultado\n",
    "#### b)\tVerifique quais os elementos comuns do conjunto setx e sety e imprima o resultado\n",
    "#### c)\tVerifique se o conjunto setx é subconjunto do conjunto sety e setz utilizando issubset()\n",
    "#### d)\tVerifique quais elementos do conjunto setx não existem em sety\n"
   ]
  },
  {
   "cell_type": "code",
   "execution_count": 4,
   "id": "d45a9d88",
   "metadata": {},
   "outputs": [
    {
     "name": "stdout",
     "output_type": "stream",
     "text": [
      "\u001b[2;33;48m4.\tCrie 3 conjuntos conforme estrutura a seguir:\u001b[m\n",
      "\u001b[2;34;48msetx = set([\"apple\", \"mango\"])\n",
      "sety = set([\"mango\", \"orange\"])\n",
      "setz = set([\"mango\"])\u001b[m\n",
      "\n",
      "Faça as seguintes operações sobre conjuntos:\n",
      "\n",
      "\n",
      "\u001b[2;33;48ma)\tFaça a união dos três conjuntos e imprima o resultado\u001b[m\n",
      "{'apple', 'mango', 'orange'}\n",
      "\n",
      "\u001b[2;33;48mb)\tVerifique quais os elementos comuns do conjunto setx e sety e imprima o resultado\u001b[m\n",
      "{'mango'}\n",
      "\n",
      "\u001b[2;33;48mc)\tVerifique se o conjunto setx é subconjunto do conjunto sety e setz utilizando issubset()\u001b[m\n",
      "False\n",
      "\n",
      "\u001b[2;33;48md)\tVerifique quais elementos do conjunto setx não existem em sety\u001b[m\n",
      "{'apple'}\n"
     ]
    }
   ],
   "source": [
    "print('''\\033[2;33;48m4.\tCrie 3 conjuntos conforme estrutura a seguir:\\033[m\n",
    "\\033[2;34;48msetx = set([\"apple\", \"mango\"])\n",
    "sety = set([\"mango\", \"orange\"])\n",
    "setz = set([\"mango\"])\\033[m\n",
    "\n",
    "Faça as seguintes operações sobre conjuntos:\n",
    "''')\n",
    "x = [\"apple\", \"mango\"]\n",
    "setx = set(x)\n",
    "y = [\"mango\", \"orange\"]\n",
    "sety = set(y)\n",
    "z = [\"mango\"]\n",
    "setz = set(z)\n",
    "print('''\n",
    "\\033[2;33;48ma)\tFaça a união dos três conjuntos e imprima o resultado\\033[m''')\n",
    "uniao = setx | sety | setz\n",
    "print(uniao)\n",
    "print('''\n",
    "\\033[2;33;48mb)\tVerifique quais os elementos comuns do conjunto setx e sety e imprima o resultado\\033[m''')\n",
    "interseccao = setx & sety\n",
    "print(interseccao)\n",
    "print('''\n",
    "\\033[2;33;48mc)\tVerifique se o conjunto setx é subconjunto do conjunto sety e setz utilizando issubset()\\033[m''')\n",
    "print(setx.issubset(sety))\n",
    "print('''\n",
    "\\033[2;33;48md)\tVerifique quais elementos do conjunto setx não existem em sety\\033[m''')\n",
    "subtracao = setx - sety\n",
    "print(subtracao)"
   ]
  },
  {
   "cell_type": "markdown",
   "id": "d67eb197",
   "metadata": {},
   "source": [
    "# 5.\tEscreva um programa Python para inserir um elemento no início de um determinado DicionárioOrdenado.\n",
    "### DicionárioOrdenado original:\n",
    "DicionárioOrdenado ([('color1', 'Red'), ('color2', 'Green'), ('color3', 'Blue')]) \n",
    "\n",
    "### Insira um elemento no início do referido DicionárioOrdenado: \n",
    "#### DicionárioOrdenado atualizado:\n",
    "DicionárioOrdenado ([('color4', 'Orange'), ('color1', 'Red'), ('color2', 'Green'), ('color3', 'Blue')])\n"
   ]
  },
  {
   "cell_type": "code",
   "execution_count": 5,
   "id": "75c19ef6",
   "metadata": {},
   "outputs": [
    {
     "name": "stdout",
     "output_type": "stream",
     "text": [
      "\u001b[2;33;48m5.\tEscreva um programa Python para inserir um elemento no início\n",
      "de um determinado DicionárioOrdenado.\u001b[m\n",
      "\u001b[2;34;48mDicionárioOrdenado original:\u001b[m\n",
      "DicionárioOrdenado ([('color1', 'Red'), ('color2', 'Green'), ('color3', 'Blue')])\n",
      "\n",
      "\u001b[2;33;48mInsira um elemento no início do referido DicionárioOrdenado:\u001b[m\n",
      "\n",
      "\u001b[2;34;48mDicionárioOrdenado atualizado:\u001b[m\n",
      "DicionárioOrdenado ([('color4', 'Orange'), ('color1', 'Red'), ('color2', 'Green'), ('color3', 'Blue')])\n",
      "\n",
      "Dicionario Original: [{'color1': 'Red', 'color2': 'Green', 'color3': 'Blue'}]\n",
      "Dicionário Atualizado: [[{'color4': 'Orange'}], {'color1': 'Red', 'color2': 'Green', 'color3': 'Blue'}]\n"
     ]
    }
   ],
   "source": [
    "print('''\\033[2;33;48m5.\tEscreva um programa Python para inserir um elemento no início\n",
    "de um determinado DicionárioOrdenado.\\033[m\n",
    "\\033[2;34;48mDicionárioOrdenado original:\\033[m\n",
    "DicionárioOrdenado ([('color1', 'Red'), ('color2', 'Green'), ('color3', 'Blue')])\n",
    "\n",
    "\\033[2;33;48mInsira um elemento no início do referido DicionárioOrdenado:\\033[m\n",
    "\n",
    "\\033[2;34;48mDicionárioOrdenado atualizado:\\033[m\n",
    "DicionárioOrdenado ([('color4', 'Orange'), ('color1', 'Red'), ('color2', 'Green'), ('color3', 'Blue')])\n",
    "''')\n",
    "DicionarioOrdenado_Original = {\n",
    "                                \"color1\": 'Red',\n",
    "                                \"color2\": 'Green',\n",
    "                                \"color3\": 'Blue'\n",
    "                                }\n",
    "ListaDicOrdenado = [DicionarioOrdenado_Original]\n",
    "print('Dicionario Original: {}'.format(ListaDicOrdenado))\n",
    "DicNovaCor = {\n",
    "   \"color4\": 'Orange'\n",
    "}\n",
    "ListaDicOrdenado.insert(0, [DicNovaCor])\n",
    "print('Dicionário Atualizado: {}'.format(ListaDicOrdenado))"
   ]
  },
  {
   "cell_type": "markdown",
   "id": "e93ca87e",
   "metadata": {},
   "source": [
    "# 6.\tEscreva uma função chamada right_justify, que receba uma string chamada s como parâmetro e exiba a string com espaços suficientes à frente para que a última letra da string esteja na coluna 70 da tela:\n",
    "#### >>> right_justify('monty')\n",
    "\n",
    "### Dica: Use concatenação de strings e repetição. Além disso, o Python oferece uma função integrada chamada len, que apresenta o comprimento de uma string, então o valor de len('monty') é 5.\n"
   ]
  },
  {
   "cell_type": "code",
   "execution_count": 7,
   "id": "fe0fad09",
   "metadata": {},
   "outputs": [
    {
     "name": "stdout",
     "output_type": "stream",
     "text": [
      "\u001b[2;33;49m6.\tEscreva uma função chamada right_justify, que receba uma string chamada s como parâmetro\n",
      "e exiba a string com espaços suficientes à frente para que a última letra da string esteja na\n",
      "coluna 70 da tela:\n",
      ">>> right_justify('monty')\n",
      "Dica: Use concatenação de strings e repetição. Além disso, o Python oferece uma função integrada\n",
      "chamada len, que apresenta o comprimento de uma string, então o valor de len('monty') é 5.\u001b[m\n",
      "A string formada é:                                                                  string\n",
      "A string é composta por 70 caracteres.\n",
      "A coluna 70 da string é ocupada pelo seguinte caractere: g\n"
     ]
    }
   ],
   "source": [
    "print('''\\033[2;33;49m6.\tEscreva uma função chamada right_justify, que receba uma string chamada s como parâmetro\n",
    "e exiba a string com espaços suficientes à frente para que a última letra da string esteja na\n",
    "coluna 70 da tela:\n",
    ">>> right_justify('monty')\n",
    "Dica: Use concatenação de strings e repetição. Além disso, o Python oferece uma função integrada\n",
    "chamada len, que apresenta o comprimento de uma string, então o valor de len('monty') é 5.\\033[m''')\n",
    "var1 = 'string'\n",
    "#print(len(var1))\n",
    "\n",
    "var2 = ''\n",
    "#print(len(var2))\n",
    "for i in range(64):\n",
    "    var2 += ' '\n",
    "#print(len(var2))\n",
    "\n",
    "def right_justify():\n",
    "    s = var2 + var1\n",
    "    print('A string formada é: ', s)\n",
    "    print('A string é composta por {} caracteres.'.format(len(s)))\n",
    "    print('A coluna 70 da string é ocupada pelo seguinte caractere: {}'.format(s[69]))\n",
    "\n",
    "right_justify()"
   ]
  },
  {
   "cell_type": "markdown",
   "id": "987b6200",
   "metadata": {},
   "source": [
    "# 7.\tUm objeto de função é um valor que pode ser atribuído a uma variável ou passado como argumento. Por exemplo, do_twice é uma função que toma um objeto de função como argumento e o chama duas vezes:\n",
    "\n",
    "def do_twice(f): f()\n",
    "f()\n",
    "\n",
    "### Aqui está um exemplo que usa do_twice para chamar uma função chamada print_spam duas vezes:\n",
    "\n",
    "def print_spam(): print('spam')\n",
    "do_twice(print_spam)\n",
    "\n",
    "#### a)\tDigite este exemplo em um script e teste-o.\n",
    "#### b)\tAltere do_twice para que receba dois argumentos, um objeto de função e um valor, e chame a função duas vezes, passando o valor como um argumento.\n"
   ]
  },
  {
   "cell_type": "code",
   "execution_count": 8,
   "id": "bbf0df5e",
   "metadata": {},
   "outputs": [
    {
     "name": "stdout",
     "output_type": "stream",
     "text": [
      "\u001b[2;33;48m7.\tUm objeto de função é um valor que pode ser atribuído a uma variável \n",
      "ou passado como argumento. Por exemplo, do_twice é uma função que toma um objeto \n",
      "de função como argumento e o chama duas vezes:\n",
      "\n",
      "def do_twice(f): f()\n",
      "f()\n",
      "\n",
      "Aqui está um exemplo que usa do_twice para chamar uma função chamada print_spam duas vezes:\n",
      "\n",
      "def print_spam(): print('spam')\n",
      "do_twice(print_spam)\u001b[m\n",
      "\n",
      "\n",
      "\u001b[2;33;48m a) Digite este exemplo em um script e teste-o.\u001b[m\n",
      "\n",
      "spam\n",
      "spam\n",
      "\n",
      "\u001b[2;33;48m b)\tAltere do_twice para que receba dois argumentos, um objeto de função e um valor, \n",
      "e chame a função duas vezes, passando o valor como um argumento.\u001b[m\n",
      "\n",
      "Show, a função foi utilizada com sucesso!\n",
      "Show, a função foi utilizada com sucesso!\n"
     ]
    }
   ],
   "source": [
    "print('''\\033[2;33;48m7.\tUm objeto de função é um valor que pode ser atribuído a uma variável \n",
    "ou passado como argumento. Por exemplo, do_twice é uma função que toma um objeto \n",
    "de função como argumento e o chama duas vezes:\n",
    "\n",
    "def do_twice(f): f()\n",
    "f()\n",
    "\n",
    "Aqui está um exemplo que usa do_twice para chamar uma função chamada print_spam duas vezes:\n",
    "\n",
    "def print_spam(): print('spam')\n",
    "do_twice(print_spam)\\033[m\n",
    "''')\n",
    "print('''\n",
    "\\033[2;33;48m a) Digite este exemplo em um script e teste-o.\\033[m\n",
    "''')\n",
    "def do_twice(f):\n",
    "    f()\n",
    "    f()\n",
    "\n",
    "def print_spam():\n",
    "    print('spam')\n",
    "\n",
    "do_twice(print_spam)\n",
    "print('''\n",
    "\\033[2;33;48m b)\tAltere do_twice para que receba dois argumentos, um objeto de função e um valor, \n",
    "e chame a função duas vezes, passando o valor como um argumento.\\033[m\n",
    "''')\n",
    "def do_twice(f,valor): # f >>> Objeto de Função; valor >>> argumento da função.\n",
    "    f(valor)\n",
    "    f(valor)\n",
    "\n",
    "def printValor(valor):\n",
    "    print(valor)\n",
    "\n",
    "do_twice(printValor, \"Show, a função foi utilizada com sucesso!\")"
   ]
  },
  {
   "cell_type": "markdown",
   "id": "895d38b3",
   "metadata": {},
   "source": [
    "# 8.\tCrie um programa que faça a impressão de uma mensagem e a multiplicação de dois números. Utilize módulos e funções para resolução desse problema.\n",
    "#### a)\tO usuário deve entrar com a mensagem e com o uso de módulos e funções, essa mensagem deve ser impressa na tela\n",
    "#### b)\tO usuário deve entrar com os valores dos dois multiplicadores e o programa deve exibir o resultado na tela.\n"
   ]
  },
  {
   "cell_type": "code",
   "execution_count": 9,
   "id": "71a22483",
   "metadata": {},
   "outputs": [
    {
     "name": "stdout",
     "output_type": "stream",
     "text": [
      "Digite uma mensagem: Hellow, World!\n",
      "Hellow, World!\n"
     ]
    }
   ],
   "source": [
    "#ex08a_ModuloMensagem (nome do modulo em que será importado a função recebeMensagem)\n",
    "def recebeMensagem():\n",
    "    mensagem = str(input('Digite uma mensagem: '))\n",
    "    print(mensagem)\n",
    "\n",
    "recebeMensagem()"
   ]
  },
  {
   "cell_type": "code",
   "execution_count": 10,
   "id": "04da0963",
   "metadata": {},
   "outputs": [
    {
     "name": "stdout",
     "output_type": "stream",
     "text": [
      "Informe o primeiro multiplicador: 2\n",
      "Informe o segundo multiplicador: 5\n",
      "Os multiplicadores são: 2 e 5 e seu produto é 10.\n"
     ]
    }
   ],
   "source": [
    "#ex08b_ModuloMultiplica (nome do modulo em que será importado a função recebeMultiplicadores)\n",
    "def recebeMultiplicadores():\n",
    "    a = int(input('Informe o primeiro multiplicador: '))\n",
    "    b = int(input('Informe o segundo multiplicador: '))\n",
    "    M = a * b\n",
    "    print('Os multiplicadores são: {} e {} e seu produto é {}.'.format(a, b, M))\n",
    "\n",
    "recebeMultiplicadores()"
   ]
  },
  {
   "cell_type": "code",
   "execution_count": 11,
   "id": "bf3d4969",
   "metadata": {},
   "outputs": [
    {
     "name": "stdout",
     "output_type": "stream",
     "text": [
      "\u001b[2;33;48m8.\tCrie um programa que faça a impressão de uma mensagem e a multiplicação de dois números. \n",
      "Utilize módulos e funções para resolução desse problema.\u001b[m\n",
      "\n",
      "\n",
      "\n",
      "\u001b[2;33;48ma)\tO usuário deve entrar com a mensagem e com o uso de módulos e funções, \n",
      "essa mensagem deve ser impressa na tela.\u001b[m\n",
      "\n",
      "Digite uma mensagem: Hellow, World!\n",
      "Hellow, World!\n",
      "\n",
      "\u001b[2;33;48mb)O usuário deve entrar com os valores dos dois multiplicadores e o \n",
      "programa deve exibir o resultado na tela.\u001b[m\n",
      "\n",
      "Informe o primeiro multiplicador: 2\n",
      "Informe o segundo multiplicador: 5\n",
      "Os multiplicadores são: 2 e 5 e seu produto é 10.\n"
     ]
    }
   ],
   "source": [
    "print('''\\033[2;33;48m8.\tCrie um programa que faça a impressão de uma mensagem e a multiplicação de dois números. \n",
    "Utilize módulos e funções para resolução desse problema.\\033[m\n",
    "\n",
    "''')\n",
    "print('''\n",
    "\\033[2;33;48ma)\tO usuário deve entrar com a mensagem e com o uso de módulos e funções, \n",
    "essa mensagem deve ser impressa na tela.\\033[m\n",
    "''')\n",
    "from ex08a_ModuloMensagem import recebeMensagem\n",
    "\n",
    "def printMensagem():\n",
    "    recebeMensagem()\n",
    "\n",
    "#printMensagem()\n",
    "\n",
    "print('''\n",
    "\\033[2;33;48mb)O usuário deve entrar com os valores dos dois multiplicadores e o \n",
    "programa deve exibir o resultado na tela.\\033[m\n",
    "''')\n",
    "import ex08b_ModuloMultiplica\n",
    "\n",
    "def Multiplica():\n",
    "    ex08b_ModuloMultiplica.recebeMultiplicadores()"
   ]
  },
  {
   "cell_type": "markdown",
   "id": "7ada7675",
   "metadata": {},
   "source": [
    "# 9.\tDada uma lista encadeada de caracteres formada por uma sequência alternada de letras e dígitos, construa um método que retorne uma lista na qual as letras são mantidas na sequência original e os dígitos são colocados na ordem inversa. Exemplos:\n",
    "#### A 1 E 5 T 7 W 8 G → A E T W G 8 7 5 1\n",
    "\n",
    "#### 3 C 9 H 4 Q 6 → C H Q 6 4 9 3\n",
    "\n",
    "### Como mostram os exemplos, as letras devem ser mostradas primeiro, seguidas dos dígitos. Sugestões:\n",
    "#### a)\tusar uma fila e uma pilha;\n",
    "#### b)\tsupor um método ehDigito() que retorna um valor booleano, como por exemplo, verdadeiro caso um caractere seja um dígito.\n",
    "\n"
   ]
  },
  {
   "cell_type": "code",
   "execution_count": 13,
   "id": "d92de6e6",
   "metadata": {},
   "outputs": [
    {
     "name": "stdout",
     "output_type": "stream",
     "text": [
      "\u001b[2;33;48m9.\tDada uma lista encadeada de caracteres formada por uma sequência alternada de \n",
      "letras e dígitos, construa um método que retorne uma lista na qual as letras são mantidas \n",
      "na sequência original e os dígitos são colocados na ordem inversa. Exemplos:\n",
      "A 1 E 5 T 7 W 8 G → A E T W G 8 7 5 1\n",
      " \n",
      "3 C 9 H 4 Q 6 → C H Q 6 4 9 3\n",
      "Como mostram os exemplos, as letras devem ser mostradas primeiro, seguidas dos dígitos. Sugestões:\u001b[m\n",
      "\n",
      "\n",
      "\u001b[2;34;48ma)\tusar uma fila e uma pilha;\u001b[m\n",
      "\n",
      "\u001b[2;34;48m\n",
      "b)\tsupor um método ehDigito() que retorna um valor booleano, como por exemplo, \n",
      "verdadeiro caso um caractere seja um dígito.\u001b[m\n",
      "\n",
      "['A', 'E', 'T', 'W', 'G', 8, 7, 5, 1]\n"
     ]
    }
   ],
   "source": [
    "print('''\\033[2;33;48m9.\tDada uma lista encadeada de caracteres formada por uma sequência alternada de \n",
    "letras e dígitos, construa um método que retorne uma lista na qual as letras são mantidas \n",
    "na sequência original e os dígitos são colocados na ordem inversa. Exemplos:\n",
    "A 1 E 5 T 7 W 8 G → A E T W G 8 7 5 1\n",
    " \n",
    "3 C 9 H 4 Q 6 → C H Q 6 4 9 3\n",
    "Como mostram os exemplos, as letras devem ser mostradas primeiro, seguidas dos dígitos. Sugestões:\\033[m\n",
    "''')\n",
    "print('''\n",
    "\\033[2;34;48ma)\tusar uma fila e uma pilha;\\033[m\n",
    "''')\n",
    "\n",
    "print('''\\033[2;34;48m\n",
    "b)\tsupor um método ehDigito() que retorna um valor booleano, como por exemplo, \n",
    "verdadeiro caso um caractere seja um dígito.\\033[m\n",
    "''')\n",
    "listaOriginal = ['A', 1, 'E', 5, 'T', 7, 'W', 8, 'G']\n",
    "listaLetras = []\n",
    "listaInt = []\n",
    "for i in listaOriginal:\n",
    "    if type(i) != str:\n",
    "        listaInt.append(i)\n",
    "    else:\n",
    "        listaLetras.append(i)\n",
    "#print(listaInt)\n",
    "#print(listaLetras)\n",
    "listaInt.reverse()\n",
    "listaDesejada = listaLetras + listaInt\n",
    "print(listaDesejada)\n",
    "\n",
    "\n"
   ]
  },
  {
   "cell_type": "code",
   "execution_count": null,
   "id": "70e3db3f",
   "metadata": {},
   "outputs": [],
   "source": []
  }
 ],
 "metadata": {
  "kernelspec": {
   "display_name": "Python 3",
   "language": "python",
   "name": "python3"
  },
  "language_info": {
   "codemirror_mode": {
    "name": "ipython",
    "version": 3
   },
   "file_extension": ".py",
   "mimetype": "text/x-python",
   "name": "python",
   "nbconvert_exporter": "python",
   "pygments_lexer": "ipython3",
   "version": "3.8.8"
  }
 },
 "nbformat": 4,
 "nbformat_minor": 5
}
