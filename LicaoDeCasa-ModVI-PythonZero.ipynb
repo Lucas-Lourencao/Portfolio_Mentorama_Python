{
 "cells": [
  {
   "cell_type": "markdown",
   "id": "fdfabb66",
   "metadata": {},
   "source": [
    "### Importação do SQLite e Criação do Banco de Dados:"
   ]
  },
  {
   "cell_type": "code",
   "execution_count": 5,
   "id": "ee9deaeb",
   "metadata": {},
   "outputs": [],
   "source": [
    "import sqlite3\n",
    "banco = sqlite3.connect('minhaEmpresa.bd')"
   ]
  },
  {
   "cell_type": "markdown",
   "id": "159f35d1",
   "metadata": {},
   "source": [
    "### Criando um cursor para operar os comandos SQL:"
   ]
  },
  {
   "cell_type": "code",
   "execution_count": 6,
   "id": "60af5b87",
   "metadata": {},
   "outputs": [],
   "source": [
    "cursor = banco.cursor()"
   ]
  },
  {
   "cell_type": "markdown",
   "id": "77efccfa",
   "metadata": {},
   "source": [
    "### Criando as tabelas propostas:"
   ]
  },
  {
   "cell_type": "code",
   "execution_count": 7,
   "id": "24f5b933",
   "metadata": {},
   "outputs": [
    {
     "name": "stdout",
     "output_type": "stream",
     "text": [
      "Tabela *funcionários* criada com sucesso!\n",
      "Tabela *departamentos* criada com sucesso!\n"
     ]
    }
   ],
   "source": [
    "# Tabela Financeiro:\n",
    "cursor.execute(\"\"\"CREATE TABLE funcionarios (idFuncionarios integer, idCodigo text, PrimeiroNome text,\n",
    "SegundoNome text, UltimoNome text,\n",
    "DataNasci date, CPF text, RG text, Endereco text, CEP text,\n",
    "Cidade text, Fone text, CodigoDepartamento integer,\n",
    "Funcao text, Salario real \n",
    ")\"\"\")\n",
    "print(\"Tabela *funcionários* criada com sucesso!\")\n",
    "\n",
    "# Tabela Departamentos:\n",
    "cursor.execute(\"\"\"CREATE TABLE departamentos (idDepartamentos integer, idCodigo text, Nome text,\n",
    "Localizacao text,\n",
    "CodigoFuncionarioGerente integer\n",
    ")\"\"\")\n",
    "print(\"Tabela *departamentos* criada com sucesso!\")"
   ]
  },
  {
   "cell_type": "markdown",
   "id": "4a4c7c35",
   "metadata": {},
   "source": [
    "### Criação da lista que vai popular a tabela funcionários:"
   ]
  },
  {
   "cell_type": "code",
   "execution_count": 8,
   "id": "939ff191",
   "metadata": {},
   "outputs": [],
   "source": [
    "listaFuncionarios = [('1', 'x01', 'Lucas', 'Lourenção', 'Lourenção', '1987/07/01', '111.255.117-08', '1.959.420', 'Rua Carlos Cavalcante', '123456', 'Vitória', '(27) 9526-3312', '1', 'CEO', '15000'),\n",
    "('2', 'x02', 'Pedro', 'Henrique', 'Menezes', '1980/12/12', '112.253.114-05', '1.333.444', 'Rua Antônio Magalhães', '543244', 'Anchieta', '(27) 9232-3142', '2', 'CFO', '13000'),\n",
    "('3', 'x03', 'Vicente', 'Menezes', 'Aragão', '1999/10/30', '114.235.116-06', '1.349.443', 'Rua Alfredo Chaves', '879123', 'Guarapari', '(27) 9999-8877', '3', 'Diretor RH', '12000'),\n",
    "('4', 'x03', 'Franciely', 'Pedrosa', 'Bicalho', '1986/06/29', '123.223.122-05', '1.329.423', 'Rua Cahoeiro dos Andes', '231567', 'Vitória', '(27) 9526-3312', '4', 'Diretor Financeiro', '12000'),\n",
    "('5', 'x04', 'Talita', 'Souza', 'Silva', '2000/08/22', '151.244.417-03', '1.433.330', 'Rua Pedro Vasconcelos', '987678', 'Vila Velha', '(27) 9996-2322', '5', 'Gerente Logístico', '9000'),\n",
    "('6', 'x04', 'Marina', 'Alcantara', 'Buriti', '1984/05/17', '114.265.155-03', '1.339.433', 'Rua Romildo Jacó', '543261', 'Anchieta', '(27) 9834-6587', '6', 'Gerente RH', '9000'),\n",
    "('7', 'x04', 'Ana Bel', 'Eufrásio', 'Zorobabel', '1998/08/18', '110.355.137-02', '1.559.320', 'Rua Arlindo Soares', '334123', 'Vila Velha', '(27) 9862-3442', '7', 'Gerente Comercial', '9000'),\n",
    "('8', 'x05', 'Teresinha', 'Pimenta', 'Alcoforado', '1979/12/27', '131.455.137-02', '1.578.110', 'Rua das Pratas', '435678', 'Serra', '(27) 9523-1243', '8', 'Executivo Vendas', '7000'),\n",
    "('9', 'x05', 'Henrique', 'Miranda', 'Jacutia', '1981/07/02', '113.253.137-01', '1.235.411', 'Rua Julia Lacort Pena', '987654', 'Vitória', '(27) 9866-1312', '9', 'Executivo Comercial', '7000'),\n",
    "('10', 'x05', 'Tiago', 'Albari', 'Pereira', '1986/07/03', '113.253.137-01', '1.235.411', 'Rua Julia Lacort Pena', '987654', 'Vitória', '(27) 8525-1212', '9', 'Executivo Comercial', '7000')]"
   ]
  },
  {
   "cell_type": "code",
   "execution_count": 9,
   "id": "8d6f58bd",
   "metadata": {},
   "outputs": [],
   "source": [
    "# Inserindo os dados da listaFuncionarios na tabela funcionarios:\n",
    "cursor.executemany(\"\"\"INSERT INTO funcionarios VALUES(?,?,?,?,?,?,?,?,?,?,?,?,?,?,?)\n",
    "\"\"\", listaFuncionarios)\n",
    "banco.commit()"
   ]
  },
  {
   "cell_type": "code",
   "execution_count": 10,
   "id": "bcb4dd29",
   "metadata": {},
   "outputs": [
    {
     "name": "stdout",
     "output_type": "stream",
     "text": [
      "[(1, 'x01', 'Lucas', 'Lourenção', 'Lourenção', '1987/07/01', '111.255.117-08', '1.959.420', 'Rua Carlos Cavalcante', '123456', 'Vitória', '(27) 9526-3312', 1, 'CEO', 15000.0), (2, 'x02', 'Pedro', 'Henrique', 'Menezes', '1980/12/12', '112.253.114-05', '1.333.444', 'Rua Antônio Magalhães', '543244', 'Anchieta', '(27) 9232-3142', 2, 'CFO', 13000.0), (3, 'x03', 'Vicente', 'Menezes', 'Aragão', '1999/10/30', '114.235.116-06', '1.349.443', 'Rua Alfredo Chaves', '879123', 'Guarapari', '(27) 9999-8877', 3, 'Diretor RH', 12000.0), (4, 'x03', 'Franciely', 'Pedrosa', 'Bicalho', '1986/06/29', '123.223.122-05', '1.329.423', 'Rua Cahoeiro dos Andes', '231567', 'Vitória', '(27) 9526-3312', 4, 'Diretor Financeiro', 12000.0), (5, 'x04', 'Talita', 'Souza', 'Silva', '2000/08/22', '151.244.417-03', '1.433.330', 'Rua Pedro Vasconcelos', '987678', 'Vila Velha', '(27) 9996-2322', 5, 'Gerente Logístico', 9000.0), (6, 'x04', 'Marina', 'Alcantara', 'Buriti', '1984/05/17', '114.265.155-03', '1.339.433', 'Rua Romildo Jacó', '543261', 'Anchieta', '(27) 9834-6587', 6, 'Gerente RH', 9000.0), (7, 'x04', 'Ana Bel', 'Eufrásio', 'Zorobabel', '1998/08/18', '110.355.137-02', '1.559.320', 'Rua Arlindo Soares', '334123', 'Vila Velha', '(27) 9862-3442', 7, 'Gerente Comercial', 9000.0), (8, 'x05', 'Teresinha', 'Pimenta', 'Alcoforado', '1979/12/27', '131.455.137-02', '1.578.110', 'Rua das Pratas', '435678', 'Serra', '(27) 9523-1243', 8, 'Executivo Vendas', 7000.0), (9, 'x05', 'Henrique', 'Miranda', 'Jacutia', '1981/07/02', '113.253.137-01', '1.235.411', 'Rua Julia Lacort Pena', '987654', 'Vitória', '(27) 9866-1312', 9, 'Executivo Comercial', 7000.0), (10, 'x05', 'Tiago', 'Albari', 'Pereira', '1986/07/03', '113.253.137-01', '1.235.411', 'Rua Julia Lacort Pena', '987654', 'Vitória', '(27) 8525-1212', 9, 'Executivo Comercial', 7000.0)]\n"
     ]
    }
   ],
   "source": [
    "# Retornar elementos da lista inserida na Tabela funcionarios:\n",
    "cursor.execute(\"\"\"SELECT * FROM funcionarios\"\"\")\n",
    "print(cursor.fetchall())"
   ]
  },
  {
   "cell_type": "markdown",
   "id": "96400ab4",
   "metadata": {},
   "source": [
    "### Criação da lista que vai popular a tabela departamentos:"
   ]
  },
  {
   "cell_type": "code",
   "execution_count": 4,
   "id": "0c222239",
   "metadata": {},
   "outputs": [
    {
     "name": "stdout",
     "output_type": "stream",
     "text": [
      "As tabelas foram excluída com sucesso!\n"
     ]
    }
   ],
   "source": [
    "# Comando para excluir as tabelas caso seja necessário um reset:\n",
    "cursor.execute(\"DROP TABLE funcionarios\")\n",
    "cursor.execute(\"DROP TABLE departamentos\")\n",
    "print('As tabelas foram excluída com sucesso!')"
   ]
  },
  {
   "cell_type": "code",
   "execution_count": 11,
   "id": "31ef8174",
   "metadata": {},
   "outputs": [],
   "source": [
    "listaDepartamentos = [('1', 'x01', 'Conselho Administrativo', 'Vitória', '010'),\n",
    "                      ('2', 'x02', 'Diretoria', 'Vitória', '015'),\n",
    "                      ('3', 'x03', 'Gerencia Geral', 'Vitória', '020'),\n",
    "                      ('4', 'x04', 'Gerencia Executiva', 'Vila Velha', '105'),\n",
    "                      ('5', 'x05', 'Gerencia Comercial', 'Vila Velha', '088')]"
   ]
  },
  {
   "cell_type": "code",
   "execution_count": 12,
   "id": "18d669f7",
   "metadata": {},
   "outputs": [],
   "source": [
    "# Inserindo os dados da listaDepartamentos na tabela departamentos:\n",
    "cursor.executemany(\"\"\"INSERT INTO departamentos VALUES(?,?,?,?,?)\n",
    "\"\"\", listaDepartamentos)\n",
    "banco.commit()"
   ]
  },
  {
   "cell_type": "code",
   "execution_count": 13,
   "id": "0a34baa7",
   "metadata": {},
   "outputs": [
    {
     "name": "stdout",
     "output_type": "stream",
     "text": [
      "[(1, 'x01', 'Conselho Administrativo', 'Vitória', 10), (2, 'x02', 'Diretoria', 'Vitória', 15), (3, 'x03', 'Gerencia Geral', 'Vitória', 20), (4, 'x04', 'Gerencia Executiva', 'Vila Velha', 105), (5, 'x05', 'Gerencia Comercial', 'Vila Velha', 88)]\n"
     ]
    }
   ],
   "source": [
    "# Retornar elementos da lista inserida na Tabela departamentos:\n",
    "cursor.execute(\"\"\"SELECT * FROM departamentos\"\"\")\n",
    "print(cursor.fetchall())"
   ]
  },
  {
   "cell_type": "markdown",
   "id": "6731e591",
   "metadata": {},
   "source": [
    "### Exercícios Propostos\n",
    "#### A) Listar nome e sobrenome ordenado por sobrenome:"
   ]
  },
  {
   "cell_type": "code",
   "execution_count": 106,
   "id": "70707a99",
   "metadata": {},
   "outputs": [
    {
     "name": "stdout",
     "output_type": "stream",
     "text": [
      "[('Teresinha', 'Pimenta', 'Alcoforado'), ('Vicente', 'Menezes', 'Aragão'), ('Franciely', 'Pedrosa', 'Bicalho'), ('Marina', 'Alcantara', 'Buriti'), ('Henrique', 'Miranda', 'Jacutia'), ('Lucas', 'Lourenção', 'Lourenção'), ('Pedro', 'Henrique', 'Menezes'), ('Tiago', 'Albari', 'Pereira'), ('Talita', 'Souza', 'Silva'), ('Ana Bel', 'Eufrásio', 'Zorobabel')]\n"
     ]
    }
   ],
   "source": [
    "cursor.execute(\"SELECT PrimeiroNome, SegundoNome, UltimoNome FROM funcionarios ORDER BY UltimoNome\")\n",
    "print(cursor.fetchall())"
   ]
  },
  {
   "cell_type": "markdown",
   "id": "7bcb9d13",
   "metadata": {},
   "source": [
    "#### B) Listar todos os campos de funcionários ordenados por cidade:"
   ]
  },
  {
   "cell_type": "code",
   "execution_count": 107,
   "id": "dd83ed88",
   "metadata": {},
   "outputs": [
    {
     "name": "stdout",
     "output_type": "stream",
     "text": [
      "[('Pedro', 'Anchieta'), ('Marina', 'Anchieta'), ('Vicente', 'Guarapari'), ('Teresinha', 'Serra'), ('Talita', 'Vila Velha'), ('Ana Bel', 'Vila Velha'), ('Lucas', 'Vitória'), ('Franciely', 'Vitória'), ('Henrique', 'Vitória'), ('Tiago', 'Vitória')]\n"
     ]
    }
   ],
   "source": [
    "cursor.execute(\"SELECT PrimeiroNome, Cidade FROM funcionarios ORDER BY Cidade\")\n",
    "print(cursor.fetchall())"
   ]
  },
  {
   "cell_type": "markdown",
   "id": "853f9adf",
   "metadata": {},
   "source": [
    "#### C) Liste os funcionários que têm salário superior a R$ 1.000,00 ordenados pelo nome completo:"
   ]
  },
  {
   "cell_type": "code",
   "execution_count": 108,
   "id": "de6a8539",
   "metadata": {},
   "outputs": [
    {
     "name": "stdout",
     "output_type": "stream",
     "text": [
      "[('Ana Bel', 'Eufrásio', 'Zorobabel', 9000.0), ('Franciely', 'Pedrosa', 'Bicalho', 12000.0), ('Henrique', 'Miranda', 'Jacutia', 7000.0), ('Lucas', 'Lourenção', 'Lourenção', 15000.0), ('Marina', 'Alcantara', 'Buriti', 9000.0), ('Pedro', 'Henrique', 'Menezes', 13000.0), ('Talita', 'Souza', 'Silva', 9000.0), ('Teresinha', 'Pimenta', 'Alcoforado', 7000.0), ('Tiago', 'Albari', 'Pereira', 7000.0), ('Vicente', 'Menezes', 'Aragão', 12000.0)]\n"
     ]
    }
   ],
   "source": [
    "cursor.execute(\"SELECT PrimeiroNome, SegundoNome, UltimoNome, Salario Cidade FROM funcionarios WHERE Salario > '1000' ORDER BY PrimeiroNome, SegundoNome, UltimoNome\")\n",
    "print(cursor.fetchall())"
   ]
  },
  {
   "cell_type": "markdown",
   "id": "d3bb498a",
   "metadata": {},
   "source": [
    "#### D) Liste a data de nascimento e o primeiro nome dos funcionários ordenados do mais novo para o mais velho:"
   ]
  },
  {
   "cell_type": "code",
   "execution_count": 109,
   "id": "cb5d11e2",
   "metadata": {},
   "outputs": [
    {
     "name": "stdout",
     "output_type": "stream",
     "text": [
      "[('Teresinha', '1979/12/27'), ('Pedro', '1980/12/12'), ('Henrique', '1981/07/02'), ('Marina', '1984/05/17'), ('Franciely', '1986/06/29'), ('Tiago', '1986/07/03'), ('Lucas', '1987/07/01'), ('Ana Bel', '1998/08/18'), ('Vicente', '1999/10/30'), ('Talita', '2000/08/22')]\n"
     ]
    }
   ],
   "source": [
    "cursor.execute(\"\"\"SELECT PrimeiroNome, DataNasci FROM funcionarios\n",
    "GROUP BY DataNasci\"\"\")\n",
    "print(cursor.fetchall())"
   ]
  },
  {
   "cell_type": "markdown",
   "id": "f24ae38b",
   "metadata": {},
   "source": [
    "#### E) Liste o total da folha de pagamento:"
   ]
  },
  {
   "cell_type": "code",
   "execution_count": 110,
   "id": "87f2e7b5",
   "metadata": {},
   "outputs": [
    {
     "name": "stdout",
     "output_type": "stream",
     "text": [
      "[(100000.0,)]\n"
     ]
    }
   ],
   "source": [
    "cursor.execute(\"SELECT SUM(Salario) FROM funcionarios\")\n",
    "print(cursor.fetchall())"
   ]
  },
  {
   "cell_type": "markdown",
   "id": "dafca8cc",
   "metadata": {},
   "source": [
    "#### F) Liste o nome, o nome do departamento e a função de todos os funcionários:"
   ]
  },
  {
   "cell_type": "code",
   "execution_count": 111,
   "id": "540861ea",
   "metadata": {},
   "outputs": [
    {
     "data": {
      "text/plain": [
       "[('Lucas', 'CEO', 'Conselho Administrativo'),\n",
       " ('Pedro', 'CFO', 'Diretoria'),\n",
       " ('Vicente', 'Diretor RH', 'Gerencia Geral'),\n",
       " ('Franciely', 'Diretor Financeiro', 'Gerencia Geral'),\n",
       " ('Talita', 'Gerente Logístico', 'Gerencia Executiva'),\n",
       " ('Marina', 'Gerente RH', 'Gerencia Executiva'),\n",
       " ('Ana Bel', 'Gerente Comercial', 'Gerencia Executiva'),\n",
       " ('Teresinha', 'Executivo Vendas', 'Gerencia Comercial'),\n",
       " ('Henrique', 'Executivo Comercial', 'Gerencia Comercial'),\n",
       " ('Tiago', 'Executivo Comercial', 'Gerencia Comercial')]"
      ]
     },
     "execution_count": 111,
     "metadata": {},
     "output_type": "execute_result"
    }
   ],
   "source": [
    "sql = \"\"\"SELECT funcionarios.PrimeiroNome, funcionarios.Funcao, departamentos.Nome\n",
    "FROM funcionarios\n",
    "INNER JOIN departamentos ON funcionarios.idCodigo = departamentos.idCodigo\"\"\"\n",
    "cursor.execute(sql)\n",
    "cursor.fetchall()"
   ]
  },
  {
   "cell_type": "markdown",
   "id": "4accdf33",
   "metadata": {},
   "source": [
    "#### G) Liste a quantidade de funcionários desta empresa:"
   ]
  },
  {
   "cell_type": "code",
   "execution_count": 112,
   "id": "63139dd9",
   "metadata": {},
   "outputs": [
    {
     "name": "stdout",
     "output_type": "stream",
     "text": [
      "[(10,)]\n"
     ]
    }
   ],
   "source": [
    "cursor.execute(\"SELECT COUNT(idCodigo) FROM funcionarios\")\n",
    "print(cursor.fetchall())"
   ]
  },
  {
   "cell_type": "markdown",
   "id": "cb2a6e51",
   "metadata": {},
   "source": [
    "#### H) Liste o nome do departamento e do funcionário ordenados por departamento e funcionário:"
   ]
  },
  {
   "cell_type": "code",
   "execution_count": 113,
   "id": "9ac933bc",
   "metadata": {},
   "outputs": [
    {
     "data": {
      "text/plain": [
       "[('Lucas', 'Conselho Administrativo'),\n",
       " ('Pedro', 'Diretoria'),\n",
       " ('Henrique', 'Gerencia Comercial'),\n",
       " ('Teresinha', 'Gerencia Comercial'),\n",
       " ('Tiago', 'Gerencia Comercial'),\n",
       " ('Ana Bel', 'Gerencia Executiva'),\n",
       " ('Marina', 'Gerencia Executiva'),\n",
       " ('Talita', 'Gerencia Executiva'),\n",
       " ('Franciely', 'Gerencia Geral'),\n",
       " ('Vicente', 'Gerencia Geral')]"
      ]
     },
     "execution_count": 113,
     "metadata": {},
     "output_type": "execute_result"
    }
   ],
   "source": [
    "sql = \"\"\"SELECT funcionarios.PrimeiroNome, departamentos.Nome\n",
    "FROM funcionarios\n",
    "INNER JOIN departamentos ON funcionarios.idCodigo = departamentos.idCodigo ORDER BY Nome, PrimeiroNome\"\"\"\n",
    "cursor.execute(sql)\n",
    "cursor.fetchall()"
   ]
  },
  {
   "cell_type": "code",
   "execution_count": null,
   "id": "6f4ec9e8",
   "metadata": {},
   "outputs": [],
   "source": []
  }
 ],
 "metadata": {
  "kernelspec": {
   "display_name": "Python 3",
   "language": "python",
   "name": "python3"
  },
  "language_info": {
   "codemirror_mode": {
    "name": "ipython",
    "version": 3
   },
   "file_extension": ".py",
   "mimetype": "text/x-python",
   "name": "python",
   "nbconvert_exporter": "python",
   "pygments_lexer": "ipython3",
   "version": "3.8.8"
  }
 },
 "nbformat": 4,
 "nbformat_minor": 5
}
