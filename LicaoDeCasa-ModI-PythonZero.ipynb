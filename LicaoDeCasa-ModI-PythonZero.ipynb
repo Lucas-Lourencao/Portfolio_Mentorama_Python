{
 "cells": [
  {
   "cell_type": "markdown",
   "id": "bfe5193d",
   "metadata": {},
   "source": [
    "# 1.\tFaça um programa que imprima seu nome completo na tela\n"
   ]
  },
  {
   "cell_type": "code",
   "execution_count": 1,
   "id": "721b80b3",
   "metadata": {},
   "outputs": [
    {
     "name": "stdout",
     "output_type": "stream",
     "text": [
      "Lucas Lourenção\n"
     ]
    }
   ],
   "source": [
    "print(\"Lucas Lourenção\")"
   ]
  },
  {
   "cell_type": "markdown",
   "id": "06cfe65e",
   "metadata": {},
   "source": [
    "# 2. Escreva um programa que exiba o resultado de 5a x 3b onde a = 2 e b = 5\n"
   ]
  },
  {
   "cell_type": "code",
   "execution_count": 2,
   "id": "857864d5",
   "metadata": {},
   "outputs": [
    {
     "name": "stdout",
     "output_type": "stream",
     "text": [
      "25\n"
     ]
    }
   ],
   "source": [
    "a = 2\n",
    "b = 5\n",
    "r = (5 * a) + (3 * b)\n",
    "print(r)"
   ]
  },
  {
   "cell_type": "markdown",
   "id": "c487c8cc",
   "metadata": {},
   "source": [
    "# 3.\tModifique o primeiro programa, inserindo uma terceira variável c = 5 e imprime a soma das três variáveis\n"
   ]
  },
  {
   "cell_type": "code",
   "execution_count": 3,
   "id": "bd8dff2f",
   "metadata": {},
   "outputs": [
    {
     "name": "stdout",
     "output_type": "stream",
     "text": [
      "12\n"
     ]
    }
   ],
   "source": [
    "a = 2\n",
    "b = 5\n",
    "c = 5\n",
    "r = a + b + c\n",
    "print(r)"
   ]
  },
  {
   "cell_type": "markdown",
   "id": "092cfa5b",
   "metadata": {
    "scrolled": true
   },
   "source": [
    "# 4.\tEscreva um programa que leia dois números e que pergunte qual operação você deseja realizar. \n",
    "#### Você deve poder calcular a soma (+), subtração(-), multiplicação(*) e divisão(/). \n",
    "#### Exiba o resultado da operação."
   ]
  },
  {
   "cell_type": "code",
   "execution_count": 4,
   "id": "3e058248",
   "metadata": {},
   "outputs": [
    {
     "name": "stdout",
     "output_type": "stream",
     "text": [
      "Digite um número: 10\n",
      "Digite outro número: 40\n",
      "Informe qual operação você deseja realizar\n",
      "entre os números 10.0 e 40.0, indicando um dos operadores a seguir:\n",
      " '+', '-', '*' ou '/'.\n",
      "Informar operação: /\n",
      "0.25\n"
     ]
    }
   ],
   "source": [
    "a = float(input('Digite um número: '))\n",
    "b = float(input('Digite outro número: '))\n",
    "c = input('''Informe qual operação você deseja realizar\\nentre os números {} e {}, indicando um dos operadores a seguir:\\n '+', '-', '*' ou '/'.\\nInformar operação: '''.format(a, b))\n",
    "if c == '+':\n",
    "    print(a + b)\n",
    "elif c == '-':\n",
    "    print(a - b)\n",
    "elif c == '*':\n",
    "    print(a * b)\n",
    "elif c == '/':\n",
    "    print(a / b)\n",
    "else:\n",
    "    print('O comando dado não é uma operação válida!')"
   ]
  },
  {
   "cell_type": "markdown",
   "id": "50b24c3e",
   "metadata": {},
   "source": [
    "# 5.\tEscreva um programa em Python para contar de 1 até 10.\n",
    "\n",
    "### a) usando a instrução while\n"
   ]
  },
  {
   "cell_type": "code",
   "execution_count": 5,
   "id": "9c6353b6",
   "metadata": {},
   "outputs": [
    {
     "name": "stdout",
     "output_type": "stream",
     "text": [
      "0\n",
      "1\n",
      "2\n",
      "3\n",
      "4\n",
      "5\n",
      "6\n",
      "7\n",
      "8\n",
      "9\n",
      "10\n"
     ]
    }
   ],
   "source": [
    "i = 0\n",
    "while(i <= 10):\n",
    "    print(i)\n",
    "    i += 1"
   ]
  },
  {
   "cell_type": "markdown",
   "id": "9aad45c5",
   "metadata": {},
   "source": [
    "### b) usando a instrução for e a função range\n",
    "\n"
   ]
  },
  {
   "cell_type": "code",
   "execution_count": 6,
   "id": "9c1423c5",
   "metadata": {},
   "outputs": [
    {
     "name": "stdout",
     "output_type": "stream",
     "text": [
      "0\n",
      "1\n",
      "2\n",
      "3\n",
      "4\n",
      "5\n",
      "6\n",
      "7\n",
      "8\n",
      "9\n",
      "10\n"
     ]
    }
   ],
   "source": [
    "i = 0\n",
    "for i in range(0, 11):\n",
    "    print(i)\n",
    "    i = i + 1"
   ]
  },
  {
   "cell_type": "markdown",
   "id": "b37aa54d",
   "metadata": {},
   "source": [
    "# 6.\tEscreva um programa para contar quantos números pares e ímpares existentes entre 1 e 10 bem como a soma deles.\n",
    "\n",
    "### a) usando a instrução while\n"
   ]
  },
  {
   "cell_type": "code",
   "execution_count": 7,
   "id": "d6df8f1b",
   "metadata": {},
   "outputs": [
    {
     "name": "stdout",
     "output_type": "stream",
     "text": [
      "1\n",
      "2\n",
      "3\n",
      "4\n",
      "5\n",
      "6\n",
      "7\n",
      "8\n",
      "9\n",
      "10\n",
      "Entre 1 e 10 existem 5 números pares e 5 números impares,'\n",
      "sendo a soma do número de pares e ímpares igual a 10.\n"
     ]
    }
   ],
   "source": [
    "# Numeros Pares\n",
    "numPar = 0\n",
    "numImpar = 0\n",
    "contador = 1\n",
    "while contador <= 10:\n",
    "    print(contador)\n",
    "    contador += 1\n",
    "    if contador % 2 == 0:\n",
    "        numPar += 1\n",
    "    else:\n",
    "        numImpar += 1\n",
    "print('''Entre 1 e 10 existem {} números pares e {} números impares,'\n",
    "sendo a soma do número de pares e ímpares igual a {}.'''.format(numPar, numImpar, (numPar + numImpar)))"
   ]
  },
  {
   "cell_type": "markdown",
   "id": "2679d501",
   "metadata": {},
   "source": [
    "### b) usando a instrução for e as funções range e sum\n"
   ]
  },
  {
   "cell_type": "code",
   "execution_count": 8,
   "id": "eb21aac2",
   "metadata": {},
   "outputs": [
    {
     "name": "stdout",
     "output_type": "stream",
     "text": [
      "1\n",
      "2\n",
      "3\n",
      "4\n",
      "5\n",
      "6\n",
      "7\n",
      "8\n",
      "9\n",
      "10\n",
      "Entre 1 e 10 existem 5 números pares e 5 números impares,'\n",
      "sendo a soma do número de pares e ímpares igual a 10.\n"
     ]
    }
   ],
   "source": [
    "numPar = 0\n",
    "numImpar = 0\n",
    "for contador in range(1, 11):\n",
    "    print(contador)\n",
    "    contador += 1\n",
    "    if contador % 2 == 0:\n",
    "        numPar += 1\n",
    "    else:\n",
    "        numImpar += 1\n",
    "quantidadeParesImpares = (numPar, numImpar)\n",
    "print('''Entre 1 e 10 existem {} números pares e {} números impares,'\n",
    "sendo a soma do número de pares e ímpares igual a {}.'''.format(numPar, numImpar, sum(quantidadeParesImpares)))"
   ]
  },
  {
   "cell_type": "code",
   "execution_count": 9,
   "id": "ac8e42c0",
   "metadata": {},
   "outputs": [],
   "source": [
    "#7.\tEscreva um programa para resolver equações do segundo grau representadas por ax2+bx+c usando a Fórmula de Bhaskara.\n",
    "\n",
    "### a) sem usar o módulo math:\n"
   ]
  },
  {
   "cell_type": "code",
   "execution_count": 10,
   "id": "f43dd269",
   "metadata": {},
   "outputs": [
    {
     "name": "stdout",
     "output_type": "stream",
     "text": [
      "Para os valores informados: a = 1.00, b = -5.00 e c = 6.00.\n",
      "Temos 1.00 para o valor de Delta e 3.00, 2.00 para os valores das raízes.\n"
     ]
    }
   ],
   "source": [
    "a = 1\n",
    "b = -5\n",
    "c = 6\n",
    "\n",
    "d = (b ** 2) - (4 * a * c)\n",
    "\n",
    "x1 = ((-b) + (d ** (1/2)))/(2 * a)\n",
    "x2 = ((-b) - (d ** (1/2)))/(2 * a)\n",
    "print('Para os valores informados: a = {:.2f}, b = {:.2f} e c = {:.2f}.'.format(a, b, c))\n",
    "print('Temos {:.2f} para o valor de Delta e {:.2f}, {:.2f} para os valores das raízes.'.format(d, x1, x2))\n",
    "\n",
    "# a=1,b=-5,c=6 --> d =1 ; x1 =3 , x2 =2 .\n",
    "# a=1,b=0,c=-9 --> d =36 ; x1 =3 , x2 =-3 .\n",
    "# a=5,b=-45,c=0 --> d =2025 ; x1 =9 , x2 =0 .\n",
    "# a=1,b=-1,c=-12 --> d =-47 ; x1 =0.50+3.43j , x2 =0.50-3.43j .\n",
    "# a=1,b=-6,c=10 --> d =-4 ; x1 =3.00+1.00j , x2 =3.00-1.00j ."
   ]
  },
  {
   "cell_type": "markdown",
   "id": "5dfa35bf",
   "metadata": {},
   "source": [
    "### b) usando o módulo math:\n"
   ]
  },
  {
   "cell_type": "code",
   "execution_count": 11,
   "id": "9808318f",
   "metadata": {},
   "outputs": [
    {
     "name": "stdout",
     "output_type": "stream",
     "text": [
      "Para os valores informados: a = 1.00, b = -5.00 e c = 6.00.\n",
      "Temos 1.00 para o valor de Delta e 3.00, 2.00 para os valores das raízes.\n"
     ]
    }
   ],
   "source": [
    "from math import pow, sqrt\n",
    "a = 1\n",
    "b = -5\n",
    "c = 6\n",
    "\n",
    "d = pow(b, 2) - (4 * a * c)\n",
    "\n",
    "x1 = (-(b) + sqrt(d))/(2 * a)\n",
    "x2 = (-(b) - sqrt(d))/(2 * a)\n",
    "\n",
    "print('Para os valores informados: a = {:.2f}, b = {:.2f} e c = {:.2f}.'.format(a, b, c))\n",
    "print('Temos {:.2f} para o valor de Delta e {:.2f}, {:.2f} para os valores das raízes.'.format(d, x1, x2))"
   ]
  },
  {
   "cell_type": "markdown",
   "id": "0ee80493",
   "metadata": {},
   "source": [
    "# 8.\tReescreva o programa acima criando uma função bhaskara que recebe como parâmetros os coeficientes a, b e c e retorna as raízes da equação.\n",
    "\n"
   ]
  },
  {
   "cell_type": "code",
   "execution_count": 12,
   "id": "0926f976",
   "metadata": {},
   "outputs": [
    {
     "name": "stdout",
     "output_type": "stream",
     "text": [
      "Informe um valor para a: 3\n",
      "Informe um valor para b: 4\n",
      "Informe um valor para c: 5\n",
      "Para os valores informados: a = 3.00, b = 4.00 e c = 5.00.\n",
      "Temos -0.67+1.11j e -0.67-1.11j para os valores das raízes.\n"
     ]
    }
   ],
   "source": [
    "a = float(input('Informe um valor para a: '))\n",
    "b = float(input('Informe um valor para b: '))\n",
    "c = float(input('Informe um valor para c: '))\n",
    "\n",
    "d = (b ** 2) - (4 * a * c)\n",
    "\n",
    "x1 = ((-b) + (d ** (1/2)))/(2 * a)\n",
    "x2 = ((-b) - (d ** (1/2)))/(2 * a)\n",
    "print('Para os valores informados: a = {:.2f}, b = {:.2f} e c = {:.2f}.'.format(a, b, c))\n",
    "print('Temos {:.2f} e {:.2f} para os valores das raízes.'.format(x1, x2))"
   ]
  },
  {
   "cell_type": "markdown",
   "id": "34d2401f",
   "metadata": {},
   "source": [
    "# 9. Considerando a string s = 'Mentorama' escreva um programa que:\n",
    "\n",
    "### a) converta a string para maiúsculo, em seguida\n"
   ]
  },
  {
   "cell_type": "code",
   "execution_count": 13,
   "id": "7281f00a",
   "metadata": {},
   "outputs": [
    {
     "name": "stdout",
     "output_type": "stream",
     "text": [
      "Em maiúsculo temos: MENTORAMA\n",
      "De trás para frente temos: AMAROTNEM\n",
      "As vogais presentes na palavra Mentorama são: eoaa.\n"
     ]
    }
   ],
   "source": [
    "s = 'Mentorama'\n",
    "S = s.upper()\n",
    "print('Em maiúsculo temos: {}'.format(S))\n",
    "#b) imprima-a de trás para frente\n",
    "#Mentorama são 9 caracteres, mas considerando a posição 0 são 8 posições, por isso i deve ser\n",
    "#descrito da forma abaixo:\n",
    "i = len(S) - 1\n",
    "trasParaFrente = ''\n",
    "while i >= 0:\n",
    "    trasParaFrente = trasParaFrente + S[i]\n",
    "    i += -1\n",
    "print('De trás para frente temos: {}'.format(trasParaFrente))\n",
    "#c) imprima somente as vogais\n",
    "vogais = ''\n",
    "tamanhoPalavra = 0\n",
    "while tamanhoPalavra != len(s):\n",
    "    if s[tamanhoPalavra] == 'a':\n",
    "        vogais = vogais + s[tamanhoPalavra]\n",
    "    elif s[tamanhoPalavra] == 'e':\n",
    "        vogais = vogais + s[tamanhoPalavra]\n",
    "    elif s[tamanhoPalavra] == 'i':\n",
    "        vogais = vogais + s[tamanhoPalavra]\n",
    "    elif s[tamanhoPalavra] == 'o':\n",
    "        vogais = vogais + s[tamanhoPalavra]\n",
    "    elif s[tamanhoPalavra] == 'u':\n",
    "        vogais = vogais + s[tamanhoPalavra]\n",
    "    tamanhoPalavra += 1\n",
    "print('As vogais presentes na palavra Mentorama são: {}.'.format(vogais))"
   ]
  },
  {
   "cell_type": "markdown",
   "id": "4d1413ec",
   "metadata": {},
   "source": [
    "# 10. Escreva um programa que pergunte o valor inicial de uma dívida e o juros mensal. Pergunte também o valor mensal que será pago.\n",
    "# Imprima o número de meses para que a dívida seja paga, o total pago\n",
    "# e o total de juros a pago.\n",
    "\n"
   ]
  },
  {
   "cell_type": "code",
   "execution_count": 14,
   "id": "fee5483a",
   "metadata": {},
   "outputs": [
    {
     "name": "stdout",
     "output_type": "stream",
     "text": [
      "Informe o valor inicial da dívida: R$ 1000\n",
      "Informe o juros mensais, em %, a serem cobrados: 10\n",
      "Qual o valor mensal da parcela: R$ 4\n",
      "Antes do pagamento da primeira parcela a dívida era R$ 1100.00.\n",
      "O valor da última parcela foi de R$ 4.00.\n",
      "O valor total pago é igual a R$ 1104.00.\n",
      "O juros pago é igual a R$ 104.00.\n",
      "A dívida será paga em 276.00 meses.\n"
     ]
    }
   ],
   "source": [
    "divida = float(input('Informe o valor inicial da dívida: R$ '))\n",
    "taxa = float(input('Informe o juros mensais, em %, a serem cobrados: '))\n",
    "parcela = float(input('Qual o valor mensal da parcela: R$ '))\n",
    "\n",
    "# primeiroMes\n",
    "saldoDevedorPrimeiroMes = divida * (1 + (taxa / 100))\n",
    "print('Antes do pagamento da primeira parcela a dívida era R$ {:.2f}.'.format(saldoDevedorPrimeiroMes))\n",
    "\n",
    "saldoDevedor = saldoDevedorPrimeiroMes\n",
    "numeroParcela = 1\n",
    "while saldoDevedor > parcela:\n",
    "    saldoDevedor = saldoDevedor - parcela\n",
    "    numeroParcela += 1\n",
    "\n",
    "ultimaParcela = saldoDevedor\n",
    "print('O valor da última parcela foi de R$ {:.2f}.'.format(ultimaParcela))\n",
    "\n",
    "totalPago = numeroParcela * parcela + ultimaParcela\n",
    "print('O valor total pago é igual a R$ {:.2f}.'.format(totalPago))\n",
    "juros = totalPago - divida\n",
    "print('O juros pago é igual a R$ {:.2f}.'.format(juros))\n",
    "totalParcelas = numeroParcela +1\n",
    "print('A dívida será paga em {:.2f} meses.'.format(totalParcelas))\n",
    "\n",
    "# segundoMes\n",
    "#saldoDevedor2 = saldoDevedor1 - parcela\n",
    "#print(saldoDevedor2)\n",
    "\n",
    "# terceiroMes\n",
    "#saldoDevedor3 = saldoDevedor2 - parcela\n",
    "#print(saldoDevedor3)\n",
    "\n",
    "# quartoMes\n",
    "#saldoDevedor4 = saldoDevedor3 - parcela\n",
    "#print(saldoDevedor4)\n",
    "\n",
    "# t = (divida * (1 + ((1 + i)**t)))/parcela\n",
    "# pagoTotal = parcela * t"
   ]
  },
  {
   "cell_type": "code",
   "execution_count": null,
   "id": "fe857065",
   "metadata": {},
   "outputs": [],
   "source": []
  }
 ],
 "metadata": {
  "kernelspec": {
   "display_name": "Python 3",
   "language": "python",
   "name": "python3"
  },
  "language_info": {
   "codemirror_mode": {
    "name": "ipython",
    "version": 3
   },
   "file_extension": ".py",
   "mimetype": "text/x-python",
   "name": "python",
   "nbconvert_exporter": "python",
   "pygments_lexer": "ipython3",
   "version": "3.8.8"
  }
 },
 "nbformat": 4,
 "nbformat_minor": 5
}
