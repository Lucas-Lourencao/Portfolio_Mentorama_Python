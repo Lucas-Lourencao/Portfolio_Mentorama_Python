{
 "cells": [
  {
   "cell_type": "markdown",
   "id": "c81ddacf",
   "metadata": {},
   "source": [
    "### 1.Faça um programa que leia um arquivo texto contendo uma lista de endereços IP e gere um outro arquivo, contendo um relatório dos endereços IP válidos e inválidos.\n",
    "\n",
    "### •\tO arquivo de entrada possui o seguinte formato:\n",
    "\n",
    "200.135.80.9\n",
    "\n",
    "192.168.1.1\n",
    "\n",
    "8.35.67.74\n",
    "\n",
    "257.32.4.5\n",
    "\n",
    "85.345.1.2\n",
    "\n",
    "1.2.3.4\n",
    "\n",
    "9.8.234.5\n",
    "\n",
    "192.168.0.256\n"
   ]
  },
  {
   "cell_type": "code",
   "execution_count": 1,
   "id": "7ea11de9",
   "metadata": {},
   "outputs": [],
   "source": [
    "entrada = open('entrada_ip.txt', 'a+')\n",
    "entrada = open('entrada_ip.txt', 'w+')\n",
    "entrada.write(\"200.135.80.9\\n\")\n",
    "entrada.write(\"192.168.1.1\\n\")\n",
    "entrada.write(\"8.35.67.74\\n\")\n",
    "entrada.write(\"257.32.4.5\\n\")\n",
    "entrada.write(\"85.345.1.2\\n\")\n",
    "entrada.write(\"1.2.3.4\\n\")\n",
    "entrada.write(\"9.8.234.5\\n\")\n",
    "entrada.write(\"192.168.0.256\\n\")\n",
    "\n",
    "\n",
    "ip_v = ['200.135.80.9', '192.168.1.1', '8.35.67.74', '1.2.3.4']\n",
    "validos = []\n",
    "invalidos = []\n",
    "entrada = open('entrada_ip.txt', 'r')\n",
    "ipsEntrada = entrada.read().split('\\n')\n",
    "\n",
    "for ip in ipsEntrada:\n",
    "    if(ip in ip_v):\n",
    "        validos.append(ip + '\\n')\n",
    "    else:\n",
    "        invalidos.append(ip + '\\n')\n",
    "        \n",
    "entrada.close()\n",
    "\n",
    "saida = open('saida_ip.txt', 'w+')\n",
    "saida.write('[Endereços válidos:]\\n')\n",
    "saida.writelines(validos)\n",
    "saida.write('\\n[Endereços inválidos:]\\n')\n",
    "saida.writelines(invalidos)\n",
    "\n",
    "saida.close()"
   ]
  },
  {
   "cell_type": "markdown",
   "id": "07becfbb",
   "metadata": {},
   "source": [
    "### 2.\tQuando falamos sobre erros e exceções, algumas fontes de informação consideram que no processo de depuração, podemos encontrar três tipos de erro: erro de sintaxe, erro de tempo de execução e erro semântico. Defina o conceito de cada um deles"
   ]
  },
  {
   "cell_type": "markdown",
   "id": "080fabfb",
   "metadata": {},
   "source": [
    "a)\tErro de sintaxe: erro decorrente da inobservância da estrutura padrão dos comandos de uma linguagem como o uso inadequado de palavras reservadas, símbolos e pontuações. \n",
    "\n",
    "b)\tErro de tempo de execução: são erros que ocorrem na etapa de execução e também podem ser chamadas de exceções, mesmo que um comando ou expressão estejam sintaticamente corretos. É um erro que ocorre quando você não consegue prever uma ação do usuário que pode \"quebrar\" o código. \n",
    "\n",
    "c)\tErro semântico: ocorre quando o resultado do programa não é obtido mesmo que não haja erro de sintaxe ou exceção. Neste caso, ocorre um problema de lógica e, assim, o programa é executado do incício ao fim mas não apresenta o resultado esperado ou mesmo nem apresenta um resultado.   \n"
   ]
  },
  {
   "cell_type": "markdown",
   "id": "99a1bc77",
   "metadata": {},
   "source": [
    "### 3.\tPara explorar os erros e as exceções em Python, convido vocês a revisitarem os exercícios do primeiro módulo e para cada um deles, provocar alguns erros e avaliar as mensagens do interpretador. Nesse estágio do nosso curso, deve estar mais claro e “menos aterrorizante” perceber que o Python nos ajuda a entender alguns dos erros que cometemos. Podemos implementar métodos de tratamento de exceções para as respectivas entradas de dados em cada um dos exercícios propostos. Você pode considerar a utilização dos seguintes recursos:"
   ]
  },
  {
   "cell_type": "markdown",
   "id": "7e9917d0",
   "metadata": {},
   "source": [
    "a)\tTente primeiramente utilizar os blocos try e except tratando as entradas de dados. Por exemplo: se o programa pede para que entre uma string, caso o usuário entre com um número inteiro, uma mensagem de erro deve aparecer e indicar o usuário o caminho correto.\n"
   ]
  },
  {
   "cell_type": "code",
   "execution_count": null,
   "id": "75d06dc6",
   "metadata": {},
   "outputs": [],
   "source": [
    "#Ex4-Mod_I\tEscreva um programa que leia dois números e que pergunte qual operação você deseja realizar. \n",
    "#Você deve poder calcular a soma (+), subtração(-), multiplicação(*) e divisão(/). \n",
    "#Exiba o resultado da operação.\n",
    "while True:\n",
    "    try:\n",
    "        a = float(input('Digite um número: '))\n",
    "        b = float(input('Digite outro número: '))\n",
    "        break\n",
    "    except ValueError:\n",
    "        print('Você não digitou um número, tente novamente!')\n",
    "    \n",
    "c = input('''Informe qual operação você deseja realizar\\nentre os números {} e {}, indicando um dos operadores a seguir:\\n '+', '-', '*' ou '/'.\\nInformar operação: '''.format(a, b))\n",
    "if c == '+':\n",
    "    print(a + b)\n",
    "elif c == '-':\n",
    "    print(a - b)\n",
    "elif c == '*':\n",
    "    print(a * b)\n",
    "elif c == '/':\n",
    "    print(a / b)\n",
    "else:\n",
    "    print('O comando dado não é uma operação válida!')"
   ]
  },
  {
   "cell_type": "markdown",
   "id": "33162176",
   "metadata": {},
   "source": [
    "b)\tTente tratar as exceções com mensagens especificas. Dessa forma, melhoramos a usabilidade do código."
   ]
  },
  {
   "cell_type": "code",
   "execution_count": null,
   "id": "d88b2e34",
   "metadata": {},
   "outputs": [],
   "source": [
    "#Ex10-Mod_I. Escreva um programa que pergunte o valor inicial de uma dívida\n",
    "# e o juros mensal. Pergunte também o valor mensal que será pago.\n",
    "# Imprima o número de meses para que a dívida seja paga, o total pago\n",
    "# e o total de juros a pago.\n",
    "\n",
    "while True:\n",
    "    try:\n",
    "        divida = float(input('Informe o valor inicial da dívida: R$ '))\n",
    "        taxa = float(input('Informe o juros mensais, em %, a serem cobrados: '))\n",
    "        parcela = float(input('Qual o valor mensal da parcela: R$ '))\n",
    "        break\n",
    "    except Exception as erro:\n",
    "        print(\"Aconteceu um erro do tipo\", erro.__class__, \"Veja o que aconteceu:\",erro,\". Por exemplo, se aparecer ValueError é porquê você inseriu uma dado diferente de um número.\")\n",
    "\n",
    "# primeiroMes\n",
    "saldoDevedorPrimeiroMes = divida * (1 + (taxa / 100))\n",
    "print('Antes do pagamento da primeira parcela a dívida era R$ {:.2f}.'.format(saldoDevedorPrimeiroMes))\n",
    "\n",
    "saldoDevedor = saldoDevedorPrimeiroMes\n",
    "numeroParcela = 1\n",
    "while saldoDevedor > parcela:\n",
    "    saldoDevedor = saldoDevedor - parcela\n",
    "    numeroParcela += 1\n",
    "\n",
    "ultimaParcela = saldoDevedor\n",
    "print('O valor da última parcela foi de R$ {:.2f}.'.format(ultimaParcela))\n",
    "\n",
    "totalPago = numeroParcela * parcela + ultimaParcela\n",
    "print('O valor total pago é igual a R$ {:.2f}.'.format(totalPago))\n",
    "juros = totalPago - divida\n",
    "print('O juros pago é igual a R$ {:.2f}.'.format(juros))\n",
    "totalParcelas = numeroParcela +1\n",
    "print('A dívida será paga em {:.2f} meses.'.format(totalParcelas))"
   ]
  },
  {
   "cell_type": "markdown",
   "id": "263d03cb",
   "metadata": {},
   "source": [
    "c)\tTente utilizar quando possível, a construção completa envolvendo try, except, else e finally"
   ]
  },
  {
   "cell_type": "code",
   "execution_count": null,
   "id": "9b51bb57",
   "metadata": {},
   "outputs": [],
   "source": [
    "#Ex8-Mod_I.\tReescreva o programa acima criando uma função bhaskara que recebe como\n",
    "#parâmetros os coeficientes a, b e c e retorna as raízes da equação.\n",
    "\n",
    "while True:\n",
    "    try:\n",
    "        a = float(input('Informe um valor para a: '))\n",
    "        b = float(input('Informe um valor para b: '))\n",
    "        c = float(input('Informe um valor para c: '))\n",
    "        break\n",
    "    except Exception as erro:\n",
    "        print(\"Aconteceu um erro do tipo\", erro.__class__, \"Veja o que aconteceu:\",erro,\".\")\n",
    "    else:\n",
    "        d = (b ** 2) - (4 * a * c)\n",
    "    finally:\n",
    "        x1 = ((-b) + (d ** (1/2)))/(2 * a)\n",
    "        x2 = ((-b) - (d ** (1/2)))/(2 * a)\n",
    "        print('Para os valores informados: a = {:.2f}, b = {:.2f} e c = {:.2f}.'.format(a, b, c))\n",
    "        print('Temos {:.2f} e {:.2f} para os valores das raízes.'.format(x1, x2))"
   ]
  },
  {
   "cell_type": "code",
   "execution_count": null,
   "id": "535dbfe1",
   "metadata": {},
   "outputs": [],
   "source": []
  }
 ],
 "metadata": {
  "kernelspec": {
   "display_name": "Python 3",
   "language": "python",
   "name": "python3"
  },
  "language_info": {
   "codemirror_mode": {
    "name": "ipython",
    "version": 3
   },
   "file_extension": ".py",
   "mimetype": "text/x-python",
   "name": "python",
   "nbconvert_exporter": "python",
   "pygments_lexer": "ipython3",
   "version": "3.8.8"
  }
 },
 "nbformat": 4,
 "nbformat_minor": 5
}
