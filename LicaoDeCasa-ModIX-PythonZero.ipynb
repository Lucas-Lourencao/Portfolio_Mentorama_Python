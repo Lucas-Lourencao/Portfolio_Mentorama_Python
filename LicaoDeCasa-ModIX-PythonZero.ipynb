{
 "cells": [
  {
   "attachments": {
    "image.png": {
     "image/png": "[encoded data removed]"
    }
   },
   "cell_type": "markdown",
   "metadata": {},
   "source": [
    "# Projeto - Análise e Visualização de Dados\n",
    "\n",
    "Em nossas aulas, conhecemos as principais bibliotecas para se trabalhar com Análise e Visualização de Dados em Python. Aprendemos também como trabalhar com tabelas e fazer operações sobre elas, de modo que possamos analisar e inferir sobre uma base de dados existente.\n",
    "\n",
    "Para este projeto, imagine que o seu chefe disponibilize uma base de dados para que você possa analisá-la a partir dos seus conhecimentos em Python. Para essa tarefa, você deve utilizar o Matplotlib para visualização de alguns gráficos e demais bibliotecas, Pandas e NumPy para análise e manipulação dos dados. Com o correto uso das funcionalidades da linguagem, você será capaz de conduzir de maneira correta, a análise e visualização de dados, trabalho básico de um Cientista de Dados.\n",
    "Para iniciar o seu projeto, siga as instruções abaixo:\n",
    "\n",
    "* Faça o download dos arquivos disponibilizados nesta aula e armazene na mesma pasta em que irá armazenar os seus arquivos de código.\n",
    "* Carregue a tabela .csv para que você possa fazer a leitura de dados da mesma\n",
    "* Imprima parte do conteúdo para verificar se a leitura está acontecendo corretamente\n",
    "![image.png](attachment:image.png)\n"
   ]
  },
  {
   "cell_type": "code",
   "execution_count": 15,
   "metadata": {},
   "outputs": [],
   "source": [
    "# importa a biblioteca pandas e numpy\n",
    "import numpy as np\n",
    "import pandas as pd\n",
    "import matplotlib.pyplot as plt"
   ]
  },
  {
   "cell_type": "code",
   "execution_count": 16,
   "metadata": {},
   "outputs": [],
   "source": [
    "# armazena os dados da tabela em uma estrutura tipo data frame\n",
    "df = pd.read_csv(\"1-dadosgovbr---2014.csv\",sep = ';', encoding=\"latin-1\")"
   ]
  },
  {
   "cell_type": "code",
   "execution_count": 17,
   "metadata": {},
   "outputs": [
    {
     "data": {
      "text/html": [
       "<div>\n",
       "<style scoped>\n",
       "    .dataframe tbody tr th:only-of-type {\n",
       "        vertical-align: middle;\n",
       "    }\n",
       "\n",
       "    .dataframe tbody tr th {\n",
       "        vertical-align: top;\n",
       "    }\n",
       "\n",
       "    .dataframe thead th {\n",
       "        text-align: right;\n",
       "    }\n",
       "</style>\n",
       "<table border=\"1\" class=\"dataframe\">\n",
       "  <thead>\n",
       "    <tr style=\"text-align: right;\">\n",
       "      <th></th>\n",
       "      <th>Gestor</th>\n",
       "      <th>Canal de Origem</th>\n",
       "      <th>Região</th>\n",
       "      <th>UF</th>\n",
       "      <th>Cidade</th>\n",
       "      <th>Sexo</th>\n",
       "      <th>Faixa Etária</th>\n",
       "      <th>Ano Abertura</th>\n",
       "      <th>Mês Abertura</th>\n",
       "      <th>Data Abertura</th>\n",
       "      <th>...</th>\n",
       "      <th>Como Comprou Contratou</th>\n",
       "      <th>Procurou Empresa</th>\n",
       "      <th>Respondida</th>\n",
       "      <th>Situação</th>\n",
       "      <th>Avaliação Reclamação</th>\n",
       "      <th>Nota do Consumidor</th>\n",
       "      <th>Análise da Recusa</th>\n",
       "      <th>Edição de Conteúdo</th>\n",
       "      <th>Interação do Gestor</th>\n",
       "      <th>Total</th>\n",
       "    </tr>\n",
       "  </thead>\n",
       "  <tbody>\n",
       "    <tr>\n",
       "      <th>0</th>\n",
       "      <td>Secretaria Nacional do Consumidor</td>\n",
       "      <td>Não identificado</td>\n",
       "      <td>SE</td>\n",
       "      <td>RJ</td>\n",
       "      <td>Itaboraí</td>\n",
       "      <td>M</td>\n",
       "      <td>entre 31 a 40 anos</td>\n",
       "      <td>2014</td>\n",
       "      <td>6</td>\n",
       "      <td>27/06/2014</td>\n",
       "      <td>...</td>\n",
       "      <td>Não comprei / contratei</td>\n",
       "      <td>S</td>\n",
       "      <td>S</td>\n",
       "      <td>Finalizada não avaliada</td>\n",
       "      <td>Não Avaliada</td>\n",
       "      <td>NaN</td>\n",
       "      <td>NaN</td>\n",
       "      <td>N</td>\n",
       "      <td>N</td>\n",
       "      <td>1</td>\n",
       "    </tr>\n",
       "    <tr>\n",
       "      <th>1</th>\n",
       "      <td>Instituto Estadual de Proteção e Defesa do Con...</td>\n",
       "      <td>Não identificado</td>\n",
       "      <td>SE</td>\n",
       "      <td>ES</td>\n",
       "      <td>Serra</td>\n",
       "      <td>F</td>\n",
       "      <td>entre 31 a 40 anos</td>\n",
       "      <td>2014</td>\n",
       "      <td>6</td>\n",
       "      <td>11/06/2014</td>\n",
       "      <td>...</td>\n",
       "      <td>Internet</td>\n",
       "      <td>S</td>\n",
       "      <td>S</td>\n",
       "      <td>Finalizada avaliada</td>\n",
       "      <td>Não Resolvida</td>\n",
       "      <td>1.0</td>\n",
       "      <td>NaN</td>\n",
       "      <td>N</td>\n",
       "      <td>N</td>\n",
       "      <td>1</td>\n",
       "    </tr>\n",
       "    <tr>\n",
       "      <th>2</th>\n",
       "      <td>Secretaria Nacional do Consumidor</td>\n",
       "      <td>Não identificado</td>\n",
       "      <td>SE</td>\n",
       "      <td>RJ</td>\n",
       "      <td>Volta Redonda</td>\n",
       "      <td>M</td>\n",
       "      <td>entre 31 a 40 anos</td>\n",
       "      <td>2014</td>\n",
       "      <td>6</td>\n",
       "      <td>27/06/2014</td>\n",
       "      <td>...</td>\n",
       "      <td>Internet</td>\n",
       "      <td>S</td>\n",
       "      <td>S</td>\n",
       "      <td>Finalizada avaliada</td>\n",
       "      <td>Resolvida</td>\n",
       "      <td>5.0</td>\n",
       "      <td>NaN</td>\n",
       "      <td>N</td>\n",
       "      <td>N</td>\n",
       "      <td>1</td>\n",
       "    </tr>\n",
       "    <tr>\n",
       "      <th>3</th>\n",
       "      <td>Instituto de Promoção e Defesa do Cidadão e Co...</td>\n",
       "      <td>Não identificado</td>\n",
       "      <td>NE</td>\n",
       "      <td>MA</td>\n",
       "      <td>São Luís</td>\n",
       "      <td>F</td>\n",
       "      <td>entre 31 a 40 anos</td>\n",
       "      <td>2014</td>\n",
       "      <td>5</td>\n",
       "      <td>29/05/2014</td>\n",
       "      <td>...</td>\n",
       "      <td>Não comprei / contratei</td>\n",
       "      <td>S</td>\n",
       "      <td>S</td>\n",
       "      <td>Finalizada avaliada</td>\n",
       "      <td>Resolvida</td>\n",
       "      <td>5.0</td>\n",
       "      <td>NaN</td>\n",
       "      <td>N</td>\n",
       "      <td>N</td>\n",
       "      <td>1</td>\n",
       "    </tr>\n",
       "    <tr>\n",
       "      <th>4</th>\n",
       "      <td>Secretaria de Desenvolvimento Social e Direito...</td>\n",
       "      <td>Não identificado</td>\n",
       "      <td>NE</td>\n",
       "      <td>PE</td>\n",
       "      <td>Recife</td>\n",
       "      <td>M</td>\n",
       "      <td>entre 21 a 30 anos</td>\n",
       "      <td>2014</td>\n",
       "      <td>6</td>\n",
       "      <td>30/06/2014</td>\n",
       "      <td>...</td>\n",
       "      <td>Internet</td>\n",
       "      <td>S</td>\n",
       "      <td>S</td>\n",
       "      <td>Finalizada não avaliada</td>\n",
       "      <td>Não Avaliada</td>\n",
       "      <td>NaN</td>\n",
       "      <td>NaN</td>\n",
       "      <td>N</td>\n",
       "      <td>N</td>\n",
       "      <td>1</td>\n",
       "    </tr>\n",
       "  </tbody>\n",
       "</table>\n",
       "<p>5 rows × 38 columns</p>\n",
       "</div>"
      ],
      "text/plain": [
       "                                              Gestor   Canal de Origem Região  \\\n",
       "0                  Secretaria Nacional do Consumidor  Não identificado     SE   \n",
       "1  Instituto Estadual de Proteção e Defesa do Con...  Não identificado     SE   \n",
       "2                  Secretaria Nacional do Consumidor  Não identificado     SE   \n",
       "3  Instituto de Promoção e Defesa do Cidadão e Co...  Não identificado     NE   \n",
       "4  Secretaria de Desenvolvimento Social e Direito...  Não identificado     NE   \n",
       "\n",
       "   UF         Cidade Sexo        Faixa Etária  Ano Abertura  Mês Abertura  \\\n",
       "0  RJ       Itaboraí    M  entre 31 a 40 anos          2014             6   \n",
       "1  ES          Serra    F  entre 31 a 40 anos          2014             6   \n",
       "2  RJ  Volta Redonda    M  entre 31 a 40 anos          2014             6   \n",
       "3  MA       São Luís    F  entre 31 a 40 anos          2014             5   \n",
       "4  PE         Recife    M  entre 21 a 30 anos          2014             6   \n",
       "\n",
       "  Data Abertura  ...   Como Comprou Contratou Procurou Empresa Respondida  \\\n",
       "0    27/06/2014  ...  Não comprei / contratei                S          S   \n",
       "1    11/06/2014  ...                 Internet                S          S   \n",
       "2    27/06/2014  ...                 Internet                S          S   \n",
       "3    29/05/2014  ...  Não comprei / contratei                S          S   \n",
       "4    30/06/2014  ...                 Internet                S          S   \n",
       "\n",
       "                  Situação Avaliação Reclamação Nota do Consumidor  \\\n",
       "0  Finalizada não avaliada         Não Avaliada                NaN   \n",
       "1      Finalizada avaliada        Não Resolvida                1.0   \n",
       "2      Finalizada avaliada            Resolvida                5.0   \n",
       "3      Finalizada avaliada            Resolvida                5.0   \n",
       "4  Finalizada não avaliada         Não Avaliada                NaN   \n",
       "\n",
       "  Análise da Recusa Edição de Conteúdo Interação do Gestor Total  \n",
       "0               NaN                  N                   N     1  \n",
       "1               NaN                  N                   N     1  \n",
       "2               NaN                  N                   N     1  \n",
       "3               NaN                  N                   N     1  \n",
       "4               NaN                  N                   N     1  \n",
       "\n",
       "[5 rows x 38 columns]"
      ]
     },
     "execution_count": 17,
     "metadata": {},
     "output_type": "execute_result"
    }
   ],
   "source": [
    "# visualizar alguns dados da tabela carregada\n",
    "df.head()"
   ]
  },
  {
   "cell_type": "code",
   "execution_count": 18,
   "metadata": {},
   "outputs": [
    {
     "data": {
      "text/plain": [
       "Index(['Gestor', 'Canal de Origem', 'Região', 'UF', 'Cidade', 'Sexo',\n",
       "       'Faixa Etária', 'Ano Abertura', 'Mês Abertura', 'Data Abertura',\n",
       "       'Hora Abertura', 'Data Resposta', 'Hora Resposta', 'Data Análise',\n",
       "       'Hora Análise', 'Data Recusa', 'Hora Recusa', 'Data Finalização',\n",
       "       'Hora Finalização', 'Prazo Resposta', 'Prazo Analise Gestor',\n",
       "       'Tempo Resposta', 'Nome Fantasia', 'Segmento de Mercado', 'Área',\n",
       "       'Assunto', 'Grupo Problema', 'Problema', 'Como Comprou Contratou',\n",
       "       'Procurou Empresa', 'Respondida', 'Situação', 'Avaliação Reclamação',\n",
       "       'Nota do Consumidor', 'Análise da Recusa', 'Edição de Conteúdo',\n",
       "       'Interação do Gestor', 'Total'],\n",
       "      dtype='object')"
      ]
     },
     "execution_count": 18,
     "metadata": {},
     "output_type": "execute_result"
    }
   ],
   "source": [
    "# Retorna todos os nomes das colunas:\n",
    "df.columns"
   ]
  },
  {
   "cell_type": "code",
   "execution_count": 19,
   "metadata": {},
   "outputs": [
    {
     "data": {
      "text/plain": [
       "Index(['Gestor', 'Canal_Origem', 'Regiao', 'UF', 'Cidade', 'Sexo',\n",
       "       'Faixa_Etaria', 'Ano_Abertura', 'Mes_Abertura', 'Data_Abertura',\n",
       "       'Hora_Abertura', 'Data_Resposta', 'Hora_Resposta', 'Data_Analise',\n",
       "       'Hora_Analise', 'Data_Recusa', 'Hora_Recusa', 'Data_Finalizacao',\n",
       "       'Hora_Finalizacao', 'Prazo_Resposta', 'Prazo_Analise_Gestor',\n",
       "       'Tempo_Resposta', 'Nome_Fantasia', 'Segmento_de_Mercado', 'Area',\n",
       "       'Assunto', 'Grupo_Problema', 'Problema', 'Como_Comprou_Contratou',\n",
       "       'Procurou_Empresa', 'Respondida', 'Situacao', 'Avaliacao_Reclamacao',\n",
       "       'Nota_do_Consumidor', 'Analise_da_Recusa', 'Edicao_de_Conteudo',\n",
       "       'Interacao_do_Gestor', 'Total'],\n",
       "      dtype='object')"
      ]
     },
     "execution_count": 19,
     "metadata": {},
     "output_type": "execute_result"
    }
   ],
   "source": [
    "# Não é uma boa prática termos colunas cujos nomes estão separados por espaço. É melhor separarmos \n",
    "# por \"_\". Ainda, como os nomes estão em inglês vamos renomear para o português para ficar mais fácil \n",
    "# o entendimento. O \"inplace=true\" nos permite salvar a nova variável dados sem necessidade de \n",
    "# declará-la novamente.\n",
    "\n",
    "df.rename(columns = {\"Canal de Origem\":\"Canal_Origem\",\"Região\":\"Regiao\", \"Faixa Etária\":\"Faixa_Etaria\",\"Ano Abertura\":\"Ano_Abertura\",\\\n",
    "\"Mês Abertura\":\"Mes_Abertura\",\"Data Abertura\":\"Data_Abertura\", \"Hora Abertura\":\"Hora_Abertura\", \"Data Resposta\": \"Data_Resposta\", \"Hora Resposta\":\"Hora_Resposta\",\\\n",
    "\"Data Análise\":\"Data_Analise\",\"Hora Análise\":\"Hora_Analise\", \"Data Recusa\":\"Data_Recusa\", \"Hora Recusa\":\"Hora_Recusa\", \"Data Finalização\":\"Data_Finalizacao\",\\\n",
    "\"Hora Finalização\":\"Hora_Finalizacao\", \"Prazo Resposta\":\"Prazo_Resposta\", \"Prazo Analise Gestor\":\"Prazo_Analise_Gestor\", \"Tempo Resposta\":\"Tempo_Resposta\",\\\n",
    "\"Nome Fantasia\":\"Nome_Fantasia\", \"Segmento de Mercado\":\"Segmento_de_Mercado\",\"Área\":\"Area\", \"Grupo Problema\":\"Grupo_Problema\", \"Situação\":\"Situacao\",\\\n",
    "\"Como Comprou Contratou\":\"Como_Comprou_Contratou\",\"Procurou Empresa\":\"Procurou_Empresa\",\"Avaliação Reclamação\":\"Avaliacao_Reclamacao\",\\\n",
    "\"Nota do Consumidor\":\"Nota_do_Consumidor\", \"Análise da Recusa\":\"Analise_da_Recusa\", \"Edição de Conteúdo\":\"Edicao_de_Conteudo\",\\\n",
    "\"Interação do Gestor\":\"Interacao_do_Gestor\", \"Total\":\"Total\"}, inplace= True)\n",
    "\n",
    "df.columns"
   ]
  },
  {
   "cell_type": "markdown",
   "metadata": {},
   "source": [
    "# Análise de Dados"
   ]
  },
  {
   "cell_type": "markdown",
   "metadata": {
    "scrolled": true
   },
   "source": [
    "# 1. Qual a quantidade de reclamações registradas?"
   ]
  },
  {
   "cell_type": "code",
   "execution_count": 20,
   "metadata": {},
   "outputs": [
    {
     "name": "stdout",
     "output_type": "stream",
     "text": [
      "Esta base de dados apresenta 43987 registros de reclamações.\n"
     ]
    }
   ],
   "source": [
    "# analisando as dimensões do dataframe:\n",
    "n_reclamacoes = df.shape\n",
    "print(f'Esta base de dados apresenta {n_reclamacoes[0]} registros de reclamações.')"
   ]
  },
  {
   "cell_type": "markdown",
   "metadata": {},
   "source": [
    "# 2. Qual é o tempo médio, máximo e mínimo de resposta?"
   ]
  },
  {
   "cell_type": "code",
   "execution_count": 21,
   "metadata": {},
   "outputs": [
    {
     "data": {
      "text/html": [
       "<div>\n",
       "<style scoped>\n",
       "    .dataframe tbody tr th:only-of-type {\n",
       "        vertical-align: middle;\n",
       "    }\n",
       "\n",
       "    .dataframe tbody tr th {\n",
       "        vertical-align: top;\n",
       "    }\n",
       "\n",
       "    .dataframe thead th {\n",
       "        text-align: right;\n",
       "    }\n",
       "</style>\n",
       "<table border=\"1\" class=\"dataframe\">\n",
       "  <thead>\n",
       "    <tr style=\"text-align: right;\">\n",
       "      <th></th>\n",
       "      <th>Ano_Abertura</th>\n",
       "      <th>Mes_Abertura</th>\n",
       "      <th>Prazo_Analise_Gestor</th>\n",
       "      <th>Tempo_Resposta</th>\n",
       "      <th>Nota_do_Consumidor</th>\n",
       "      <th>Total</th>\n",
       "    </tr>\n",
       "  </thead>\n",
       "  <tbody>\n",
       "    <tr>\n",
       "      <th>count</th>\n",
       "      <td>43987.0</td>\n",
       "      <td>43987.000000</td>\n",
       "      <td>1953.000000</td>\n",
       "      <td>41961.000000</td>\n",
       "      <td>28627.000000</td>\n",
       "      <td>43987.0</td>\n",
       "    </tr>\n",
       "    <tr>\n",
       "      <th>mean</th>\n",
       "      <td>2014.0</td>\n",
       "      <td>9.550435</td>\n",
       "      <td>4.768049</td>\n",
       "      <td>6.667572</td>\n",
       "      <td>3.007021</td>\n",
       "      <td>1.0</td>\n",
       "    </tr>\n",
       "    <tr>\n",
       "      <th>std</th>\n",
       "      <td>0.0</td>\n",
       "      <td>1.898572</td>\n",
       "      <td>4.395177</td>\n",
       "      <td>3.066805</td>\n",
       "      <td>1.681700</td>\n",
       "      <td>0.0</td>\n",
       "    </tr>\n",
       "    <tr>\n",
       "      <th>min</th>\n",
       "      <td>2014.0</td>\n",
       "      <td>5.000000</td>\n",
       "      <td>0.000000</td>\n",
       "      <td>0.000000</td>\n",
       "      <td>1.000000</td>\n",
       "      <td>1.0</td>\n",
       "    </tr>\n",
       "    <tr>\n",
       "      <th>25%</th>\n",
       "      <td>2014.0</td>\n",
       "      <td>8.000000</td>\n",
       "      <td>1.000000</td>\n",
       "      <td>4.000000</td>\n",
       "      <td>1.000000</td>\n",
       "      <td>1.0</td>\n",
       "    </tr>\n",
       "    <tr>\n",
       "      <th>50%</th>\n",
       "      <td>2014.0</td>\n",
       "      <td>10.000000</td>\n",
       "      <td>4.000000</td>\n",
       "      <td>8.000000</td>\n",
       "      <td>3.000000</td>\n",
       "      <td>1.0</td>\n",
       "    </tr>\n",
       "    <tr>\n",
       "      <th>75%</th>\n",
       "      <td>2014.0</td>\n",
       "      <td>11.000000</td>\n",
       "      <td>8.000000</td>\n",
       "      <td>9.000000</td>\n",
       "      <td>5.000000</td>\n",
       "      <td>1.0</td>\n",
       "    </tr>\n",
       "    <tr>\n",
       "      <th>max</th>\n",
       "      <td>2014.0</td>\n",
       "      <td>12.000000</td>\n",
       "      <td>15.000000</td>\n",
       "      <td>13.000000</td>\n",
       "      <td>5.000000</td>\n",
       "      <td>1.0</td>\n",
       "    </tr>\n",
       "  </tbody>\n",
       "</table>\n",
       "</div>"
      ],
      "text/plain": [
       "       Ano_Abertura  Mes_Abertura  Prazo_Analise_Gestor  Tempo_Resposta  \\\n",
       "count       43987.0  43987.000000           1953.000000    41961.000000   \n",
       "mean         2014.0      9.550435              4.768049        6.667572   \n",
       "std             0.0      1.898572              4.395177        3.066805   \n",
       "min          2014.0      5.000000              0.000000        0.000000   \n",
       "25%          2014.0      8.000000              1.000000        4.000000   \n",
       "50%          2014.0     10.000000              4.000000        8.000000   \n",
       "75%          2014.0     11.000000              8.000000        9.000000   \n",
       "max          2014.0     12.000000             15.000000       13.000000   \n",
       "\n",
       "       Nota_do_Consumidor    Total  \n",
       "count        28627.000000  43987.0  \n",
       "mean             3.007021      1.0  \n",
       "std              1.681700      0.0  \n",
       "min              1.000000      1.0  \n",
       "25%              1.000000      1.0  \n",
       "50%              3.000000      1.0  \n",
       "75%              5.000000      1.0  \n",
       "max              5.000000      1.0  "
      ]
     },
     "execution_count": 21,
     "metadata": {},
     "output_type": "execute_result"
    }
   ],
   "source": [
    "df.describe()"
   ]
  },
  {
   "cell_type": "code",
   "execution_count": 22,
   "metadata": {},
   "outputs": [
    {
     "name": "stdout",
     "output_type": "stream",
     "text": [
      "O tempo médio de resposta foi de 6,66 meses. Já o tempo máximo e o tempo mínimo foram de 13 e 0 meses, respectivamente.\n"
     ]
    }
   ],
   "source": [
    "print('O tempo médio de resposta foi de 6,66 meses. Já o tempo máximo e o tempo mínimo foram de 13 e 0 meses, respectivamente.')"
   ]
  },
  {
   "cell_type": "markdown",
   "metadata": {},
   "source": [
    "# 3. Qual é a nota média, máxima e mínima do consumidor?"
   ]
  },
  {
   "cell_type": "code",
   "execution_count": 23,
   "metadata": {},
   "outputs": [
    {
     "data": {
      "text/html": [
       "<div>\n",
       "<style scoped>\n",
       "    .dataframe tbody tr th:only-of-type {\n",
       "        vertical-align: middle;\n",
       "    }\n",
       "\n",
       "    .dataframe tbody tr th {\n",
       "        vertical-align: top;\n",
       "    }\n",
       "\n",
       "    .dataframe thead th {\n",
       "        text-align: right;\n",
       "    }\n",
       "</style>\n",
       "<table border=\"1\" class=\"dataframe\">\n",
       "  <thead>\n",
       "    <tr style=\"text-align: right;\">\n",
       "      <th></th>\n",
       "      <th>Ano_Abertura</th>\n",
       "      <th>Mes_Abertura</th>\n",
       "      <th>Prazo_Analise_Gestor</th>\n",
       "      <th>Tempo_Resposta</th>\n",
       "      <th>Nota_do_Consumidor</th>\n",
       "    </tr>\n",
       "  </thead>\n",
       "  <tbody>\n",
       "    <tr>\n",
       "      <th>0</th>\n",
       "      <td>2014</td>\n",
       "      <td>6</td>\n",
       "      <td>NaN</td>\n",
       "      <td>5.0</td>\n",
       "      <td>NaN</td>\n",
       "    </tr>\n",
       "    <tr>\n",
       "      <th>1</th>\n",
       "      <td>2014</td>\n",
       "      <td>6</td>\n",
       "      <td>NaN</td>\n",
       "      <td>6.0</td>\n",
       "      <td>1.0</td>\n",
       "    </tr>\n",
       "    <tr>\n",
       "      <th>2</th>\n",
       "      <td>2014</td>\n",
       "      <td>6</td>\n",
       "      <td>NaN</td>\n",
       "      <td>5.0</td>\n",
       "      <td>5.0</td>\n",
       "    </tr>\n",
       "    <tr>\n",
       "      <th>3</th>\n",
       "      <td>2014</td>\n",
       "      <td>5</td>\n",
       "      <td>NaN</td>\n",
       "      <td>0.0</td>\n",
       "      <td>5.0</td>\n",
       "    </tr>\n",
       "    <tr>\n",
       "      <th>4</th>\n",
       "      <td>2014</td>\n",
       "      <td>6</td>\n",
       "      <td>NaN</td>\n",
       "      <td>1.0</td>\n",
       "      <td>NaN</td>\n",
       "    </tr>\n",
       "  </tbody>\n",
       "</table>\n",
       "</div>"
      ],
      "text/plain": [
       "   Ano_Abertura  Mes_Abertura  Prazo_Analise_Gestor  Tempo_Resposta  \\\n",
       "0          2014             6                   NaN             5.0   \n",
       "1          2014             6                   NaN             6.0   \n",
       "2          2014             6                   NaN             5.0   \n",
       "3          2014             5                   NaN             0.0   \n",
       "4          2014             6                   NaN             1.0   \n",
       "\n",
       "   Nota_do_Consumidor  \n",
       "0                 NaN  \n",
       "1                 1.0  \n",
       "2                 5.0  \n",
       "3                 5.0  \n",
       "4                 NaN  "
      ]
     },
     "execution_count": 23,
     "metadata": {},
     "output_type": "execute_result"
    }
   ],
   "source": [
    "# Para melhor visualizar dados interessantes, vamos visualizar o df contando apenas as colunas extraidas no describe\n",
    "# Não utilizaremos as demais colunas, então vamos descartá-las.\n",
    "# Lembrando que o axis=1 quer dizer que estamos falando das colunas, já o axis=0\n",
    "# estariamos manipulando as linhas.\n",
    "\n",
    "dados = df.drop(['Gestor', 'Canal_Origem', 'Regiao', 'UF', 'Cidade', 'Sexo',\n",
    "       'Faixa_Etaria', 'Data_Abertura',\n",
    "       'Hora_Abertura', 'Data_Resposta', 'Hora_Resposta', 'Data_Analise',\n",
    "       'Hora_Analise', 'Data_Recusa', 'Hora_Recusa', 'Data_Finalizacao',\n",
    "       'Hora_Finalizacao', 'Prazo_Resposta', 'Nome_Fantasia', 'Segmento_de_Mercado', 'Area',\n",
    "       'Assunto', 'Grupo_Problema', 'Problema', 'Como_Comprou_Contratou',\n",
    "       'Procurou_Empresa', 'Respondida', 'Situacao', 'Avaliacao_Reclamacao', 'Analise_da_Recusa', 'Edicao_de_Conteudo',\n",
    "       'Interacao_do_Gestor', 'Total'], axis=1)\n",
    "dados.head()"
   ]
  },
  {
   "cell_type": "code",
   "execution_count": 24,
   "metadata": {},
   "outputs": [
    {
     "name": "stdout",
     "output_type": "stream",
     "text": [
      "A nota média do consumidor foi 3. Já as notas máxima e mínima foram de 5 e 1 meses, respectivamente.\n"
     ]
    }
   ],
   "source": [
    "print('A nota média do consumidor foi 3. Já as notas máxima e mínima foram de 5 e 1 meses, respectivamente.')"
   ]
  },
  {
   "cell_type": "markdown",
   "metadata": {},
   "source": [
    "# 4. Como podemos correlacionar a nota do consumidor com o tempo de resposta? Explique."
   ]
  },
  {
   "cell_type": "code",
   "execution_count": 25,
   "metadata": {},
   "outputs": [
    {
     "name": "stdout",
     "output_type": "stream",
     "text": [
      "<class 'pandas.core.frame.DataFrame'>\n",
      "RangeIndex: 43987 entries, 0 to 43986\n",
      "Data columns (total 38 columns):\n",
      " #   Column                  Non-Null Count  Dtype  \n",
      "---  ------                  --------------  -----  \n",
      " 0   Gestor                  43987 non-null  object \n",
      " 1   Canal_Origem            43987 non-null  object \n",
      " 2   Regiao                  43987 non-null  object \n",
      " 3   UF                      43987 non-null  object \n",
      " 4   Cidade                  43987 non-null  object \n",
      " 5   Sexo                    43987 non-null  object \n",
      " 6   Faixa_Etaria            43987 non-null  object \n",
      " 7   Ano_Abertura            43987 non-null  int64  \n",
      " 8   Mes_Abertura            43987 non-null  int64  \n",
      " 9   Data_Abertura           43987 non-null  object \n",
      " 10  Hora_Abertura           43987 non-null  object \n",
      " 11  Data_Resposta           41961 non-null  object \n",
      " 12  Hora_Resposta           41961 non-null  object \n",
      " 13  Data_Analise            1953 non-null   object \n",
      " 14  Hora_Analise            1953 non-null   object \n",
      " 15  Data_Recusa             2066 non-null   object \n",
      " 16  Hora_Recusa             2066 non-null   object \n",
      " 17  Data_Finalizacao        43987 non-null  object \n",
      " 18  Hora_Finalizacao        43987 non-null  object \n",
      " 19  Prazo_Resposta          43987 non-null  object \n",
      " 20  Prazo_Analise_Gestor    1953 non-null   float64\n",
      " 21  Tempo_Resposta          41961 non-null  float64\n",
      " 22  Nome_Fantasia           43987 non-null  object \n",
      " 23  Segmento_de_Mercado     43987 non-null  object \n",
      " 24  Area                    43987 non-null  object \n",
      " 25  Assunto                 43987 non-null  object \n",
      " 26  Grupo_Problema          43987 non-null  object \n",
      " 27  Problema                43987 non-null  object \n",
      " 28  Como_Comprou_Contratou  43987 non-null  object \n",
      " 29  Procurou_Empresa        43987 non-null  object \n",
      " 30  Respondida              43987 non-null  object \n",
      " 31  Situacao                43987 non-null  object \n",
      " 32  Avaliacao_Reclamacao    42153 non-null  object \n",
      " 33  Nota_do_Consumidor      28627 non-null  float64\n",
      " 34  Analise_da_Recusa       2046 non-null   object \n",
      " 35  Edicao_de_Conteudo      43987 non-null  object \n",
      " 36  Interacao_do_Gestor     43987 non-null  object \n",
      " 37  Total                   43987 non-null  int64  \n",
      "dtypes: float64(3), int64(3), object(32)\n",
      "memory usage: 12.8+ MB\n"
     ]
    }
   ],
   "source": [
    "# Verificando os tipos de dados:\n",
    "# df.dtypes ou\n",
    "df.info()"
   ]
  },
  {
   "cell_type": "code",
   "execution_count": 26,
   "metadata": {
    "scrolled": true
   },
   "outputs": [
    {
     "name": "stdout",
     "output_type": "stream",
     "text": [
      "Quantidade de Reclamações: 43987\n",
      "Quantidade de Notas Registradas: 28627\n",
      "Quantidade de Tempo Resposta registrado: 41961\n",
      "\n",
      "Total de informação nula na base: 275157\n",
      "\n",
      "Total de nulos na base, em %: Data_Analise            95.56\n",
      "Hora_Analise            95.56\n",
      "Prazo_Analise_Gestor    95.56\n",
      "Analise_da_Recusa       95.35\n",
      "Data_Recusa             95.30\n",
      "Hora_Recusa             95.30\n",
      "Nota_do_Consumidor      34.92\n",
      "Data_Resposta            4.61\n",
      "Hora_Resposta            4.61\n",
      "Tempo_Resposta           4.61\n",
      "Avaliacao_Reclamacao     4.17\n",
      "dtype: float64\n",
      "\n",
      "Total de linhas completamente preenchidas: 163\n"
     ]
    }
   ],
   "source": [
    "# Avaliar o que são os nulos com a área responsável pela base / técnicas de preenchimento\n",
    "\n",
    "print(\"Quantidade de Reclamações:\", n_reclamacoes[0])\n",
    "print(\"Quantidade de Notas Registradas:\", df.Nota_do_Consumidor.count())\n",
    "print(\"Quantidade de Tempo Resposta registrado:\", df.Tempo_Resposta.count())\n",
    "print(\"\\nTotal de informação nula na base:\",df.isnull().sum().sum())\n",
    "print(\"\\nTotal de nulos na base, em %:\", ((df.isnull().sum() / df.shape[0]) * 100).round(2)[df.isnull().sum()>0].sort_values(ascending= False))\n",
    "#print(\"\\nTotal de nulos por variável:\\n\", ((df.isnull().sum() / df.shape[0]) * 100)[df.isnull().sum()>0].sort_values(ascending= False))\n",
    "print(\"\\nTotal de linhas completamente preenchidas:\", df.dropna().shape[0])"
   ]
  },
  {
   "cell_type": "code",
   "execution_count": 27,
   "metadata": {},
   "outputs": [
    {
     "name": "stdout",
     "output_type": "stream",
     "text": [
      "Destaques:\n",
      "1. Perceba que de 43987 reclamações registradas, 34,92% tem o campo nota preenchido, \n",
      " e se esse dado não for tratado pode haver interferência na informação extraida.\n",
      " \n",
      "2. Já os campos referentes ao Tempo Resposta apresentam apenas 4,7%% dos valores nulos, então é possível trabalhar \n",
      "com essa variável sem a necessidade de um tratamento.\n",
      "\n",
      "Tendo em vista o percentual considerável de nulos na variável Nota do Consumidor, vamos optar por excluir as linhas \n",
      "onde os valores da Nota do Consumidor são nulos para que a correlação entre esta variável e o Tempo Resposta seja mais \n",
      "fidedigno.\n",
      "\n",
      "Total de nulos na base, em %: Data_Analise            64.70\n",
      "Hora_Analise            64.70\n",
      "Data_Recusa             64.70\n",
      "Hora_Recusa             64.70\n",
      "Prazo_Analise_Gestor    64.70\n",
      "Analise_da_Recusa       64.70\n",
      "Data_Resposta            0.26\n",
      "Hora_Resposta            0.26\n",
      "Tempo_Resposta           0.26\n",
      "Avaliacao_Reclamacao     0.00\n",
      "Nota_do_Consumidor       0.00\n",
      "dtype: float64\n"
     ]
    }
   ],
   "source": [
    "print('''Destaques:\n",
    "1. Perceba que de 43987 reclamações registradas, 34,92% tem o campo nota preenchido, \n",
    " e se esse dado não for tratado pode haver interferência na informação extraida.\n",
    " \n",
    "2. Já os campos referentes ao Tempo Resposta apresentam apenas 4,7%% dos valores nulos, então é possível trabalhar \n",
    "com essa variável sem a necessidade de um tratamento.\n",
    "\n",
    "Tendo em vista o percentual considerável de nulos na variável Nota do Consumidor, vamos optar por excluir as linhas \n",
    "onde os valores da Nota do Consumidor são nulos para que a correlação entre esta variável e o Tempo Resposta seja mais \n",
    "fidedigno.''')\n",
    "\n",
    "df_Nota_Tratada = df.dropna(axis=0, subset=['Nota_do_Consumidor'])\n",
    "print(\"\\nTotal de nulos na base, em %:\", ((df_Nota_Tratada.isnull().sum() / df.shape[0]) * 100).round(2)[df.isnull().sum()>0].sort_values(ascending= False))"
   ]
  },
  {
   "cell_type": "code",
   "execution_count": 28,
   "metadata": {
    "scrolled": true
   },
   "outputs": [
    {
     "data": {
      "text/html": [
       "<div>\n",
       "<style scoped>\n",
       "    .dataframe tbody tr th:only-of-type {\n",
       "        vertical-align: middle;\n",
       "    }\n",
       "\n",
       "    .dataframe tbody tr th {\n",
       "        vertical-align: top;\n",
       "    }\n",
       "\n",
       "    .dataframe thead th {\n",
       "        text-align: right;\n",
       "    }\n",
       "</style>\n",
       "<table border=\"1\" class=\"dataframe\">\n",
       "  <thead>\n",
       "    <tr style=\"text-align: right;\">\n",
       "      <th></th>\n",
       "      <th>Nota_do_Consumidor</th>\n",
       "    </tr>\n",
       "  </thead>\n",
       "  <tbody>\n",
       "    <tr>\n",
       "      <th>Ano_Abertura</th>\n",
       "      <td>NaN</td>\n",
       "    </tr>\n",
       "    <tr>\n",
       "      <th>Mes_Abertura</th>\n",
       "      <td>0.073964</td>\n",
       "    </tr>\n",
       "    <tr>\n",
       "      <th>Prazo_Analise_Gestor</th>\n",
       "      <td>-0.068360</td>\n",
       "    </tr>\n",
       "    <tr>\n",
       "      <th>Tempo_Resposta</th>\n",
       "      <td>-0.187150</td>\n",
       "    </tr>\n",
       "    <tr>\n",
       "      <th>Nota_do_Consumidor</th>\n",
       "      <td>1.000000</td>\n",
       "    </tr>\n",
       "    <tr>\n",
       "      <th>Total</th>\n",
       "      <td>NaN</td>\n",
       "    </tr>\n",
       "  </tbody>\n",
       "</table>\n",
       "</div>"
      ],
      "text/plain": [
       "                      Nota_do_Consumidor\n",
       "Ano_Abertura                         NaN\n",
       "Mes_Abertura                    0.073964\n",
       "Prazo_Analise_Gestor           -0.068360\n",
       "Tempo_Resposta                 -0.187150\n",
       "Nota_do_Consumidor              1.000000\n",
       "Total                                NaN"
      ]
     },
     "execution_count": 28,
     "metadata": {},
     "output_type": "execute_result"
    }
   ],
   "source": [
    "df_Nota_Tratada.corr()[['Nota_do_Consumidor']]"
   ]
  },
  {
   "cell_type": "markdown",
   "metadata": {
    "scrolled": true
   },
   "source": [
    "Utilizando o código acima, conseguimos verificar a correlação de cada variável do DataFrame com a variável alvo.\n",
    "Pelo resultado, percebe-se uma correlação negativa entre a variável Tempo_Resposta e Nota do Consumidor. No entatno, \n",
    "dada a proximidade do valor de correlação obtido a zero podemos inferir que trata-se de uma correlação fraca. "
   ]
  },
  {
   "cell_type": "markdown",
   "metadata": {},
   "source": [
    "### Analise grafica"
   ]
  },
  {
   "cell_type": "code",
   "execution_count": 52,
   "metadata": {},
   "outputs": [
    {
     "name": "stdout",
     "output_type": "stream",
     "text": [
      "                   1.0    2.0    3.0    4.0     5.0\n",
      "Tempo_Resposta                                     \n",
      "0.0              150.0   27.0  131.0  106.0   351.0\n",
      "1.0              461.0   87.0  241.0  352.0   773.0\n",
      "2.0              467.0  113.0  249.0  311.0   727.0\n",
      "3.0              487.0   96.0  218.0  301.0   667.0\n",
      "4.0              495.0   92.0  236.0  323.0   651.0\n",
      "5.0              548.0  125.0  226.0  328.0   654.0\n",
      "6.0              575.0  119.0  250.0  336.0   720.0\n",
      "7.0              819.0  166.0  346.0  430.0   858.0\n",
      "8.0             1298.0  256.0  464.0  487.0   990.0\n",
      "9.0             1469.0  244.0  527.0  490.0   887.0\n",
      "10.0            3050.0  549.0  850.0  837.0  1494.0\n",
      "11.0               3.0    NaN    NaN    2.0     NaN\n",
      "12.0               1.0    NaN    NaN    NaN     NaN\n",
      "13.0               2.0    NaN    NaN    NaN     NaN\n",
      "\n",
      "                     1.0       2.0       3.0       4.0       5.0\n",
      "Tempo_Resposta                                                  \n",
      "0.0             0.196078  0.035294  0.171242  0.138562  0.458824\n",
      "1.0             0.240857  0.045455  0.125914  0.183908  0.403866\n",
      "2.0             0.250134  0.060525  0.133369  0.166577  0.389395\n",
      "3.0             0.275297  0.054268  0.123233  0.170153  0.377049\n",
      "4.0             0.275459  0.051196  0.131330  0.179744  0.362270\n",
      "6.0             0.287500  0.059500  0.125000  0.168000  0.360000\n",
      "5.0             0.291334  0.066454  0.120149  0.174375  0.347687\n",
      "7.0             0.312715  0.063383  0.132111  0.164185  0.327606\n",
      "8.0             0.371388  0.073247  0.132761  0.139342  0.283262\n",
      "9.0             0.406138  0.067459  0.145701  0.135471  0.245231\n",
      "10.0            0.449853  0.080973  0.125369  0.123451  0.220354\n",
      "11.0            0.600000       NaN       NaN  0.400000       NaN\n",
      "12.0            1.000000       NaN       NaN       NaN       NaN\n",
      "13.0            1.000000       NaN       NaN       NaN       NaN\n"
     ]
    }
   ],
   "source": [
    "df_notaConsumidor = df_Nota_Tratada.groupby('Tempo_Resposta').apply(lambda x: x.Nota_do_Consumidor.value_counts()).unstack()\n",
    "df_notaConsumidor_pct = df_Nota_Tratada.groupby('Tempo_Resposta').apply(lambda x: x.Nota_do_Consumidor.value_counts()/x.shape[0]).unstack()\n",
    "print(df_notaConsumidor)\n",
    "print()\n",
    "print(df_notaConsumidor_pct.sort_values(by = 1))"
   ]
  },
  {
   "cell_type": "code",
   "execution_count": 89,
   "metadata": {},
   "outputs": [
    {
     "data": {
      "image/png": "[encoded data removed]",
      "text/plain": [
       "<Figure size 1152x432 with 1 Axes>"
      ]
     },
     "metadata": {
      "needs_background": "light"
     },
     "output_type": "display_data"
    }
   ],
   "source": [
    "#labels do gráfico de barras\n",
    "labels = list(df_notaConsumidor.index) #labels do gráfico de barras\n",
    "\n",
    "#valores para construção do grafico de barras \n",
    "nota_1 = df_notaConsumidor[1].values\n",
    "nota_2 = df_notaConsumidor[2].values\n",
    "nota_3 = df_notaConsumidor[3].values\n",
    "nota_4 = df_notaConsumidor[4].values\n",
    "nota_5 = df_notaConsumidor[5].values\n",
    "#print(nota_5)\n",
    "\n",
    "\n",
    "x = np.arange(len(labels))  #localização dos labels\n",
    "width = 0.35  # largura das barras\n",
    "\n",
    "fig, ax = plt.subplots() #construção do frame, criando figura e eixos\n",
    "\n",
    "rects1 = ax.bar(x - width/4, nota_1, width, label='Nota: 01') #valores para construção do gráfico de barras\n",
    "rects2 = ax.bar(x - width/2, nota_2, width, label='Nota: 02')\n",
    "rects3 = ax.bar(x, nota_3, width, label='Nota: 03')\n",
    "rects4 = ax.bar(x + width/4, nota_4, width, label='Nota: 04')\n",
    "rects5 = ax.bar(x + (width/2), nota_5, width, label='Nota: 05')\n",
    "\n",
    "# Adicona título no gráfico, legenda nos eixos e no gráfico legenda\n",
    "ax.set_ylabel('Frequência das Notas') #legenda eixo y\n",
    "ax.set_xlabel('Tempo Resposta em meses') #legenda eixo x\n",
    "ax.set_title('Nota do Consumidor x Tempo Resposta') #titulo\n",
    "ax.set_xticks(x) #seta a posição dos labels\n",
    "ax.set_xticklabels(labels) # legenda dos labels do eixo x\n",
    "ax.legend()\n",
    "plt.show()"
   ]
  },
  {
   "cell_type": "markdown",
   "metadata": {},
   "source": [
    "Pode-se observar no gráfico acima: \n",
    "1. No eixo x esta disposta uma série que faz referência ao Tempo Resposta, ou seja, \n",
    "o tempo esperado até o cliente ter sua reclamação respondida.\n",
    "2. No eixo y esta disposta uma escala que demonstra a frequência absoluta em que uma nota foi atribuida, ou seja,\n",
    "seguindo a série de notas de 1 a 5, quantas vezes cada nota foi atribuida.\n",
    "\n",
    "Conclusão: Percebe-se que a frequência absoluta da nota 1 aumenta conforme o tempo esperado para ter sua reclamação respondida. \n",
    "Considerando que a nota 2 é uma nota baixa, pois é a mais próxima da menor nota possível;\n",
    "Considerando que a nota 3 é uma nota média da série de notas disponível;\n",
    "Fica claro que com o passar do tempo, a demora em ter sua reclamação respondida eleva o nível de insatisfação, \n",
    "pois a frequência absoluta das notas 2 e 3 também aumentam com o passar do tempo.\n",
    "O que pode gerar certa dúvida é a frequência absoluta das nota 4 e 5, pois, ainda que sem homogeneidade, \n",
    "também aumentaram em números absolutos. Porém analisando a frequência relativa das notas no gráfico abaixo, fica evidente que\n",
    "as notas baixas (1 e 2) tem tendencia de alta conforme aumenta o Tempo Resposta, a nota 3 é levemente reduzida conforme aumenta o Tempo Resposta\n",
    "e, claramente, as ntoas 4 e 5 aparecem menos consoante o aumento do Tempo Resposta."
   ]
  },
  {
   "cell_type": "code",
   "execution_count": 90,
   "metadata": {},
   "outputs": [
    {
     "data": {
      "image/png": "[encoded data removed]",
      "text/plain": [
       "<Figure size 1152x432 with 1 Axes>"
      ]
     },
     "metadata": {
      "needs_background": "light"
     },
     "output_type": "display_data"
    }
   ],
   "source": [
    "#valores para construção do grafico de barras em percentual\n",
    "nota_1_pct = df_notaConsumidor_pct[1].values\n",
    "nota_2_pct = df_notaConsumidor_pct[2].values\n",
    "nota_3_pct = df_notaConsumidor_pct[3].values\n",
    "nota_4_pct = df_notaConsumidor_pct[4].values\n",
    "nota_5_pct = df_notaConsumidor_pct[5].values\n",
    "\n",
    "fig, ax1 = plt.subplots()\n",
    "\n",
    "rects6 = ax1.bar(x - width/4, nota_1_pct, width, label='Nota: 01') #valores para construção do gráfico de barras\n",
    "rects7 = ax1.bar(x - width/2, nota_2_pct, width, label='Nota: 02')\n",
    "rects8 = ax1.bar(x, nota_3_pct, width, label='Nota: 03')\n",
    "rects9 = ax1.bar(x + width/4, nota_4_pct, width, label='Nota: 04')\n",
    "rects10 = ax1.bar(x + width/2, nota_5_pct, width, label='Nota: 05')\n",
    "\n",
    "# Add some text for labels, title and custom x-axis tick labels, etc.\n",
    "ax1.set_ylabel('Frequencia Relativa (%)')\n",
    "ax1.set_xlabel('Tempo Resposta em meses')\n",
    "ax1.set_title('Nota do Consumidor x Tempo Resposta')\n",
    "ax1.set_xticks(x)\n",
    "ax1.set_xticklabels(labels)\n",
    "ax1.legend()\n",
    "plt.show()"
   ]
  },
  {
   "cell_type": "markdown",
   "metadata": {},
   "source": [
    "# 5. Qual a quantidade de reclamações por Sexo?"
   ]
  },
  {
   "cell_type": "code",
   "execution_count": 30,
   "metadata": {},
   "outputs": [
    {
     "data": {
      "text/plain": [
       "M    27895\n",
       "F    16092\n",
       "Name: Sexo, dtype: int64"
      ]
     },
     "execution_count": 30,
     "metadata": {},
     "output_type": "execute_result"
    }
   ],
   "source": [
    "df.Sexo.value_counts()"
   ]
  },
  {
   "cell_type": "markdown",
   "metadata": {},
   "source": [
    "# 6. Qual a quantidade de reclamações por Estado?"
   ]
  },
  {
   "cell_type": "code",
   "execution_count": 31,
   "metadata": {},
   "outputs": [
    {
     "data": {
      "text/plain": [
       "SP    11882\n",
       "PR     6140\n",
       "RJ     4907\n",
       "MG     4186\n",
       "BA     2443\n",
       "RS     1941\n",
       "DF     1805\n",
       "PE     1626\n",
       "SC     1458\n",
       "MA     1082\n",
       "ES     1081\n",
       "CE     1068\n",
       "MT     1012\n",
       "GO      886\n",
       "MS      531\n",
       "AC      449\n",
       "PB      343\n",
       "AM      291\n",
       "PA      211\n",
       "RN      160\n",
       "RO      119\n",
       "AL      104\n",
       "SE       97\n",
       "PI       77\n",
       "TO       46\n",
       "RR       24\n",
       "AP       18\n",
       "Name: UF, dtype: int64"
      ]
     },
     "execution_count": 31,
     "metadata": {},
     "output_type": "execute_result"
    }
   ],
   "source": [
    "df.UF.value_counts()"
   ]
  },
  {
   "cell_type": "markdown",
   "metadata": {},
   "source": [
    "# 7. Qual é a porcentagem de reclamações registradas e não respondidas?"
   ]
  },
  {
   "cell_type": "code",
   "execution_count": 32,
   "metadata": {},
   "outputs": [
    {
     "data": {
      "text/plain": [
       "S    41961\n",
       "N     2026\n",
       "Name: Respondida, dtype: int64"
      ]
     },
     "execution_count": 32,
     "metadata": {},
     "output_type": "execute_result"
    }
   ],
   "source": [
    "#Quantidade bruta de reclamações respondidas (S) e não respondidas (N):\n",
    "df.Respondida.value_counts()"
   ]
  },
  {
   "cell_type": "code",
   "execution_count": 33,
   "metadata": {},
   "outputs": [
    {
     "data": {
      "text/plain": [
       "S    0.953941\n",
       "N    0.046059\n",
       "Name: Respondida, dtype: float64"
      ]
     },
     "execution_count": 33,
     "metadata": {},
     "output_type": "execute_result"
    }
   ],
   "source": [
    "#Quantidade relativa de reclamações respondidas:\n",
    "df.Respondida.value_counts()/dados.shape[0]"
   ]
  },
  {
   "cell_type": "code",
   "execution_count": 34,
   "metadata": {},
   "outputs": [
    {
     "name": "stdout",
     "output_type": "stream",
     "text": [
      "4,6% das reclamações não foram respondidas\n"
     ]
    }
   ],
   "source": [
    "print('4,6% das reclamações não foram respondidas')"
   ]
  },
  {
   "cell_type": "markdown",
   "metadata": {},
   "source": [
    "# Visualização de Dados\n",
    "\n",
    "Neste momento iremos trabalhar com visualização de dados. Antes de iniciar a impressão dos gráficos, trate de fazer as configurações iniciais para que a impressão ocorra no Jupyter de maneira correta e com todos os requisitos necessários para melhoria da apresentação como um todo. Faça o melhor possível, como se fosse apresentar para o seu chefe. Siga as instruções a seguir:\n",
    "\n",
    "\n"
   ]
  },
  {
   "cell_type": "code",
   "execution_count": 35,
   "metadata": {},
   "outputs": [],
   "source": [
    "import matplotlib.pyplot as plt"
   ]
  },
  {
   "cell_type": "markdown",
   "metadata": {},
   "source": [
    "# 5. Gere um gráfico com titulo, nome dos eixos, cor e legenda para as seguintes situações:\n",
    "\n",
    "### a) Frequência de reclamações por sexo"
   ]
  },
  {
   "cell_type": "code",
   "execution_count": 36,
   "metadata": {},
   "outputs": [
    {
     "data": {
      "text/plain": [
       "M    27895\n",
       "F    16092\n",
       "Name: Sexo, dtype: int64"
      ]
     },
     "execution_count": 36,
     "metadata": {},
     "output_type": "execute_result"
    }
   ],
   "source": [
    "df.Sexo.value_counts()"
   ]
  },
  {
   "cell_type": "code",
   "execution_count": 37,
   "metadata": {},
   "outputs": [
    {
     "data": {
      "image/png": "[encoded data removed]",
      "text/plain": [
       "<Figure size 432x288 with 1 Axes>"
      ]
     },
     "metadata": {
      "needs_background": "light"
     },
     "output_type": "display_data"
    }
   ],
   "source": [
    "# Podemos ver isso graficamente também com um gráfico de barras\n",
    "\n",
    "plt.bar(df.Sexo.unique(), df.Sexo.value_counts(), color = 'lightblue')\n",
    "plt.title('Frequência de reclamações por Sexo\\n', {'fontsize': 12,'fontweight': 'bold'})\n",
    "plt.show()"
   ]
  },
  {
   "cell_type": "markdown",
   "metadata": {},
   "source": [
    "\n",
    "### b) Frequencia de reclamações por estado"
   ]
  },
  {
   "cell_type": "code",
   "execution_count": 38,
   "metadata": {},
   "outputs": [
    {
     "data": {
      "image/png": "[encoded data removed]",
      "text/plain": [
       "<Figure size 1152x432 with 1 Axes>"
      ]
     },
     "metadata": {
      "needs_background": "light"
     },
     "output_type": "display_data"
    }
   ],
   "source": [
    "from matplotlib import pyplot as plt\n",
    "\n",
    "# frequência de reclamações por Estado\n",
    "df.UF.value_counts()\n",
    "\n",
    "# Definindo parâmetros de dimensão da figura do gráfico\n",
    "plt.rcParams[\"figure.figsize\"] = (16, 6)\n",
    "plt.plot([[1,2], [3, 4]])\n",
    "\n",
    "# Definindo legendas e formatações do gráfico\n",
    "plt.bar(df.UF.unique(), df.UF.value_counts(), color = 'green')\n",
    "plt.title('Frequência de reclamações por Estado\\n', {'fontsize': 12,'fontweight': 'bold'})\n",
    "\n",
    "plt.show()"
   ]
  },
  {
   "cell_type": "markdown",
   "metadata": {},
   "source": [
    "\n",
    "### c) Frequência de reclamações respondidas e não respondidas"
   ]
  },
  {
   "cell_type": "code",
   "execution_count": 39,
   "metadata": {},
   "outputs": [
    {
     "data": {
      "text/plain": [
       "S    95.39%\n",
       "N     4.61%\n",
       "Name: Respondida, dtype: object"
      ]
     },
     "metadata": {},
     "output_type": "display_data"
    }
   ],
   "source": [
    "# Quantidade relativa de reclamações respondidas:\n",
    "display(df.Respondida.value_counts(normalize=True).map(\"{:.2%}\".format))"
   ]
  },
  {
   "cell_type": "code",
   "execution_count": 40,
   "metadata": {},
   "outputs": [
    {
     "data": {
      "image/png": "[encoded data removed]",
      "text/plain": [
       "<Figure size 1152x432 with 1 Axes>"
      ]
     },
     "metadata": {
      "needs_background": "light"
     },
     "output_type": "display_data"
    }
   ],
   "source": [
    "# frequência de reclamações por Estado\n",
    "df.Respondida.value_counts()\n",
    "\n",
    "plt.plot(df.Respondida.unique(), df.Respondida.value_counts(normalize=True), color = 'lightgreen')\n",
    "plt.scatter(df.Respondida.unique(), df.Respondida.value_counts(normalize=True), color = 'red')\n",
    "plt.title('Frequência de reclamações Respondidas e Não Respondidas\\n', {'fontsize': 12,'fontweight': 'bold'})\n",
    "# Podemos ver isso graficamente também com um gráfico de barras\n",
    "\n",
    "#plt.bar(df.Sexo.unique(), df.Sexo.value_counts(), color = 'lightblue')\n",
    "#plt.title('Frequência de reclamações por Sexo\\n', {'fontsize': 12,'fontweight': 'bold'})\n",
    "plt.show()"
   ]
  },
  {
   "cell_type": "markdown",
   "metadata": {},
   "source": [
    "# 6. Imagine que você é um Cientista de Dados responsável por medir a satisfação dos clientes. \n",
    "\n",
    "### * Para que você possa surpreender seu chefe, você deve fazer duas análises importantes sobre o data frame, incluindo no mínimo dois gráficos com suas devidas personalizações de titulo, nome dos eixos, legenda, estilos etc. \n",
    "\n",
    "### * Considere que, ao trazer informações relevantes para a empresa em que trabalha, mais chances de ter o seu trabalho reconhecido e de ser um profissional com maior valor no mercado. Capriche nos gráficos!"
   ]
  },
  {
   "cell_type": "code",
   "execution_count": 58,
   "metadata": {
    "scrolled": true
   },
   "outputs": [
    {
     "data": {
      "text/html": [
       "<div>\n",
       "<style scoped>\n",
       "    .dataframe tbody tr th:only-of-type {\n",
       "        vertical-align: middle;\n",
       "    }\n",
       "\n",
       "    .dataframe tbody tr th {\n",
       "        vertical-align: top;\n",
       "    }\n",
       "\n",
       "    .dataframe thead th {\n",
       "        text-align: right;\n",
       "    }\n",
       "</style>\n",
       "<table border=\"1\" class=\"dataframe\">\n",
       "  <thead>\n",
       "    <tr style=\"text-align: right;\">\n",
       "      <th></th>\n",
       "      <th>freq_abs_sexo</th>\n",
       "      <th>freq_relativa_sex</th>\n",
       "    </tr>\n",
       "  </thead>\n",
       "  <tbody>\n",
       "    <tr>\n",
       "      <th>M</th>\n",
       "      <td>27895</td>\n",
       "      <td>0.63</td>\n",
       "    </tr>\n",
       "    <tr>\n",
       "      <th>F</th>\n",
       "      <td>16092</td>\n",
       "      <td>0.37</td>\n",
       "    </tr>\n",
       "  </tbody>\n",
       "</table>\n",
       "</div>"
      ],
      "text/plain": [
       "   freq_abs_sexo  freq_relativa_sex\n",
       "M          27895               0.63\n",
       "F          16092               0.37"
      ]
     },
     "execution_count": 58,
     "metadata": {},
     "output_type": "execute_result"
    }
   ],
   "source": [
    "#Tabela de frequência de reclamaçções Absoluta e Relativa por sexo:\n",
    "\n",
    "tbl_freq_sexo = pd.DataFrame(df.Sexo.value_counts())\n",
    "tbl_freq_sexo.rename(columns = {'Sexo':'freq_abs_sexo'}, inplace = True)\n",
    "tbl_freq_sexo['freq_relativa_sex'] = round(tbl_freq_sexo.freq_abs_sexo  /tbl_freq_sexo.freq_abs_sexo.sum(),2)\n",
    "tbl_freq_sexo"
   ]
  },
  {
   "cell_type": "code",
   "execution_count": 60,
   "metadata": {
    "scrolled": false
   },
   "outputs": [
    {
     "data": {
      "image/png": "[encoded data removed]",
      "text/plain": [
       "<Figure size 1152x432 with 1 Axes>"
      ]
     },
     "metadata": {
      "needs_background": "light"
     },
     "output_type": "display_data"
    }
   ],
   "source": [
    "# Graficamente, temos:\n",
    "\n",
    "plt.bar(adf.Sexo.unique(), df.Sexo.value_counts(), color = 'lightblue')\n",
    "plt.title('Distribuição de frequência para variável Sexo\\n', {'fontsize': 12,'fontweight': 'bold'})\n",
    "plt.show()"
   ]
  },
  {
   "cell_type": "code",
   "execution_count": 81,
   "metadata": {},
   "outputs": [
    {
     "name": "stdout",
     "output_type": "stream",
     "text": [
      "       1.0   2.0   3.0   4.0   5.0\n",
      "Sexo                              \n",
      "F     2957   642  1299  1585  3007\n",
      "M     6947  1236  2448  2724  5782\n",
      "\n",
      "           1.0       2.0       3.0       4.0       5.0\n",
      "Sexo                                                  \n",
      "F     0.311591  0.067650  0.136881  0.167018  0.316860\n",
      "M     0.363014  0.064587  0.127920  0.142342  0.302137\n"
     ]
    }
   ],
   "source": [
    "df_nota_PorSexo = df_Nota_Tratada.groupby('Sexo').apply(lambda x: x.Nota_do_Consumidor.value_counts()).unstack()\n",
    "\n",
    "print(df_nota_PorSexo)\n",
    "print()\n",
    "\n",
    "df_nota_PorSexo_pct = df_Nota_Tratada.groupby('Sexo').apply(lambda x: x.Nota_do_Consumidor.value_counts()/x.shape[0]).unstack()\n",
    "print(df_nota_PorSexo_pct.sort_values(by = 1))"
   ]
  },
  {
   "cell_type": "code",
   "execution_count": 87,
   "metadata": {},
   "outputs": [
    {
     "data": {
      "image/png": "[encoded data removed]",
      "text/plain": [
       "<Figure size 1152x432 with 1 Axes>"
      ]
     },
     "metadata": {
      "needs_background": "light"
     },
     "output_type": "display_data"
    }
   ],
   "source": [
    "#labels do gráfico de barras\n",
    "labels = list(df_nota_PorSexo.index) #labels do gráfico de barras\n",
    "\n",
    "#valores para construção do grafico de barras \n",
    "notas_1 = df_nota_PorSexo[1].values\n",
    "notas_2 = df_nota_PorSexo[2].values\n",
    "notas_3 = df_nota_PorSexo[3].values\n",
    "notas_4 = df_nota_PorSexo[4].values\n",
    "notas_5 = df_nota_PorSexo[5].values\n",
    "\n",
    "\n",
    "x = np.arange(len(labels))  #localização dos labels\n",
    "width = 0.35  # largura das barras\n",
    "\n",
    "fig, ax = plt.subplots() #construção do frame, criando figura e eixos\n",
    "\n",
    "rects1 = ax.bar(x - width/4, notas_1, width, label='Nota: 01') #valores para construção do gráfico de barras\n",
    "rects2 = ax.bar(x - width/2, notas_2, width, label='Nota: 02')\n",
    "rects3 = ax.bar(x, notas_3, width, label='Nota: 03')\n",
    "rects4 = ax.bar(x + width/4, notas_4, width, label='Nota: 04')\n",
    "rects5 = ax.bar(x + (width/2), notas_5, width, label='Nota: 05')\n",
    "\n",
    "# Adicona título no gráfico, legenda nos eixos e no gráfico legenda\n",
    "ax.set_ylabel('Frequência das Notas') #legenda eixo y\n",
    "ax.set_xlabel('Sexo') #legenda eixo x\n",
    "ax.set_title('Nota do Consumidor x Sexo') #titulo\n",
    "ax.set_xticks(x) #seta a posição dos labels\n",
    "ax.set_xticklabels(labels) # legenda dos labels do eixo x\n",
    "ax.legend()\n",
    "plt.show()"
   ]
  },
  {
   "cell_type": "code",
   "execution_count": 84,
   "metadata": {},
   "outputs": [
    {
     "data": {
      "image/png": "[encoded data removed]",
      "text/plain": [
       "<Figure size 1152x432 with 1 Axes>"
      ]
     },
     "metadata": {
      "needs_background": "light"
     },
     "output_type": "display_data"
    }
   ],
   "source": [
    "#valores para construção do grafico de barras em percentual\n",
    "notas_1_pct = df_nota_PorSexo_pct[1].values\n",
    "notas_2_pct = df_nota_PorSexo_pct[2].values\n",
    "notas_3_pct = df_nota_PorSexo_pct[3].values\n",
    "notas_4_pct = df_nota_PorSexo_pct[4].values\n",
    "notas_5_pct = df_nota_PorSexo_pct[5].values\n",
    "\n",
    "fig, ax1 = plt.subplots()\n",
    "\n",
    "rects6s = ax1.bar(x - width/4, notas_1_pct, width, label='Nota: 01') #valores para construção do gráfico de barras\n",
    "rects7s = ax1.bar(x - width/2, notas_2_pct, width, label='Nota: 02')\n",
    "rects8s = ax1.bar(x, notas_3_pct, width, label='Nota: 03')\n",
    "rects9s = ax1.bar(x + width/4, notas_4_pct, width, label='Nota: 04')\n",
    "rects10s = ax1.bar(x + width/2, notas_5_pct, width, label='Nota: 05')\n",
    "\n",
    "# Add some text for labels, title and custom x-axis tick labels, etc.\n",
    "ax1.set_ylabel('Frequencia Relativa - Notas')\n",
    "ax1.set_xlabel('Sexo')\n",
    "ax1.set_title('Nota do Consumidor x Sexo')\n",
    "ax1.set_xticks(x)\n",
    "ax1.set_xticklabels(labels)\n",
    "ax1.legend()\n",
    "plt.show()"
   ]
  },
  {
   "cell_type": "code",
   "execution_count": 88,
   "metadata": {},
   "outputs": [
    {
     "name": "stdout",
     "output_type": "stream",
     "text": [
      "O r-quadrado para Suvived e Fare é: 1.57\n"
     ]
    }
   ],
   "source": [
    "#Calculando a variância global da Nota do Consumidor\n",
    "var_global = np.var(df_Nota_Tratada.Nota_do_Consumidor)\n",
    "\n",
    "#calculando a variância em cada categoria da Survived\n",
    "var_categ = df_Nota_Tratada.groupby('Sexo').apply(lambda x: np.var(x.Nota_do_Consumidor))\n",
    "total_categ = df.Sexo.value_counts()\n",
    "\n",
    "#Variância ponderada pelo número de observações na categoria\n",
    "var_ = (total_categ[0] * var_categ[0] + total_categ[1]* var_categ[1])/ (total_categ[0] + total_categ[1])\n",
    "\n",
    "#r quadrado\n",
    "r_quad = (var_global - var_)/ var_global ; \n",
    "\n",
    "print(\"O r-quadrado para Sexo e Nota_do_Consumidor é:\", round(r_quad*100,2))"
   ]
  },
  {
   "cell_type": "markdown",
   "metadata": {},
   "source": [
    "Vemos que a correlação das variáveis Sexo e Nota do COnsumidor é baixa, no sentido de que apenas 1,57% da variância da Nota do COnsumidor é explicada pela variável Sexo. "
   ]
  }
 ],
 "metadata": {
  "kernelspec": {
   "display_name": "Python 3",
   "language": "python",
   "name": "python3"
  },
  "language_info": {
   "codemirror_mode": {
    "name": "ipython",
    "version": 3
   },
   "file_extension": ".py",
   "mimetype": "text/x-python",
   "name": "python",
   "nbconvert_exporter": "python",
   "pygments_lexer": "ipython3",
   "version": "3.8.8"
  }
 },
 "nbformat": 4,
 "nbformat_minor": 4
}
