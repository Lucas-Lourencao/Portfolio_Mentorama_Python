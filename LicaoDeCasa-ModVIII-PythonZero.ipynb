{
 "cells": [
  {
   "cell_type": "markdown",
   "id": "8a2cf5a0",
   "metadata": {},
   "source": [
    "# 1.\tCrie uma função proc1 que imprime a mensagem \"Processo 1\" e siga as instruções:\n",
    "\n",
    "\n",
    "### a)\tInicialize essa função a partir de um objeto thread t1\n",
    "\n"
   ]
  },
  {
   "cell_type": "code",
   "execution_count": 1,
   "id": "f7da32c9",
   "metadata": {},
   "outputs": [],
   "source": [
    "# inicializando um thread com função\n",
    "from threading import Thread\n",
    "import threading\n",
    "\n",
    "def proc1():\n",
    "    print('processo 1')"
   ]
  },
  {
   "cell_type": "markdown",
   "id": "9ebd7d36",
   "metadata": {},
   "source": [
    "### b)\tConsulte se o objeto thread criado está ativo\n"
   ]
  },
  {
   "cell_type": "code",
   "execution_count": 2,
   "id": "84b75082",
   "metadata": {},
   "outputs": [
    {
     "name": "stdout",
     "output_type": "stream",
     "text": [
      "processo 1\n"
     ]
    },
    {
     "data": {
      "text/plain": [
       "False"
      ]
     },
     "execution_count": 2,
     "metadata": {},
     "output_type": "execute_result"
    }
   ],
   "source": [
    "t1=Thread(target=proc1)\n",
    "t1.start()\n",
    "\n",
    "t1.is_alive()"
   ]
  },
  {
   "cell_type": "markdown",
   "id": "a9494ad6",
   "metadata": {},
   "source": [
    "### c)\tConsulte o nome da thread ativa atualmente"
   ]
  },
  {
   "cell_type": "code",
   "execution_count": 3,
   "id": "fec1273b",
   "metadata": {},
   "outputs": [
    {
     "data": {
      "text/plain": [
       "'MainThread'"
      ]
     },
     "execution_count": 3,
     "metadata": {},
     "output_type": "execute_result"
    }
   ],
   "source": [
    "threading.current_thread().getName()"
   ]
  },
  {
   "cell_type": "markdown",
   "id": "412427d0",
   "metadata": {},
   "source": [
    "### d)\tConsulte o identificador de thead do thread atual"
   ]
  },
  {
   "cell_type": "code",
   "execution_count": 4,
   "id": "46eaee7c",
   "metadata": {},
   "outputs": [
    {
     "data": {
      "text/plain": [
       "3596"
      ]
     },
     "execution_count": 4,
     "metadata": {},
     "output_type": "execute_result"
    }
   ],
   "source": [
    "# numero que identifica uma thread\n",
    "threading.get_ident( ) "
   ]
  },
  {
   "cell_type": "markdown",
   "id": "c28d0422",
   "metadata": {},
   "source": [
    "### e)\tConsulte a quantidade de threads ativas atualmente"
   ]
  },
  {
   "cell_type": "code",
   "execution_count": 5,
   "id": "f85f53ab",
   "metadata": {},
   "outputs": [
    {
     "data": {
      "text/plain": [
       "5"
      ]
     },
     "execution_count": 5,
     "metadata": {},
     "output_type": "execute_result"
    }
   ],
   "source": [
    "# indica a quantidade de threads ativas\n",
    "threading.active_count()"
   ]
  },
  {
   "cell_type": "markdown",
   "id": "d7baa3e9",
   "metadata": {},
   "source": [
    "### f)\tRetorne uma lista com todos os threads ativos atualmente"
   ]
  },
  {
   "cell_type": "code",
   "execution_count": 6,
   "id": "3eb8faad",
   "metadata": {},
   "outputs": [
    {
     "data": {
      "text/plain": [
       "[<_MainThread(MainThread, started 3596)>,\n",
       " <Thread(Thread-4, started daemon 12560)>,\n",
       " <Heartbeat(Thread-5, started daemon 18116)>,\n",
       " <HistorySavingThread(IPythonHistorySavingThread, started 840)>,\n",
       " <ParentPollerWindows(Thread-3, started daemon 5928)>]"
      ]
     },
     "execution_count": 6,
     "metadata": {},
     "output_type": "execute_result"
    }
   ],
   "source": [
    "# mostra uma lista com todos os threads atualmente ativos\n",
    "threading.enumerate( ) "
   ]
  },
  {
   "cell_type": "markdown",
   "id": "de2ca68b",
   "metadata": {},
   "source": [
    "# 2.\tCrie duas funções, proc1 e proc2 que imprime a mensagem \"Processo 1\" e \"Processo 2\" respectivamente e siga as instruções:\n",
    "\n",
    "\n",
    "### a)\tInicialize as funções a partir de um objeto Thread t1 e t2 respectivamente\n",
    "\n",
    "\n",
    "\n"
   ]
  },
  {
   "cell_type": "code",
   "execution_count": 7,
   "id": "8afe72ea",
   "metadata": {},
   "outputs": [
    {
     "name": "stdout",
     "output_type": "stream",
     "text": [
      "processo 1\n",
      "processo 2\n"
     ]
    }
   ],
   "source": [
    "def proc1():\n",
    "    print('processo 1')\n",
    "    \n",
    "def proc2():\n",
    "    print('processo 2')\n",
    "    \n",
    "t1=Thread(target=proc1)\n",
    "t1.start()\n",
    "\n",
    "t2=Thread(target=proc2)\n",
    "t2.start()"
   ]
  },
  {
   "cell_type": "markdown",
   "id": "dce8b61b",
   "metadata": {},
   "source": [
    "### b)\tConsulte se os objetos criados estão ativos"
   ]
  },
  {
   "cell_type": "code",
   "execution_count": 8,
   "id": "e03dcca1",
   "metadata": {},
   "outputs": [
    {
     "data": {
      "text/plain": [
       "False"
      ]
     },
     "execution_count": 8,
     "metadata": {},
     "output_type": "execute_result"
    }
   ],
   "source": [
    "t1.is_alive()\n",
    "t2.is_alive()"
   ]
  },
  {
   "cell_type": "markdown",
   "id": "7ccf5b31",
   "metadata": {},
   "source": [
    "### c)\tImporte o modulo time e crie um delay de tempo em cada uma das funções, sendo sleep 5 e 30 segundos em proc1 e proc2 respectivamente"
   ]
  },
  {
   "cell_type": "code",
   "execution_count": 9,
   "id": "f71a46ec",
   "metadata": {},
   "outputs": [
    {
     "name": "stdout",
     "output_type": "stream",
     "text": [
      "processo 1\n",
      "processo 1\n",
      "processo 1\n",
      "processo 1\n",
      "processo 1\n",
      "processo 2\n",
      "processo 1\n",
      "processo 1\n",
      "processo 1\n",
      "processo 1\n",
      "processo 1\n",
      "processo 1\n",
      "processo 2\n",
      "processo 1\n",
      "processo 1\n",
      "processo 2\n"
     ]
    }
   ],
   "source": [
    "# inicializando um thread com funções e usando o módulo time\n",
    "from threading import Thread\n",
    "import time\n",
    "\n",
    "def proc1():\n",
    "    tempo_1 = 0\n",
    "    while tempo_1 < 13:\n",
    "        time.sleep(5)\n",
    "        tempo_1+=1\n",
    "        print('processo 1')\n",
    "        \n",
    "\n",
    "def proc2():\n",
    "    for tempo_2 in range(1,4):\n",
    "        time.sleep(30)\n",
    "        tempo_2 +=1  \n",
    "        print('processo 2')\n",
    "    \n",
    "\n",
    "t1=Thread(target=proc1)\n",
    "t1.start()\n",
    "\n",
    "t2=Thread(target=proc2)\n",
    "t2.start()"
   ]
  },
  {
   "cell_type": "markdown",
   "id": "340a508a",
   "metadata": {},
   "source": [
    "### d)\tConsulte rapidamente (antes de 30 segundos) se cada um dos objetos thread está ativo e imprima na tela"
   ]
  },
  {
   "cell_type": "code",
   "execution_count": 10,
   "id": "19809ae0",
   "metadata": {},
   "outputs": [],
   "source": [
    "t1=Thread(target=proc1)\n",
    "t1.start()\n",
    "\n",
    "t2=Thread(target=proc2)\n",
    "t2.start()"
   ]
  },
  {
   "cell_type": "code",
   "execution_count": 11,
   "id": "bb34ce61",
   "metadata": {},
   "outputs": [
    {
     "data": {
      "text/plain": [
       "True"
      ]
     },
     "execution_count": 11,
     "metadata": {},
     "output_type": "execute_result"
    },
    {
     "name": "stdout",
     "output_type": "stream",
     "text": [
      "processo 1\n",
      "processo 1\n",
      "processo 1\n",
      "processo 1\n",
      "processo 1\n",
      "processo 2\n",
      "processo 1\n",
      "processo 1\n",
      "processo 1\n",
      "processo 1\n",
      "processo 1\n",
      "processo 1\n",
      "processo 2\n",
      "processo 1\n",
      "processo 1\n",
      "processo 2\n"
     ]
    }
   ],
   "source": [
    "t1.is_alive()\n",
    "t2.is_alive()"
   ]
  },
  {
   "cell_type": "markdown",
   "id": "35d862b6",
   "metadata": {},
   "source": [
    "# 3.\tResponda as questões a seguir:\n",
    "\n",
    "### a)\tO que é o problema do produtor consumidor e como podemos resolver este problema com threads?\n",
    "\n",
    "\n"
   ]
  },
  {
   "cell_type": "markdown",
   "id": "9f3a873a",
   "metadata": {},
   "source": [
    "É um problema clásssico da computação na qual que  ocorre   comumente   em   sistemas   concorrentes   e   o   problema   se \n",
    "resume em administrar o buffer que tem tamanho limitado. Se o buffer está cheio, o produtor devese bloquear, se o buffer está \n",
    "vazio, o consumidor deve se bloquear. \n",
    "Uma boa forma de evitar problemas de concorrência é sincronizar as threads que compartilham dados entre si. \n",
    "A partir disso, estas threads passam a executar em sincronia com outras, e assim, uma por vez acessará o recurso. \n",
    "O sincronismo previne que duas ou mais threads acessem o mesmo recurso simultaneamente."
   ]
  },
  {
   "cell_type": "markdown",
   "id": "e1135aca",
   "metadata": {},
   "source": [
    "### b)\tIndique mais um problema clássico da computação e como podemos resolve-los com threads explicando de forma detalhada"
   ]
  },
  {
   "cell_type": "markdown",
   "id": "a5428ecf",
   "metadata": {},
   "source": [
    "### Problema do Barbeiro Dorminhoco: Retirado da página - http://cocic.cm.utfpr.edu.br/progconcorrente/doku.php?id=python#sleeping_barber\n",
    "\n",
    "##### Outro problema bastante conhecido é do Barbeiro Dorminhoco. Este problema é uma analogia a uma barbearia. Nesta barbearia, existe um barbeiro, e três cadeiras para os clientes cortarem o cabelo e esperarem sua vez. Enquanto nao houver clientes, o barbeiro dorme. Assim que chega um cliente, o barbeiro acorda e corta seu cabelo. Caso chegue mais clientes, eles sentam nas três cadeiras vagas e aguarda. Caso chegue outro cliente e não existe vaga nem pra cortar o cabelo e nem para esperar, ele vai embora. Assim que não houver mais clientes, o barbeiro volta a dormir. Abaixo, a implementação:"
   ]
  },
  {
   "cell_type": "code",
   "execution_count": 15,
   "id": "6e37e78d",
   "metadata": {},
   "outputs": [
    {
     "name": "stdout",
     "output_type": "stream",
     "text": [
      "BarberShop initilized with 3 seats\n",
      "Customer min interval 5\n",
      "Customer max interval 15\n",
      "Haircut min duration 3\n",
      "Haircut max duration 15\n",
      "---------------------------------------\n",
      "Barber shop is opening\n",
      "Aaah, all done, going to sleep\n",
      ">> Olla entered the shop and is looking for a seat\n",
      "Olla sat down in the waiting room\n",
      "Barber woke up\n",
      "Olla is having a haircut\n",
      ">> Solla entered the shop and is looking for a seat\n",
      "Solla sat down in the waiting room\n",
      "Olla is done\n",
      "Solla is having a haircut\n",
      ">> Mamma entered the shop and is looking for a seat\n",
      "Mamma sat down in the waiting room\n",
      "Solla is done\n",
      "Mamma is having a haircut\n",
      "Mamma is done\n",
      "Aaah, all done, going to sleep\n",
      ">> Agnar entered the shop and is looking for a seat\n",
      "Agnar sat down in the waiting room\n",
      "Barber woke up\n",
      "Agnar is having a haircut\n",
      ">> Andrea entered the shop and is looking for a seat\n",
      "Andrea sat down in the waiting room\n",
      "Agnar is done\n",
      "Andrea is having a haircut\n",
      "Andrea is done\n",
      "Aaah, all done, going to sleep\n",
      ">> Axel entered the shop and is looking for a seat\n",
      "Axel sat down in the waiting room\n",
      "Barber woke up\n",
      "Axel is having a haircut\n",
      ">> Iris entered the shop and is looking for a seat\n",
      "Iris sat down in the waiting room\n",
      "Axel is done\n",
      "Iris is having a haircut\n",
      ">> Auja entered the shop and is looking for a seat\n",
      "Auja sat down in the waiting room\n",
      "Iris is done\n",
      "Auja is having a haircut\n",
      "Auja is done\n",
      "Aaah, all done, going to sleep\n",
      ">> Bragi entered the shop and is looking for a seat\n",
      "Bragi sat down in the waiting room\n",
      "Barber woke up\n",
      "Bragi is having a haircut\n",
      "Bragi is done\n",
      "Aaah, all done, going to sleep\n"
     ]
    }
   ],
   "source": [
    "'''\n",
    "Código retirado de: http://cocic.cm.utfpr.edu.br/progconcorrente/doku.php?id=python#sleeping_barber\n",
    "\n",
    "que segundo a página, foi retirado de: https://github.com/bragisig/python-sleeping-barber/blob/master/sleeping_barber.py\n",
    "'''\n",
    "from threading import Thread, Lock, Event\n",
    "import time\n",
    "import random\n",
    " \n",
    "mutex = Lock()\n",
    " \n",
    "# algumas constantes, que sao o tempo de espera do cliente e o de duração do corte, em segundos\n",
    "customerIntervalMin = 5\n",
    "customerIntervalMax = 15\n",
    "haircutDurationMin = 3\n",
    "haircutDurationMax = 15\n",
    " \n",
    "'''\n",
    "classe principal\n",
    "'''\n",
    " \n",
    " \n",
    "class BarberShop:\n",
    "    waitingCustomers = []\n",
    " \n",
    "    #construtor, que passa por parâmetro o barbeiro e a quantidade de cadeira para os clientes aguardarem\n",
    "    def __init__(self, barber, number_of_seats):\n",
    "        self.barber = barber\n",
    "        self.numberOfSeats = number_of_seats\n",
    "        print('BarberShop initilized with {0} seats'.format(number_of_seats))\n",
    "        print('Customer min interval {0}'.format(customerIntervalMin))\n",
    "        print('Customer max interval {0}'.format(customerIntervalMax))\n",
    "        print('Haircut min duration {0}'.format(haircutDurationMin))\n",
    "        print('Haircut max duration {0}'.format(customerIntervalMax))\n",
    "        print('---------------------------------------')\n",
    " \n",
    "    #inicia a barbearia\n",
    "    def open_shop(self):\n",
    "        print('Barber shop is opening')\n",
    "        working_thread = Thread(target=self.barber_go_to_work) \n",
    "        working_thread.start() #inicia a thread do barbeiro\n",
    " \n",
    "    def barber_go_to_work(self):\n",
    "        while True:\n",
    "            mutex.acquire() #realiza o bloqueio\n",
    " \n",
    "            #verifica se há clientes esperando\n",
    "            if len(self.waitingCustomers) > 0:\n",
    "                c = self.waitingCustomers[0]\n",
    "                del self.waitingCustomers[0]\n",
    "                mutex.release()\n",
    "                self.barber.cut_hair(c)\n",
    "            else:\n",
    "                mutex.release()\n",
    "                print('Aaah, all done, going to sleep')\n",
    "                barber.sleep()#caso nao haja cliente, barbeiro volta a dormir\n",
    "                print('Barber woke up')\n",
    " \n",
    "    #cliente entra na barbearia\n",
    "    def enter_barber_shop(self, customer):\n",
    "        mutex.acquire() #faz o bloqueio\n",
    "        print('>> {0} entered the shop and is looking for a seat'.format(customer.name))\n",
    " \n",
    "        #verifica se há cadeiras vagas para aguardar\n",
    "        if len(self.waitingCustomers) == self.numberOfSeats:\n",
    "            print('Waiting room is full, {0} is leaving.'.format(customer.name))\n",
    "            mutex.release()\n",
    "        else:\n",
    "            print('{0} sat down in the waiting room'.format(customer.name))\n",
    "            self.waitingCustomers.append(c) #caso há cadeiras para sentar, entra pra lista de espera\n",
    "            mutex.release() #desbloqueia\n",
    "            barber.wake_up() #acorda o barbeiro\n",
    " \n",
    " \n",
    "class Customer:\n",
    "    def __init__(self, name):\n",
    "        self.name = name\n",
    " \n",
    " \n",
    "class Barber:\n",
    "    barberWorkingEvent = Event()\n",
    " \n",
    "    def sleep(self):\n",
    "        self.barberWorkingEvent.wait()\n",
    " \n",
    "    def wake_up(self):\n",
    "        self.barberWorkingEvent.set()\n",
    " \n",
    "    def cut_hair(self, customer):\n",
    "        # Set barber as busy\n",
    "        self.barberWorkingEvent.clear()\n",
    " \n",
    "        print('{0} is having a haircut'.format(customer.name))\n",
    " \n",
    "        random_hair_cutting_time = random.randrange(haircutDurationMin, haircutDurationMax + 1)\n",
    "        time.sleep(random_hair_cutting_time)\n",
    "        print('{0} is done'.format(customer.name))\n",
    " \n",
    " \n",
    "if __name__ == '__main__':\n",
    " \n",
    "    customers = list([])\n",
    "    customers.append(Customer('Bragi'))\n",
    "    customers.append(Customer('Auja'))\n",
    "    customers.append(Customer('Iris'))\n",
    "    customers.append(Customer('Axel'))\n",
    "    customers.append(Customer('Andrea'))\n",
    "    customers.append(Customer('Agnar'))\n",
    "    customers.append(Customer('Mamma'))\n",
    "    customers.append(Customer('Solla'))\n",
    "    customers.append(Customer('Olla'))\n",
    " \n",
    "    barber = Barber()\n",
    " \n",
    "    barberShop = BarberShop(barber, 3)\n",
    "    barberShop.open_shop()\n",
    " \n",
    "    while len(customers) > 0:\n",
    "        c = customers.pop()\n",
    "        barberShop.enter_barber_shop(c)\n",
    "        customerInterval = random.randrange(customerIntervalMin, customerIntervalMax + 1)\n",
    "        time.sleep(customerInterval)"
   ]
  },
  {
   "cell_type": "markdown",
   "id": "c3669bf0",
   "metadata": {},
   "source": [
    "A barbearia se inicia assim que a função open_shop() é chamada, iniciando a thread do barbeiro. Dessa forma, a verificação de clientes na barbearia sempre é feita. Então, o mutex é bloqueado. Caso haja clientes, o mutex é desbloqueado e o cabelo do cliente é cortado. Caso nao haja clientes, o mutex é desbloqueado e o barbeiro volta a dormir. Quando um cliente entra na barbearia, o mutex é bloqueado. Então, ocorre a verificação se há cadeiras livres para o cliente sentar. Caso nao haja, o cliente vai embora e o mutex é desbloqueado. Caso haja, o cliente senta e espera, o mutex é desbloqueado e o barbeiro acordado. A classe do barbeiro, trabalha em cima de eventos. Assim que a função sleep() é chamada, o evento é setado para wait(). A função wake_up() utiliza o método set() do evento, fazendo com que a flag deste evento se torne verdadeira. A função cut_hair() seta o evento para clear(), que significa que a flag agora é falsa. A execução do código acima gera a seguinte saída:\n",
    "\n",
    "Resultado\n",
    "BarberShop initilized with 3 seats\n",
    "\n",
    "Customer min interval 5\n",
    "\n",
    "Customer max interval 15\n",
    "\n",
    "Haircut min duration 3\n",
    "\n",
    "Haircut max duration 15\n",
    "\n",
    "Barber shop is opening\n",
    "\n",
    "Aaah, all done, going to sleep\n",
    "\n",
    "Olla entered the shop and is looking for a seat\n",
    "Olla sat down in the waiting room\n",
    "\n",
    "Barber woke up\n",
    "\n",
    "Olla is having a haircut\n",
    "\n",
    "Olla is done\n",
    "\n",
    "Aaah, all done, going to sleep\n",
    "\n",
    "Solla entered the shop and is looking for a seat\n",
    "Solla sat down in the waiting room\n",
    "\n",
    "Barber woke up\n",
    "\n",
    "Solla is having a haircut\n",
    "\n",
    "Mamma entered the shop and is looking for a seat\n",
    "Mamma sat down in the waiting room\n",
    "\n",
    "Solla is done\n",
    "\n",
    "Agnar entered the shop and is looking for a seat\n",
    "Agnar sat down in the waiting room\n",
    "\n",
    "Mamma is having a haircut\n",
    "\n",
    "Mamma is done\n",
    "\n",
    "Agnar is having a haircut\n",
    "\n",
    "Andrea entered the shop and is looking for a seat\n",
    "Andrea sat down in the waiting room\n",
    "\n",
    "Agnar is done\n",
    "\n",
    "Andrea is having a haircut\n",
    "\n",
    "Axel entered the shop and is looking for a seat\n",
    "Axel sat down in the waiting room\n",
    "\n",
    "Andrea is done\n",
    "\n",
    "Axel is having a haircut\n",
    "\n",
    "Axel is done\n",
    "\n",
    "Aaah, all done, going to sleep\n",
    "\n",
    "Iris entered the shop and is looking for a seat\n",
    "Iris sat down in the waiting room\n",
    "\n",
    "Barber woke up\n",
    "\n",
    "Iris is having a haircut\n",
    "\n",
    "Iris is done\n",
    "\n",
    "Aaah, all done, going to sleep\n",
    "\n",
    "Auja entered the shop and is looking for a seat\n",
    "Auja sat down in the waiting room\n",
    "\n",
    "Barber woke up\n",
    "\n",
    "Auja is having a haircut\n",
    "\n",
    "Bragi entered the shop and is looking for a seat\n",
    "Bragi sat down in the waiting room\n",
    "\n",
    "Auja is done\n",
    "\n",
    "Bragi is having a haircut\n",
    "\n",
    "Bragi is done\n",
    "\n",
    "Aaah, all done, going to sleep\n",
    "\n",
    "Conclusões\n",
    "Python possui diversas características interessantes para alcançar paralelismo."
   ]
  },
  {
   "cell_type": "markdown",
   "id": "1da5553d",
   "metadata": {},
   "source": [
    "# 4.\tEm relação aos objetos em Threads, complete a tabela a seguir:"
   ]
  },
  {
   "cell_type": "markdown",
   "id": "58fe15f5",
   "metadata": {},
   "source": [
    "### OBJETO -->\tDESCRIÇÃO\t// COMANDO DE INICIALIZAÇÃO\n",
    "\n",
    "##### Thread\t-->\tObjeto que representa um único thread de execução. //  threading.Thread()\n",
    "\n",
    "##### Lock\t-->\tObjeto de bloqueio primitivo. // threading.Lock()\n",
    "\n",
    "##### RLock\t-->\tO objeto de bloqueio RLock ou Reentrante fornece capacidade para um único thread (re) adquirir um bloqueio já mantido (bloqueio recursivo). //\t threading.RLock()\n",
    "\n",
    "##### Condition\t--> Objeto de variável de condição faz com que um thread espere até que certa \"condição\" seja satisfeita por outro thread (como mudança de estado ou algum valor de dados). //\t threading.Condition()\n",
    "\n",
    "##### Event\t\t-->\tÉ uma versão mais geral das variáveis de condição, em que várias threads podem ser feitas para aguardar a ocorrência de algum evento e todas as threads em espera só serão ativadas quando o evento acontecer. //  threading.Event()\n",
    "\n",
    "##### Semaphore\t--> Fornece um \"contador\" de recursos finitos compartilhados entre blocos de threads quando nenhum está disponível. //  threading.Semaphore()\n",
    "\n",
    "##### BoundedSemaphore \t-->\tSemelhante a um semáforo, mas garante que nunca exceda seu valor inicial. //  threading.BoundedSemaphore() \n",
    "\n",
    "##### Timer\t\t-->\tSemelhante ao Thread, exceto que ele espera por um período de tempo especificado antes\n",
    "##### de ser executado. //  threading.Timer()\n",
    "\n",
    "##### Barrier\t\t-->\tCria uma \"barreira\" na qual um número especificado de threads deve chegar antes que todos\n",
    "##### tenham permissão para continuar. //  threading.Barrier()\n"
   ]
  },
  {
   "cell_type": "code",
   "execution_count": null,
   "id": "560f1ab0",
   "metadata": {},
   "outputs": [],
   "source": []
  }
 ],
 "metadata": {
  "kernelspec": {
   "display_name": "Python 3",
   "language": "python",
   "name": "python3"
  },
  "language_info": {
   "codemirror_mode": {
    "name": "ipython",
    "version": 3
   },
   "file_extension": ".py",
   "mimetype": "text/x-python",
   "name": "python",
   "nbconvert_exporter": "python",
   "pygments_lexer": "ipython3",
   "version": "3.8.8"
  }
 },
 "nbformat": 4,
 "nbformat_minor": 5
}
