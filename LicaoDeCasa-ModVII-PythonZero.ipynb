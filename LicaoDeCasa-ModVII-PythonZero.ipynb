{
 "cells": [
  {
   "cell_type": "code",
   "execution_count": 1,
   "id": "2ac4dec8",
   "metadata": {},
   "outputs": [],
   "source": [
    "import time"
   ]
  },
  {
   "cell_type": "markdown",
   "id": "522647d5",
   "metadata": {},
   "source": [
    "### 1.\tEscreva scripts para mostrar os diversos formatos de tempo conforme se segue:"
   ]
  },
  {
   "cell_type": "markdown",
   "id": "0ec0a0ef",
   "metadata": {},
   "source": [
    "a)\tImpressão da época padrão"
   ]
  },
  {
   "cell_type": "code",
   "execution_count": 2,
   "id": "b5b9b4d1",
   "metadata": {},
   "outputs": [
    {
     "data": {
      "text/plain": [
       "time.struct_time(tm_year=1970, tm_mon=1, tm_mday=1, tm_hour=0, tm_min=0, tm_sec=0, tm_wday=3, tm_yday=1, tm_isdst=0)"
      ]
     },
     "execution_count": 2,
     "metadata": {},
     "output_type": "execute_result"
    }
   ],
   "source": [
    "time.gmtime(0)"
   ]
  },
  {
   "cell_type": "markdown",
   "id": "6915d521",
   "metadata": {},
   "source": [
    "b)\tSegundos que se passaram desde a época"
   ]
  },
  {
   "cell_type": "code",
   "execution_count": 3,
   "id": "e53e6d8f",
   "metadata": {},
   "outputs": [
    {
     "name": "stdout",
     "output_type": "stream",
     "text": [
      "Desde a época, se passaram: 1651739708.8466237 segundos.\n"
     ]
    }
   ],
   "source": [
    "seconds = time.time()\n",
    "print(\"Desde a época, se passaram:\", seconds, \"segundos.\")"
   ]
  },
  {
   "cell_type": "markdown",
   "id": "916575b2",
   "metadata": {},
   "source": [
    "c)\tImprime dados do tempo no momento atual"
   ]
  },
  {
   "cell_type": "code",
   "execution_count": 4,
   "id": "ddfaf6f4",
   "metadata": {},
   "outputs": [
    {
     "name": "stdout",
     "output_type": "stream",
     "text": [
      "Tempo local: Thu May  5 05:35:08 2022\n"
     ]
    }
   ],
   "source": [
    "local_time = time.ctime(seconds)\n",
    "print(\"Tempo local:\", local_time)"
   ]
  },
  {
   "cell_type": "markdown",
   "id": "04f3e269",
   "metadata": {},
   "source": [
    "d)\tCria um objeto time.localtime() e imprime o valor das horas, minutos e segundos"
   ]
  },
  {
   "cell_type": "code",
   "execution_count": 5,
   "id": "10025eb1",
   "metadata": {},
   "outputs": [
    {
     "name": "stdout",
     "output_type": "stream",
     "text": [
      "time.struct_time(tm_year=2022, tm_mon=5, tm_mday=5, tm_hour=5, tm_min=35, tm_sec=9, tm_wday=3, tm_yday=125, tm_isdst=0)\n"
     ]
    }
   ],
   "source": [
    "a = time.localtime()\n",
    "print(a)"
   ]
  },
  {
   "cell_type": "code",
   "execution_count": 6,
   "id": "e4e42237",
   "metadata": {},
   "outputs": [
    {
     "name": "stdout",
     "output_type": "stream",
     "text": [
      "5h, 35min e 9seg\n"
     ]
    }
   ],
   "source": [
    "print('{}h, {}min e {}seg'.format(a[3],a[4],a[5]))"
   ]
  },
  {
   "cell_type": "markdown",
   "id": "61daab68",
   "metadata": {},
   "source": [
    "e)\tImprime se no momento atual estamos em horário de verão ou não"
   ]
  },
  {
   "cell_type": "code",
   "execution_count": 7,
   "id": "c403946d",
   "metadata": {},
   "outputs": [
    {
     "name": "stdout",
     "output_type": "stream",
     "text": [
      "Ainda não estamos no horário de verão\n"
     ]
    }
   ],
   "source": [
    "horario_verao = a[8]\n",
    "if horario_verao == 0:\n",
    "    print(\"Ainda não estamos no horário de verão\")\n",
    "else:\n",
    "    print(\"Atenção, estamos no horário de verão!\")"
   ]
  },
  {
   "cell_type": "markdown",
   "id": "d3a70f93",
   "metadata": {},
   "source": [
    "### 2.\tEscreva um programa para imprimir uma string \"Olá, mundo!\" cinco vezes, em que cada uma das impressões demore três segundos entre uma e outra"
   ]
  },
  {
   "cell_type": "code",
   "execution_count": 8,
   "id": "3d63d2b7",
   "metadata": {},
   "outputs": [
    {
     "name": "stdout",
     "output_type": "stream",
     "text": [
      "hello word!\n",
      "hello word!\n",
      "hello word!\n",
      "hello word!\n",
      "hello word!\n"
     ]
    }
   ],
   "source": [
    "t=0\n",
    "while t<5:\n",
    "    t+=1\n",
    "    time.sleep(3)\n",
    "    print(\"hello word!\")"
   ]
  },
  {
   "cell_type": "markdown",
   "id": "b28e6172",
   "metadata": {},
   "source": [
    "### 3.\tAdapte o programa acima para calcular o tempo de processamento do script. Utilize time.time() e perf_counter() para apresentar a variação do tempo"
   ]
  },
  {
   "cell_type": "code",
   "execution_count": 9,
   "id": "40f0757b",
   "metadata": {},
   "outputs": [
    {
     "name": "stdout",
     "output_type": "stream",
     "text": [
      "hello word!\n",
      "hello word!\n",
      "hello word!\n",
      "hello word!\n",
      "hello word!\n",
      "Tempo decorrido durante todo o programa: 15.03 seg\n"
     ]
    }
   ],
   "source": [
    "#importando o módulo perf_counter\n",
    "from time import perf_counter \n",
    "\n",
    "#crinado a variavel de inicio de execução\n",
    "t1_start = perf_counter() \n",
    "\n",
    "#execução do programa\n",
    "t=0\n",
    "while t<5:\n",
    "    t+=1\n",
    "    time.sleep(3)\n",
    "    print(\"hello word!\")\n",
    "\n",
    "\n",
    "#criando a variavel de fim de execução\n",
    "t2_stop = perf_counter() \n",
    "\n",
    "print(\"Tempo decorrido durante todo o programa: {:.2f} seg\".format(t2_stop-t1_start)) "
   ]
  },
  {
   "cell_type": "markdown",
   "id": "1d052604",
   "metadata": {},
   "source": [
    "### 4.\tEscreva um programa para obter uma lista de datas entre duas datas. Considere o passo de um dia e reproduza o intervalo das datas entre 16/10/87 e 25/10/87"
   ]
  },
  {
   "cell_type": "code",
   "execution_count": 10,
   "id": "1201dc9f",
   "metadata": {},
   "outputs": [
    {
     "name": "stdout",
     "output_type": "stream",
     "text": [
      "1987-10-17\n",
      "1987-10-18\n",
      "1987-10-19\n",
      "1987-10-20\n",
      "1987-10-21\n",
      "1987-10-22\n",
      "1987-10-23\n",
      "1987-10-24\n"
     ]
    }
   ],
   "source": [
    "#importando timedelta\n",
    "import datetime\n",
    "\n",
    "# Definindo o tamanho de cada passo em dias\n",
    "day_delta = datetime.timedelta(days=1)\n",
    "\n",
    "#neste caso estou obtendo uma lista de datas excluindo as datas inicial e final proposta na atividade.\n",
    "primeira_data = datetime.date(1987,10,17)\n",
    "ultima_data = datetime.date(1987,10,25)\n",
    "\n",
    "for i in range((ultima_data - primeira_data).days):\n",
    "    lista_datas = primeira_data + i*day_delta\n",
    "    print(lista_datas)\n"
   ]
  },
  {
   "cell_type": "markdown",
   "id": "e1b856b8",
   "metadata": {},
   "source": [
    "### 5.\tEscreva scripts para mostrar os diversos formatos de data e tempo conforme se segue:\n",
    "\n",
    "a)\tData e hora atual"
   ]
  },
  {
   "cell_type": "code",
   "execution_count": 11,
   "id": "2f3dd811",
   "metadata": {},
   "outputs": [
    {
     "name": "stdout",
     "output_type": "stream",
     "text": [
      "2022-05-05 05:35:41.203629\n"
     ]
    }
   ],
   "source": [
    "# armazenando a data de hoje\n",
    "hoje = datetime.datetime.today()\n",
    "print(hoje)"
   ]
  },
  {
   "cell_type": "markdown",
   "id": "d1c63ca3",
   "metadata": {},
   "source": [
    "b)\tAno atual"
   ]
  },
  {
   "cell_type": "code",
   "execution_count": 12,
   "id": "196b0bb1",
   "metadata": {},
   "outputs": [
    {
     "name": "stdout",
     "output_type": "stream",
     "text": [
      "2022\n"
     ]
    }
   ],
   "source": [
    "print(hoje.year)"
   ]
  },
  {
   "cell_type": "markdown",
   "id": "274a289b",
   "metadata": {},
   "source": [
    "c)\tMês atual"
   ]
  },
  {
   "cell_type": "code",
   "execution_count": 13,
   "id": "c14faa9e",
   "metadata": {},
   "outputs": [
    {
     "name": "stdout",
     "output_type": "stream",
     "text": [
      "5\n"
     ]
    }
   ],
   "source": [
    "print(hoje.month)"
   ]
  },
  {
   "cell_type": "markdown",
   "id": "4824f955",
   "metadata": {},
   "source": [
    "d)\tNúmero da semana do ano"
   ]
  },
  {
   "cell_type": "code",
   "execution_count": 14,
   "id": "082a6355",
   "metadata": {},
   "outputs": [
    {
     "name": "stdout",
     "output_type": "stream",
     "text": [
      "18\n"
     ]
    }
   ],
   "source": [
    "print(hoje.strftime('%U'))"
   ]
  },
  {
   "cell_type": "markdown",
   "id": "f1859c13",
   "metadata": {},
   "source": [
    "e)\tDia atual da semana"
   ]
  },
  {
   "cell_type": "code",
   "execution_count": 15,
   "id": "e2bfd59f",
   "metadata": {},
   "outputs": [
    {
     "name": "stdout",
     "output_type": "stream",
     "text": [
      "4\n"
     ]
    }
   ],
   "source": [
    "print(hoje.strftime('%w'))"
   ]
  },
  {
   "cell_type": "markdown",
   "id": "fa594b7b",
   "metadata": {},
   "source": [
    "f)\tDia do ano"
   ]
  },
  {
   "cell_type": "code",
   "execution_count": 16,
   "id": "ffbd518d",
   "metadata": {},
   "outputs": [
    {
     "name": "stdout",
     "output_type": "stream",
     "text": [
      "125\n"
     ]
    }
   ],
   "source": [
    "print(hoje.strftime('%j'))"
   ]
  },
  {
   "cell_type": "markdown",
   "id": "0dd2d5cd",
   "metadata": {},
   "source": [
    "g)\tDia do mês"
   ]
  },
  {
   "cell_type": "code",
   "execution_count": 17,
   "id": "f43d911c",
   "metadata": {},
   "outputs": [
    {
     "name": "stdout",
     "output_type": "stream",
     "text": [
      "05\n"
     ]
    }
   ],
   "source": [
    "print(hoje.strftime('%d'))"
   ]
  },
  {
   "cell_type": "markdown",
   "id": "4fc06c41",
   "metadata": {},
   "source": [
    "h)\tDia da semana"
   ]
  },
  {
   "cell_type": "code",
   "execution_count": 18,
   "id": "909e793a",
   "metadata": {},
   "outputs": [
    {
     "name": "stdout",
     "output_type": "stream",
     "text": [
      "Thu\n"
     ]
    }
   ],
   "source": [
    "print(hoje.strftime('%a'))"
   ]
  },
  {
   "cell_type": "markdown",
   "id": "8c4e6166",
   "metadata": {},
   "source": [
    "### 6.\tEscreva um programa Python capaz de converter uma string em data e hora.\n",
    "•\tString de exemplo: 01 de janeiro de 2021 13h53\n",
    "\n",
    "•\tResultado esperado: 2021-01-01 13:53:00"
   ]
  },
  {
   "cell_type": "code",
   "execution_count": 19,
   "id": "b9739759",
   "metadata": {},
   "outputs": [
    {
     "name": "stdout",
     "output_type": "stream",
     "text": [
      "01 Jan 2021 13h53\n",
      "01 Jan 2021 13:53\n",
      "01 Jan 2021 13:53PM \n",
      "\n",
      "2021-01-01 13:53:00\n"
     ]
    }
   ],
   "source": [
    "from datetime import datetime\n",
    "\n",
    "dateString = \"01 de janeiro de 2021 13h53\"\n",
    "\n",
    "if 'janeiro' in dateString:\n",
    "    dateString = dateString.replace('janeiro','Jan')\n",
    "if 'fevereiro' in dateString:\n",
    "    dateString = dateString.replace('fevereiro','Fev')\n",
    "if 'março' in dateString:\n",
    "    dateString = dateString.replace('março','Mar')\n",
    "if 'abril' in dateString:\n",
    "    dateString = dateString.replace('abril','Apr')\n",
    "if 'maio' in dateString:\n",
    "    dateString = dateString.replace('maio','May')\n",
    "if 'junho' in dateString:\n",
    "    dateString = dateString.replace('junho','Jun')\n",
    "if 'julho' in dateString:\n",
    "    dateString = dateString.replace('julho','Jul')\n",
    "if 'agosto' in dateString:\n",
    "    dateString = dateString.replace('agosto','Aug')\n",
    "if 'setembro' in dateString:\n",
    "    dateString = dateString.replace('setembro','Sep')\n",
    "if 'outubro' in dateString:\n",
    "    dateString = dateString.replace('outubro','Oct')\n",
    "if 'novembro' in dateString:\n",
    "    dateString = dateString.replace('novembro','Nov')\n",
    "if 'dezembro' in dateString:\n",
    "    dateString = dateString.replace('dezembro','Dec')\n",
    "\n",
    "\n",
    "\n",
    "dateStringFormatada = dateString.replace(' de ', ' ')\n",
    "print(dateStringFormatada)\n",
    "dateString_NovamenteFormatada = dateStringFormatada.replace('h', ':')\n",
    "print(dateString_NovamenteFormatada)\n",
    "dateStringFormatada_Final = dateString_NovamenteFormatada.replace('53', '53PM')\n",
    "print(dateStringFormatada_Final,'\\n')\n",
    "\n",
    "dateConvert = datetime.strptime(dateStringFormatada_Final, '%d %b %Y %H:%M%p')\n",
    "print(dateConvert)"
   ]
  },
  {
   "cell_type": "code",
   "execution_count": 20,
   "id": "9afa8edf",
   "metadata": {},
   "outputs": [
    {
     "name": "stdout",
     "output_type": "stream",
     "text": [
      "2005-06-01 13:33:00\n"
     ]
    }
   ],
   "source": [
    "#apenas para portifólio\n",
    "from datetime import datetime\n",
    "\n",
    "data_str = 'Jun 1 2005 1:33PM'\n",
    "\n",
    "data_obj = datetime.strptime(data_str, '%b %d %Y %I:%M%p')\n",
    "\n",
    "print(data_obj)"
   ]
  },
  {
   "cell_type": "code",
   "execution_count": 21,
   "id": "fee3b023",
   "metadata": {},
   "outputs": [
    {
     "name": "stdout",
     "output_type": "stream",
     "text": [
      "23/outubro/2022\n",
      "23/out/2022\n"
     ]
    }
   ],
   "source": [
    "#apenas para portifólio\n",
    "import locale\n",
    "import datetime\n",
    "\n",
    "locale.setlocale(locale.LC_ALL, 'pt_pt.UTF-8')\n",
    "date_convert_one = datetime.datetime.strptime('23/10/2022', '%d/%m/%Y').strftime('%d/%B/%Y')\n",
    "# '23/Outubro/2022'\n",
    "print(date_convert_one)\n",
    "\n",
    "date_convert_two = datetime.datetime.strptime('23/10/2022', '%d/%m/%Y').strftime('%d/%b/%Y')\n",
    "# '23/Out/2022'\n",
    "print(date_convert_two)"
   ]
  },
  {
   "cell_type": "markdown",
   "id": "dfd51ba5",
   "metadata": {},
   "source": [
    "### 7.\tEscreva um programa Python para subtrair 8 dias da data atual.\n",
    "•\tData atual: 25/01/2021\n",
    "    \n",
    "•\tData esperada: 17/01/2021"
   ]
  },
  {
   "cell_type": "code",
   "execution_count": 22,
   "id": "dab81459",
   "metadata": {},
   "outputs": [
    {
     "name": "stdout",
     "output_type": "stream",
     "text": [
      "Oito dias atrás era dia: 2021-01-17.\n"
     ]
    }
   ],
   "source": [
    "import datetime\n",
    "\n",
    "data_atual = datetime.date(2021,1,25)\n",
    "nova_data = data_atual - datetime.timedelta(days=8)\n",
    "print('Oito dias atrás era dia: {}.'.format(nova_data))"
   ]
  },
  {
   "cell_type": "markdown",
   "id": "fd6e25ea",
   "metadata": {},
   "source": [
    "### 8.\tEscreva um programa Python para calcular o número de dias entre dois datetimes. A diferença entre os dias deve ser igual a 10."
   ]
  },
  {
   "cell_type": "code",
   "execution_count": 23,
   "id": "d981acdc",
   "metadata": {},
   "outputs": [
    {
     "name": "stdout",
     "output_type": "stream",
     "text": [
      "10\n"
     ]
    }
   ],
   "source": [
    "# calculando a difereça entre dias\n",
    "b1 = datetime.timedelta(days=15)\n",
    "b2 = datetime.timedelta(days=25)\n",
    "b3 = b2-b1\n",
    "print(b3.days)"
   ]
  },
  {
   "cell_type": "markdown",
   "id": "06eccda9",
   "metadata": {},
   "source": [
    "### 9.\tFaça um programa que calcule a diferença em dias entre antes de ontem e depois de amanhã."
   ]
  },
  {
   "cell_type": "code",
   "execution_count": 24,
   "id": "534e5d14",
   "metadata": {},
   "outputs": [
    {
     "name": "stdout",
     "output_type": "stream",
     "text": [
      "4\n"
     ]
    }
   ],
   "source": [
    "# calculando a diferença entre antes de ontem e depois de amanhã\n",
    "hoje = datetime.date.today()\n",
    "anteontem = (hoje.day) - 2 \n",
    "depois_de_amanha = (hoje.day) + 2\n",
    "delta_dias = depois_de_amanha - anteontem\n",
    "print(delta_dias)"
   ]
  }
 ],
 "metadata": {
  "kernelspec": {
   "display_name": "Python 3",
   "language": "python",
   "name": "python3"
  },
  "language_info": {
   "codemirror_mode": {
    "name": "ipython",
    "version": 3
   },
   "file_extension": ".py",
   "mimetype": "text/x-python",
   "name": "python",
   "nbconvert_exporter": "python",
   "pygments_lexer": "ipython3",
   "version": "3.8.8"
  }
 },
 "nbformat": 4,
 "nbformat_minor": 5
}
